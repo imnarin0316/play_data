{
 "cells": [
  {
   "cell_type": "code",
   "execution_count": 2,
   "id": "63577520",
   "metadata": {},
   "outputs": [
    {
     "data": {
      "text/plain": [
       "11"
      ]
     },
     "execution_count": 2,
     "metadata": {},
     "output_type": "execute_result"
    }
   ],
   "source": [
    "1+10"
   ]
  },
  {
   "cell_type": "code",
   "execution_count": null,
   "id": "4aceb55c",
   "metadata": {},
   "outputs": [],
   "source": []
  },
  {
   "cell_type": "markdown",
   "id": "fa4f00cd",
   "metadata": {},
   "source": [
    "20+30"
   ]
  },
  {
   "cell_type": "markdown",
   "id": "965f3cc9",
   "metadata": {},
   "source": [
    "<h1>안녕</h1>\n",
    "\n",
    "# 하이\n",
    "## 작게\n",
    "### 더작게\n",
    "\n",
    "- 숫자\n",
    "- 글 입력 **중요한내용** *기울여* 보겠습니다.\n"
   ]
  },
  {
   "cell_type": "code",
   "execution_count": null,
   "id": "a1c5af3d",
   "metadata": {},
   "outputs": [],
   "source": []
  }
 ],
 "metadata": {
  "kernelspec": {
   "display_name": "Python 3 (ipykernel)",
   "language": "python",
   "name": "python3"
  },
  "language_info": {
   "codemirror_mode": {
    "name": "ipython",
    "version": 3
   },
   "file_extension": ".py",
   "mimetype": "text/x-python",
   "name": "python",
   "nbconvert_exporter": "python",
   "pygments_lexer": "ipython3",
   "version": "3.11.4"
  }
 },
 "nbformat": 4,
 "nbformat_minor": 5
}
