{
 "cells": [
  {
   "cell_type": "code",
   "execution_count": null,
   "metadata": {},
   "outputs": [],
   "source": [
    "\"/A/B/C\"\n",
    "r\"C:\\a\\b\\c\"\n",
    "\n",
    "\"a.txt\"\n",
    "\"A/B/C\""
   ]
  },
  {
   "cell_type": "markdown",
   "metadata": {
    "slideshow": {
     "slide_type": "slide"
    }
   },
   "source": [
    "# Path (경로)\n",
    "\n",
    "- **경로(Path)**\n",
    "    - 프로그램에서 사용할 **자원의 위치를 path(경로)** 라고 한다.\n",
    "    - **파일 시스템**에서는 파일이나 디렉토리가 있는 위치의 경로를 말한다.\n",
    "    "
   ]
  },
  {
   "cell_type": "markdown",
   "metadata": {
    "slideshow": {
     "slide_type": "slide"
    }
   },
   "source": [
    "- **절대경로**\n",
    "    - 자원의 전체 경로를 표현하는 방식\n",
    "    - 시작 경로부터 자원(파일, 디렉토리)이 있는 위치까지 표현한다.\n",
    "        - 시작 경로: Root Path\n",
    "            - windows: `c:`, `d:`\n",
    "            - Unix, Linux: `/`"
   ]
  },
  {
   "cell_type": "markdown",
   "metadata": {
    "slideshow": {
     "slide_type": "fragment"
    }
   },
   "source": [
    "- **상대경로**\n",
    "    - 현재 작업 경로(위치)에서 부터 자원이 있는 위치까지 표현한다.\n",
    "        - 시작 경로: 현재 작업경로\n",
    "    - 구문\n",
    "        - `.` : 현재 디렉토리\n",
    "        - `..`: 상위 디렉토리\n",
    "        - `/` : 경로 구분자,  상위경로/하위경로"
   ]
  },
  {
   "cell_type": "markdown",
   "metadata": {
    "slideshow": {
     "slide_type": "fragment"
    }
   },
   "source": [
    "- 운영체제(O/S)별 경로구분자\n",
    "    - 윈도우즈: `\\` (역슬래쉬)\n",
    "    - 리눅스/유닉스: `/` (슬래쉬)"
   ]
  },
  {
   "cell_type": "code",
   "execution_count": 4,
   "metadata": {},
   "outputs": [
    {
     "name": "stdout",
     "output_type": "stream",
     "text": [
      "c:\\tlasses\\01_python\\calculater.py\n",
      "c:\\tlasses\\01_python\\calculater.py\n"
     ]
    }
   ],
   "source": [
    "# 경로를 문자열로 표시\n",
    "file_path1 = \"c:\\\\tlasses\\\\01_python\\\\calculater.py\"  #절대경로\n",
    "file_path2 = r\"c:\\tlasses\\01_python\\calculater.py\"  #r-string: escape 문자 처리를 안함.\n",
    "print(file_path1)\n",
    "print(file_path2)"
   ]
  },
  {
   "cell_type": "code",
   "execution_count": null,
   "metadata": {},
   "outputs": [],
   "source": [
    "file_path3 = \"/src/python/a.py\" #  절대경로\n",
    "file_path4 = \"./python/a.py\"  # 상대경로. \n",
    "file_path5 = \"python/a.py\"  # 상대경로.   시작의 `./`는 생략 가능\n",
    "file_path6 = \"calculater.py\" \n",
    "# 상대경로 -> ./calculater.py에서 `./`를 생략. 현재 디렉토리에 있는 calculater.py"
   ]
  },
  {
   "cell_type": "code",
   "execution_count": null,
   "metadata": {
    "slideshow": {
     "slide_type": "fragment"
    }
   },
   "outputs": [],
   "source": [
    "# 현재 경로 -> working directory\n",
    "## => 현재 실행중인 프로그램의 위치\n",
    "###  주피터노트북-> 노트북파일의 위치\n",
    "### script 파일 실행 -> script 파일의 위치"
   ]
  },
  {
   "cell_type": "code",
   "execution_count": 1,
   "metadata": {},
   "outputs": [
    {
     "name": "stdout",
     "output_type": "stream",
     "text": [
      "<class 'str'> C:\\classes\\01_Python\n"
     ]
    }
   ],
   "source": [
    "# 현재 working directory 조회\n",
    "import os\n",
    "cwd = os.getcwd()\n",
    "print(type(cwd), cwd)"
   ]
  },
  {
   "cell_type": "code",
   "execution_count": 2,
   "metadata": {},
   "outputs": [
    {
     "data": {
      "text/plain": [
       "'C:\\\\classes\\\\01_Python\\\\src\\\\abc.py'"
      ]
     },
     "execution_count": 2,
     "metadata": {},
     "output_type": "execute_result"
    }
   ],
   "source": [
    "root = os.getcwd()\n",
    "src_file = os.path.join(root, \"src\", 'abc.py')\n",
    "# open(src_file)"
   ]
  },
  {
   "cell_type": "code",
   "execution_count": null,
   "metadata": {},
   "outputs": [],
   "source": [
    "root = r\"c:\\classes\\01_python\"\n",
    "a_path = os.path.join(root, \"a\")\n",
    "b_path = os.path.join(root, \"b\")\n",
    "test_path = os.path.join(root, \"test\")\n",
    "d_path = os.path.join(test_path, \"d\")"
   ]
  },
  {
   "cell_type": "code",
   "execution_count": null,
   "metadata": {},
   "outputs": [],
   "source": []
  },
  {
   "cell_type": "code",
   "execution_count": 10,
   "metadata": {},
   "outputs": [
    {
     "data": {
      "text/plain": [
       "False"
      ]
     },
     "execution_count": 10,
     "metadata": {},
     "output_type": "execute_result"
    }
   ],
   "source": [
    "# f_path = \"./calculater.py\"\n",
    "f_path = \"calculater.py\"\n",
    "# 파일이 있는지 여부 조회\n",
    "os.path.isfile(f_path)  # f_path에 파일이 있는지 여부"
   ]
  },
  {
   "cell_type": "code",
   "execution_count": 12,
   "metadata": {},
   "outputs": [
    {
     "name": "stdout",
     "output_type": "stream",
     "text": [
      "c:\\User_manual\n"
     ]
    }
   ],
   "source": [
    "# 현재 working directory를 변경\n",
    "os.chdir(r\"c:\\User_manual\")  # ./ => c:\\User_manual로 변경\n",
    "print(os.getcwd())"
   ]
  },
  {
   "cell_type": "code",
   "execution_count": 13,
   "metadata": {},
   "outputs": [
    {
     "data": {
      "text/plain": [
       "False"
      ]
     },
     "execution_count": 13,
     "metadata": {},
     "output_type": "execute_result"
    }
   ],
   "source": [
    "os.path.isfile(f_path)"
   ]
  },
  {
   "cell_type": "code",
   "execution_count": 21,
   "metadata": {},
   "outputs": [
    {
     "name": "stdout",
     "output_type": "stream",
     "text": [
      "상위디렉토리를 먼저 생성\n"
     ]
    }
   ],
   "source": [
    "# os 모듈의 파일/디렉토리 관련 함수들\n",
    "# 디렉토리 생성\n",
    "try:\n",
    "    os.mkdir(r\"c:\\classes\\source\") \n",
    "    # source디렉토리를 c:\\classes 하위에 생성\n",
    "    ## 이미 디렉토가 있거나, 생성하려는 디렉토리(c:\\classes)가 없으면 Exception 발생.\n",
    "except FileExistsError:  # 이미 있는 디렉토리\n",
    "#     print(\"생성못함\")\n",
    "    pass\n",
    "except FileNotFoundError:  # 생성하려는 상위디렉토리가 없어서 발생\n",
    "    print(\"상위디렉토리를 먼저 생성\")"
   ]
  },
  {
   "cell_type": "code",
   "execution_count": 25,
   "metadata": {},
   "outputs": [],
   "source": [
    "#  exist_ok=False(기본) 이미 있는 디렉토리면 Exception 발생\n",
    "#  exist_ok=True: 디렉토리가 있으면 무시\n",
    "os.makedirs(r\"c:\\class\\source\", exist_ok=True)\n",
    "# 상위 디렉토리가 없으면 상위디렉토리도 만들어준다."
   ]
  },
  {
   "cell_type": "code",
   "execution_count": 27,
   "metadata": {},
   "outputs": [],
   "source": [
    "# 디렉토리 삭제 -> 빈 디렉토리만 삭제 가능.\n",
    "# os.rmdir(r\"c:\\class\")\n",
    "os.rmdir(r\"c:\\class\\source\")"
   ]
  },
  {
   "cell_type": "code",
   "execution_count": 28,
   "metadata": {},
   "outputs": [],
   "source": [
    "os.rmdir(r\"c:\\class\")"
   ]
  },
  {
   "cell_type": "code",
   "execution_count": 29,
   "metadata": {},
   "outputs": [],
   "source": [
    "# 파일 삭제\n",
    "os.remove(r\"c:\\classes\\아나콘다_주피터노트북_설치.pdf\")\n",
    "# 경로: 상대/절대 모두 가능."
   ]
  },
  {
   "cell_type": "code",
   "execution_count": 30,
   "metadata": {},
   "outputs": [],
   "source": [
    "file_list = os.listdir(r\"C:\\classes\\01_Python\") \n",
    "#지정한 디렉토리의 하위요소들의 이름 문자열을 리스트에 담아 반환."
   ]
  },
  {
   "cell_type": "code",
   "execution_count": 31,
   "metadata": {},
   "outputs": [
    {
     "data": {
      "text/plain": [
       "['.ipynb_checkpoints',\n",
       " '01_개요.ipynb',\n",
       " '02_변수와 데이터타입.ipynb',\n",
       " '03_자료구조.ipynb',\n",
       " '04_제어문_컴프리헨션.ipynb',\n",
       " '05_함수.ipynb',\n",
       " '06_객체지향프로그래밍.ipynb',\n",
       " '07_패키지_모듈_import.ipynb',\n",
       " '08_예외처리 (Exception Handling).ipynb',\n",
       " '09_입출력.ipynb',\n",
       " '10_Iterable과 Decorator.ipynb',\n",
       " '11_파이썬 정규표현식.ipynb',\n",
       " 'calculater.py',\n",
       " 'images',\n",
       " 'my_package',\n",
       " 'python_script.py',\n",
       " 'python_template92.zip',\n",
       " 'test python.ipynb',\n",
       " 'test.py',\n",
       " '__pycache__']"
      ]
     },
     "execution_count": 31,
     "metadata": {},
     "output_type": "execute_result"
    }
   ],
   "source": [
    "file_list"
   ]
  },
  {
   "cell_type": "code",
   "execution_count": 37,
   "metadata": {},
   "outputs": [
    {
     "data": {
      "text/plain": [
       "'a\\\\b\\\\c\\\\d'"
      ]
     },
     "execution_count": 37,
     "metadata": {},
     "output_type": "execute_result"
    }
   ],
   "source": [
    "os.path.join(\"a\", \"b\", \"c\", \"d\")"
   ]
  },
  {
   "cell_type": "code",
   "execution_count": 41,
   "metadata": {
    "collapsed": true
   },
   "outputs": [
    {
     "name": "stdout",
     "output_type": "stream",
     "text": [
      "Dir- .ipynb_checkpoints\n",
      "File- 01_개요.ipynb\n",
      "File- 02_변수와 데이터타입.ipynb\n",
      "File- 03_자료구조.ipynb\n",
      "File- 04_제어문_컴프리헨션.ipynb\n",
      "File- 05_함수.ipynb\n",
      "File- 06_객체지향프로그래밍.ipynb\n",
      "File- 07_패키지_모듈_import.ipynb\n",
      "File- 08_예외처리 (Exception Handling).ipynb\n",
      "File- 09_입출력.ipynb\n",
      "File- 10_Iterable과 Decorator.ipynb\n",
      "File- 11_파이썬 정규표현식.ipynb\n",
      "File- calculater.py\n",
      "Dir- images\n",
      "Dir- my_package\n",
      "File- python_script.py\n",
      "File- python_template92.zip\n",
      "File- test python.ipynb\n",
      "File- test.py\n",
      "Dir- __pycache__\n"
     ]
    }
   ],
   "source": [
    "root_path = r\"c:\\classes\\01_Python\"\n",
    "for file in file_list:\n",
    "    file_path = os.path.join(root_path, file)\n",
    "#     print(file_path)\n",
    "#     break\n",
    "    if os.path.isfile(file_path):\n",
    "        print(\"File-\", file)\n",
    "    elif os.path.isdir(file_path):\n",
    "        print(\"Dir-\", file)"
   ]
  },
  {
   "cell_type": "markdown",
   "metadata": {
    "slideshow": {
     "slide_type": "slide"
    }
   },
   "source": [
    "# 입출력 (IO)\n",
    "\n",
    "## 입출력이란\n",
    "- 프로그램이 사용하려는 외부 자원을 연결하여 데이터를 입력 받거나 출력하는 작업을 IO라고 한다.\n",
    "- 외부 자원\n",
    "    - 파일, 원격지 컴퓨터(Network으로 연결된 컴퓨터의 자원), 데이터베이스 등.\n",
    "- **Stream**\n",
    "    - 입출력 시 **데이터의 흐름을 stream** 이라고 한다.\n",
    "- InputStream \n",
    "    - Program이 외부로 부터 데이터를 읽어 들이는 흐름.\n",
    "- OutputStream \n",
    "    - Program이 외부로 데이터를 써주는 흐름.\n",
    "\n",
    "\n",
    "![io](images/ch09_01.png)"
   ]
  },
  {
   "cell_type": "markdown",
   "metadata": {
    "slideshow": {
     "slide_type": "subslide"
    }
   },
   "source": [
    "## IO 코딩 순서\n",
    "![순서](images/ch09_02.png)"
   ]
  },
  {
   "cell_type": "markdown",
   "metadata": {
    "slideshow": {
     "slide_type": "subslide"
    }
   },
   "source": [
    "### 파일 열기(연결)\n",
    "- open() 함수 사용\n",
    "    - 연결된 파일과 입출력 메소드를 제공하는 객체(Stream)를 리턴\n",
    "- 구문\n",
    "    - `open(file, mode='r', encoding=None)`\n",
    "    - 함수 주요 매개변수\n",
    "        - file : 연결할 파일 경로\n",
    "        - mode : 열기 모드\n",
    "            - mode는 목적, 데이터종류를 조합한 문자열을 사용한다.\n",
    "        - encoding \n",
    "            - 텍스트 파일일 경우 인코딩 방식\n",
    "            - None 또는 생략하면  os 기본 encoding방식을 따른다.\n",
    "                - Windows: cp949/euckr\n",
    "                - Linux, Unix: utf-8\n",
    "|mode타입|mode문자|설명|\n",
    "|:-|-|-|\n",
    "|목적|r|읽기 모드-목적의 기본 모드|\n",
    "||w|새로 쓰기 모드|\n",
    "||a|이어 쓰기 모드|\n",
    "||x|새로 쓰기모드-연결하려는 파일이 있으면 Exception발생|\n",
    "|데이터종류|b|binary 모드|\n",
    "||t|Text모드-text데이터 입출력시 사용|\n",
    "    "
   ]
  },
  {
   "cell_type": "markdown",
   "metadata": {
    "slideshow": {
     "slide_type": "subslide"
    }
   },
   "source": [
    "### 출력 메소드\n",
    "\n",
    "- write(출력할 Data)\n",
    "    - 연결된 파일에 `출력할 Data` 출력한다.\n",
    "- writelines(문자열을 가진 컬렉션)\n",
    "    - 리스트, 튜플, 집합이 원소로 가진 문자열들을 한번에 출력한다.\n",
    "    - text 출력일 경우에만 사용가능.\n",
    "    - 원소에 문자열 이외의 타입의 값이 있을 경우 TypeError 발생"
   ]
  },
  {
   "cell_type": "code",
   "execution_count": 43,
   "metadata": {},
   "outputs": [
    {
     "name": "stdout",
     "output_type": "stream",
     "text": [
      "c:\\classes\\01_python\n"
     ]
    }
   ],
   "source": [
    "import os\n",
    "os.chdir(r\"c:\\classes\\01_python\")\n",
    "print(os.getcwd())"
   ]
  },
  {
   "cell_type": "code",
   "execution_count": 89,
   "metadata": {},
   "outputs": [
    {
     "name": "stdout",
     "output_type": "stream",
     "text": [
      "<class '_io.TextIOWrapper'>\n"
     ]
    }
   ],
   "source": [
    "# 출력할 파일들을 저장할 디렉토리를 생성\n",
    "os.makedirs(\"files\", exist_ok=True)\n",
    "# 1. 출력할 파일과 연결\n",
    "fw = open(\"files/test.txt\", #연결할 파일의 경로\n",
    "          mode=\"wt\", # w: 출력(파일이 없으면 만들어서 연결, 있으면 연결후에 파일내용을 삭제), t: text -> 생략가능.\n",
    "          encoding=\"utf-8\" # 문자열 인코딩 방식. 생략: os의 기본 인코딩방식(win:cp949, mac: utf-8)\n",
    "         )\n",
    "print(type(fw))\n",
    "# 2. 출력(Output) 작업\n",
    "fw.write(\"안녕하세요.\\n\")\n",
    "fw.write(\"반갑습니다.\\n\")\n",
    "fw.write(\"Hello World\")\n",
    "\n",
    "# 3. 파일과 연결 닫기\n",
    "fw.close()"
   ]
  },
  {
   "cell_type": "code",
   "execution_count": 77,
   "metadata": {},
   "outputs": [
    {
     "name": "stdout",
     "output_type": "stream",
     "text": [
      "<class '_io.TextIOWrapper'>\n"
     ]
    }
   ],
   "source": [
    "# 1. 출력할 파일과 연결\n",
    "fw = open(\"files/test2.txt\", #연결할 파일의 경로\n",
    "          mode=\"at\", # a: 출력-이어쓰기, t: text -> 생략가능.\n",
    "          encoding=\"utf-8\" # 문자열 인코딩 방식. 생략: os의 기본 인코딩방식(win:cp949, mac: utf-8)\n",
    "         )\n",
    "print(type(fw))\n",
    "# 2. 출력(Output) 작업\n",
    "fw.write(\"안녕하세요.\\n\")\n",
    "fw.write(\"반갑습니다.\\n\")\n",
    "fw.write(\"Hello World\")\n",
    "\n",
    "# 3. 파일과 연결 닫기\n",
    "fw.close()"
   ]
  },
  {
   "cell_type": "code",
   "execution_count": 79,
   "metadata": {},
   "outputs": [],
   "source": [
    "# 연결\n",
    "fw = open(\"files/test4.txt\", \"wt\", encoding=\"utf-8\")\n",
    "txt = [\"aaaaaa\", \"1111111\", '가가가가가가가', \"3333333\", \"ggggggg\"]\n",
    "# 출력\n",
    "# for t in txt:\n",
    "#     fw.write(t)\n",
    "fw.writelines(txt)  # 엔터를 자동으로 넣어주지 않음.\n",
    "\n",
    "# 연결닫기\n",
    "fw.close()"
   ]
  },
  {
   "cell_type": "code",
   "execution_count": 85,
   "metadata": {},
   "outputs": [
    {
     "name": "stdout",
     "output_type": "stream",
     "text": [
      "wt utf-8 files/test4.txt\n",
      "연결 여부를 확인:  True\n"
     ]
    },
    {
     "data": {
      "text/plain": [
       "'연결닫힘'"
      ]
     },
     "execution_count": 85,
     "metadata": {},
     "output_type": "execute_result"
    }
   ],
   "source": [
    "#### TextIOWrapper (fw) 의 속성 조회 => 연결 Stream 정보\n",
    "print(fw.mode, fw.encoding, fw.name)\n",
    "print(\"연결 여부를 확인: \", fw.closed)\n",
    "\"연결닫힘\" if fw.closed else \"연결중임\""
   ]
  },
  {
   "cell_type": "code",
   "execution_count": 86,
   "metadata": {},
   "outputs": [
    {
     "name": "stdout",
     "output_type": "stream",
     "text": [
      "False\n"
     ]
    }
   ],
   "source": [
    "fw = open(\"files/test4.txt\", \"wt\")\n",
    "print(fw.closed)"
   ]
  },
  {
   "cell_type": "code",
   "execution_count": 87,
   "metadata": {},
   "outputs": [],
   "source": [
    "fw.close()"
   ]
  },
  {
   "cell_type": "markdown",
   "metadata": {
    "slideshow": {
     "slide_type": "slide"
    }
   },
   "source": [
    "### 입력 메소드\n",
    "- read() : 문자열(text mode), bytes(binary mode) \n",
    "    - 연결된 파일의 내용을 한번에 모두 읽어 들인다.\n",
    "- readline() : 문자열(text mode), bytes(binary mode)\n",
    "    - 한 줄만 읽는다.\n",
    "    - text 입력일 경우만 사용가능\n",
    "    - 읽은 라인이 없으면 `빈문자열`을 리턴한다.\n",
    "- readlines() : 리스트\n",
    "    - 한번에 다 읽은 뒤 각각의 라인을 리스트에 원소로 담아 반환한다.\n",
    "- Input Stream (TextIOWrapper, BufferedReader)는 Iterable 타입\n",
    "    - for문을 이용한 라인단위 순차 조회할 수 있다."
   ]
  },
  {
   "cell_type": "code",
   "execution_count": 92,
   "metadata": {},
   "outputs": [
    {
     "name": "stdout",
     "output_type": "stream",
     "text": [
      "안녕하세요.\n",
      "반갑습니다.\n",
      "Hello World\n"
     ]
    }
   ],
   "source": [
    "# 읽기\n",
    "## 1. 연결\n",
    "fr = open(\"files/test.txt\", mode=\"rt\", # r: 기본, t: 기본 (rt일 경우는 생략가능.)\n",
    "         encoding=\"utf-8\")\n",
    "## 2. 읽기\n",
    "read_txt = fr.read() # 전체를 한번에 읽어온다.\n",
    "print(read_txt)\n",
    "\n",
    "## 3. 연결닫기\n",
    "fr.close()"
   ]
  },
  {
   "cell_type": "code",
   "execution_count": 98,
   "metadata": {},
   "outputs": [
    {
     "name": "stdout",
     "output_type": "stream",
     "text": [
      "안녕하세요.\n",
      "반갑습니다.\n",
      "Hello World"
     ]
    }
   ],
   "source": [
    "## 1. 연결\n",
    "fr = open(\"files/test.txt\", mode=\"rt\", # r: 기본, t: 기본 (rt일 경우는 생략가능.)\n",
    "         encoding=\"utf-8\")\n",
    "## 2. 읽기\n",
    "# read_txt = fr.readline()  #  한줄만 읽는다. ........\\n (엔터 까지만 읽는다.)\n",
    "# print(read_txt)\n",
    "# read_txt = fr.readline()\n",
    "# print(read_txt)\n",
    "read_txt = fr.readline() # 한줄 읽은 것이 없으면 빈문자열 반환.\n",
    "while read_txt:\n",
    "    print(read_txt, end=\"\")\n",
    "    read_txt = fr.readline()\n",
    "\n",
    "\n",
    "## 3. 연결닫기\n",
    "fr.close()"
   ]
  },
  {
   "cell_type": "code",
   "execution_count": null,
   "metadata": {},
   "outputs": [],
   "source": []
  },
  {
   "cell_type": "code",
   "execution_count": 99,
   "metadata": {},
   "outputs": [
    {
     "name": "stdout",
     "output_type": "stream",
     "text": [
      "['안녕하세요.\\n', '반갑습니다.\\n', 'Hello World']\n"
     ]
    }
   ],
   "source": [
    "fr = open(\"files/test.txt\", mode=\"rt\", encoding=\"utf-8\")\n",
    "txt_list = fr.readlines()\n",
    "fr.close()\n",
    "\n",
    "print(txt_list)"
   ]
  },
  {
   "cell_type": "code",
   "execution_count": 101,
   "metadata": {},
   "outputs": [
    {
     "name": "stdout",
     "output_type": "stream",
     "text": [
      "1. 안녕하세요.\n",
      "2. 반갑습니다.\n",
      "3. Hello World\n"
     ]
    }
   ],
   "source": [
    "for line_no, txt in enumerate(txt_list, start=1):\n",
    "    print(f\"{line_no}. {txt.strip()}\")"
   ]
  },
  {
   "cell_type": "code",
   "execution_count": 106,
   "metadata": {},
   "outputs": [
    {
     "name": "stdout",
     "output_type": "stream",
     "text": [
      "1 안녕하세요.\n",
      "2 반갑습니다.\n",
      "3 Hello World\n"
     ]
    }
   ],
   "source": [
    "fr = open(\"files/test.txt\", mode=\"rt\", encoding=\"utf-8\")\n",
    "# Text입력 Stream (TextIOWrapper) ==> Iterable 타입 ===> for in 문으로 사용가능\n",
    "## ===> 한번 반복할 때마다 한줄 읽은 것을 반환.\n",
    "\n",
    "for ln, txt in enumerate(fr, start=1):\n",
    "    print(ln, txt.strip())\n",
    "\n",
    "fr.close()"
   ]
  },
  {
   "cell_type": "code",
   "execution_count": 105,
   "metadata": {},
   "outputs": [
    {
     "name": "stdout",
     "output_type": "stream",
     "text": [
      "안녕하세요.\n",
      "\n",
      "반갑습니다.\n",
      "\n"
     ]
    }
   ],
   "source": [
    "# 앞의 2줄만 읽기\n",
    "fr = open(\"files/test.txt\", mode=\"rt\", encoding=\"utf-8\")\n",
    "for _ in range(2):\n",
    "    print(fr.readline())\n",
    "fr.close()"
   ]
  },
  {
   "cell_type": "markdown",
   "metadata": {
    "slideshow": {
     "slide_type": "slide"
    }
   },
   "source": [
    "## with block\n",
    "\n",
    "파일과 입출력 작업이 다 끝나면 반드시 연결을 닫아야 한다. 매번 연결을 닫는 작업을 하는 것이 번거롭고 실수로 안 닫을 경우 문제가 생길 수 있다. **with block은 block을 벗어나면 자동으로 연결을 닫아 준다.** 그래서 연결을 닫는 코드를 생략할 수 있다.\n",
    "\n",
    "- 구문\n",
    "```python\n",
    "with open() as 변수: # `변수`는 open()이 반환하는 Stream객체를 참조한다.\n",
    "    입출력 작업      # 변수를 이용해 입출력 작업을 처리한다.\n",
    "# with block을 빠져 나오면 close()가 자동으로 실행된다.\n",
    "```"
   ]
  },
  {
   "cell_type": "code",
   "execution_count": null,
   "metadata": {},
   "outputs": [],
   "source": [
    "fr = open(\"files/test.txt\", \"rt\", encoding=\"utf-8\") "
   ]
  },
  {
   "cell_type": "code",
   "execution_count": 108,
   "metadata": {
    "slideshow": {
     "slide_type": "fragment"
    }
   },
   "outputs": [
    {
     "ename": "ZeroDivisionError",
     "evalue": "division by zero",
     "output_type": "error",
     "traceback": [
      "\u001b[1;31m---------------------------------------------------------------------------\u001b[0m",
      "\u001b[1;31mZeroDivisionError\u001b[0m                         Traceback (most recent call last)",
      "Cell \u001b[1;32mIn[108], line 3\u001b[0m\n\u001b[0;32m      1\u001b[0m \u001b[38;5;28;01mwith\u001b[39;00m \u001b[38;5;28mopen\u001b[39m(\u001b[38;5;124m\"\u001b[39m\u001b[38;5;124mfiles/test.txt\u001b[39m\u001b[38;5;124m\"\u001b[39m, \u001b[38;5;124m\"\u001b[39m\u001b[38;5;124mrt\u001b[39m\u001b[38;5;124m\"\u001b[39m, encoding\u001b[38;5;241m=\u001b[39m\u001b[38;5;124m\"\u001b[39m\u001b[38;5;124mutf-8\u001b[39m\u001b[38;5;124m\"\u001b[39m) \u001b[38;5;28;01mas\u001b[39;00m fr:\n\u001b[0;32m      2\u001b[0m     txt \u001b[38;5;241m=\u001b[39m fr\u001b[38;5;241m.\u001b[39mread()\n\u001b[1;32m----> 3\u001b[0m     \u001b[38;5;28mprint\u001b[39m(\u001b[38;5;241m10\u001b[39m\u001b[38;5;241m/\u001b[39m\u001b[38;5;241m0\u001b[39m)\n\u001b[0;32m      5\u001b[0m \u001b[38;5;66;03m# with block을 빠져 나옴. => 자동을 stream이 close 된다.\u001b[39;00m\n\u001b[0;32m      6\u001b[0m \u001b[38;5;28mprint\u001b[39m(txt)\n",
      "\u001b[1;31mZeroDivisionError\u001b[0m: division by zero"
     ]
    }
   ],
   "source": [
    "with open(\"files/test.txt\", \"rt\", encoding=\"utf-8\") as fr:\n",
    "    txt = fr.read()\n",
    "#     print(10/0)\n",
    "\n",
    "# with block을 빠져 나옴. => 자동을 stream이 close 된다.\n",
    "print(txt)\n",
    "print(f\"fr 연결여부: {fr.closed}\")\n"
   ]
  },
  {
   "cell_type": "code",
   "execution_count": null,
   "metadata": {},
   "outputs": [],
   "source": [
    "try:\n",
    "    연결\n",
    "    입/출력\n",
    "except:\n",
    "    예외처리\n",
    "finally:\n",
    "    fr.close()"
   ]
  },
  {
   "cell_type": "code",
   "execution_count": null,
   "metadata": {},
   "outputs": [],
   "source": []
  },
  {
   "cell_type": "markdown",
   "metadata": {},
   "source": [
    "# binary 데이터 입출력\n",
    "binary data -> 텍스트 인코딩을 하지 않고 입출력하는 데이터.   \n",
    "각 타입의 값들을 출력(binary) 할때 `bytes` 타입으로 변환해서 출력  \n",
    "binary data를 입력받으면 `bytes` 타입으로 반환.  \n",
    "각 타입 -> bytes : 출력\n",
    "bytes -> 각 타입 : 입력"
   ]
  },
  {
   "cell_type": "code",
   "execution_count": 19,
   "metadata": {},
   "outputs": [],
   "source": [
    "i = 10\n",
    "with open(\"files/data.txt\", 'wt') as fw:\n",
    "    # text mode로 출력 -> str 타입만 가능\n",
    "    fw.write(str(i))"
   ]
  },
  {
   "cell_type": "code",
   "execution_count": 22,
   "metadata": {},
   "outputs": [
    {
     "name": "stdout",
     "output_type": "stream",
     "text": [
      "30\n"
     ]
    }
   ],
   "source": [
    "with open(\"files/data.txt\", 'rt') as fr:\n",
    "    a = fr.read()  # text 모드: return type - str\n",
    "    \n",
    "print(int(a) + 20)"
   ]
  },
  {
   "cell_type": "code",
   "execution_count": 27,
   "metadata": {},
   "outputs": [
    {
     "name": "stdout",
     "output_type": "stream",
     "text": [
      "<class 'int'>\n"
     ]
    }
   ],
   "source": [
    "print(type(10))  "
   ]
  },
  {
   "cell_type": "code",
   "execution_count": 28,
   "metadata": {},
   "outputs": [],
   "source": [
    "i = 10\n",
    "# binary data 로 출/입력\n",
    "# 정수 i를 bytes 타입을 변환\n",
    "# (크기, 구성방식, 부호있는지여부)\n",
    "# byteorder - little: 유효숫자이외의 0을 앞에 채움 (00000001)\n",
    "#             big: 유효숫자 이외의 0을 뒤에 채움 (10000000)\n",
    "#    정수->bytes, bytes->정수  ==> byteorder를 동일하게 지정.\n",
    "i_bytes = i.to_bytes(1, byteorder=\"little\", signed=True)\n",
    "with open(\"files/data2.dat\", \"wb\") as fo:\n",
    "#     print(type(fo))\n",
    "#     fo.write(i)\n",
    "    fo.write(i_bytes)"
   ]
  },
  {
   "cell_type": "code",
   "execution_count": 32,
   "metadata": {},
   "outputs": [],
   "source": [
    "with open(\"files/data2.dat\", \"rb\") as fi:\n",
    "#     print(type(fi))\n",
    "    value = fi.read()  # b 모드로 읽기: bytes 타입을 return"
   ]
  },
  {
   "cell_type": "code",
   "execution_count": 33,
   "metadata": {},
   "outputs": [
    {
     "data": {
      "text/plain": [
       "bytes"
      ]
     },
     "execution_count": 33,
     "metadata": {},
     "output_type": "execute_result"
    }
   ],
   "source": [
    "type(value)"
   ]
  },
  {
   "cell_type": "code",
   "execution_count": 36,
   "metadata": {},
   "outputs": [
    {
     "name": "stdout",
     "output_type": "stream",
     "text": [
      "60\n"
     ]
    }
   ],
   "source": [
    "# bytes->int 변환\n",
    "i_value = int.from_bytes(value, byteorder=\"little\", signed=True)\n",
    "print(i_value + 50)"
   ]
  },
  {
   "cell_type": "code",
   "execution_count": null,
   "metadata": {},
   "outputs": [],
   "source": [
    "int(원래타입) -변환-> bytes --출력--> 저장 --입력--> bytes -변환->int(원래)"
   ]
  },
  {
   "cell_type": "code",
   "execution_count": null,
   "metadata": {},
   "outputs": [],
   "source": []
  },
  {
   "cell_type": "markdown",
   "metadata": {
    "slideshow": {
     "slide_type": "slide"
    }
   },
   "source": [
    "# pickle 모듈을 이용한 객체 직렬화\n",
    "\n",
    "## 객체 직렬화(Object Serialization)\n",
    "- 객체의 속성값들을 bytes로 변환해 출력하는 것을 객체 직렬화(Object Serialization) 이라고 한다.\n",
    "- bytes로 출력된 데이터를 읽어 객체화 하는 것을 객체 역직렬화(Object Deserialization) 이라고 한다."
   ]
  },
  {
   "cell_type": "markdown",
   "metadata": {
    "slideshow": {
     "slide_type": "fragment"
    }
   },
   "source": [
    "### pickle\n",
    "- 객체 파일 입출력을 위한 파이썬 모듈\n",
    "- open() 시 **binary mode**로 설정한다.\n",
    "- 저장시 파일 확장자는 보통 `pkl` 이나 `pickle` 로 한다.\n",
    "- ex)\n",
    "```python\n",
    "fw = open(\"data.pkl\", \"wb\") # 객체를 pickle에 저장하기 위한 output stream 생성\n",
    "fr = open(\"data.pkl\", \"rb\") # 파일에 저장된 객체를 읽어오기 위한 input stream 생성\n",
    "```\n",
    "- **메소드**\n",
    "    - dump(저장할 객체, fw) : 출력\n",
    "    - load(fr): 입력 - 읽은 객체를 반환한다."
   ]
  },
  {
   "cell_type": "code",
   "execution_count": 37,
   "metadata": {},
   "outputs": [],
   "source": [
    "i = 10\n",
    "import pickle\n",
    "# 출력 -> 직렬화 \n",
    "with open(\"files/int_data.pickle\", \"wb\") as fo:\n",
    "    pickle.dump(i, fo)"
   ]
  },
  {
   "cell_type": "code",
   "execution_count": 38,
   "metadata": {},
   "outputs": [],
   "source": [
    "# 입력 -> 역직렬화\n",
    "with open(\"files/int_data.pickle\", \"rb\") as fi:\n",
    "    r_value = pickle.load(fi)"
   ]
  },
  {
   "cell_type": "code",
   "execution_count": 39,
   "metadata": {},
   "outputs": [
    {
     "data": {
      "text/plain": [
       "(int, 10)"
      ]
     },
     "execution_count": 39,
     "metadata": {},
     "output_type": "execute_result"
    }
   ],
   "source": [
    "type(r_value), r_value"
   ]
  },
  {
   "cell_type": "code",
   "execution_count": 40,
   "metadata": {},
   "outputs": [],
   "source": [
    "l = [10, \"abc\", True]\n",
    "with open(\"files/list.pickle\", \"wb\") as fo:\n",
    "    pickle.dump(l, fo)"
   ]
  },
  {
   "cell_type": "code",
   "execution_count": 41,
   "metadata": {},
   "outputs": [
    {
     "data": {
      "text/plain": [
       "(list, [10, 'abc', True])"
      ]
     },
     "execution_count": 41,
     "metadata": {},
     "output_type": "execute_result"
    }
   ],
   "source": [
    "with open(\"files/list.pickle\", \"rb\") as fi:\n",
    "    r_list = pickle.load(fi)\n",
    "    \n",
    "type(r_list), r_list"
   ]
  },
  {
   "cell_type": "code",
   "execution_count": 42,
   "metadata": {},
   "outputs": [
    {
     "name": "stdout",
     "output_type": "stream",
     "text": [
      "이름: 홍길동, 나이: 20\n"
     ]
    }
   ],
   "source": [
    "from my_package import test_module as tm\n",
    "p = tm.Person(\"홍길동\", 20)\n",
    "print(p)"
   ]
  },
  {
   "cell_type": "code",
   "execution_count": 43,
   "metadata": {},
   "outputs": [],
   "source": [
    "f_name = \"files/person.pickle\"\n",
    "with open(f_name, \"wb\") as fo:\n",
    "    pickle.dump(p, fo)"
   ]
  },
  {
   "cell_type": "code",
   "execution_count": 44,
   "metadata": {},
   "outputs": [],
   "source": [
    "with open(f_name, \"rb\") as fi:\n",
    "    r_person = pickle.load(fi)"
   ]
  },
  {
   "cell_type": "code",
   "execution_count": 45,
   "metadata": {
    "slideshow": {
     "slide_type": "fragment"
    }
   },
   "outputs": [
    {
     "data": {
      "text/plain": [
       "my_package.test_module.Person"
      ]
     },
     "execution_count": 45,
     "metadata": {},
     "output_type": "execute_result"
    }
   ],
   "source": [
    "type(r_person)"
   ]
  },
  {
   "cell_type": "code",
   "execution_count": 46,
   "metadata": {},
   "outputs": [
    {
     "name": "stdout",
     "output_type": "stream",
     "text": [
      "이름: 홍길동, 나이: 20\n"
     ]
    }
   ],
   "source": [
    "print(r_person)"
   ]
  },
  {
   "cell_type": "markdown",
   "metadata": {
    "slideshow": {
     "slide_type": "skip"
    }
   },
   "source": [
    "# TODO"
   ]
  },
  {
   "cell_type": "markdown",
   "metadata": {
    "slideshow": {
     "slide_type": "skip"
    }
   },
   "source": [
    "- 간단한 터미널 기반 메모장\n",
    "    1. 사용자로부터 파일명을 입력받는다.\n",
    "    2. 사용자로부터 파일에 저장할 문장을 입력받아서 파일에 저장한다.\n",
    "        - 한줄씩 입력받는다.\n",
    "        - 사용자가 !q 를 입력하면 저장후 종료한다.\n",
    "    3. 사용자가 저장한 파일을 읽어서 출력한다.\n"
   ]
  },
  {
   "cell_type": "code",
   "execution_count": 8,
   "metadata": {
    "collapsed": true
   },
   "outputs": [
    {
     "name": "stdout",
     "output_type": "stream",
     "text": [
      "저장할 파일명:c.txt\n",
      "files\\c.txt\n",
      "저장할 text를 입력하세요.\n",
      ">>>a\n",
      ">>>ab\n",
      ">>>d\n",
      ">>>d\n",
      ">>>d\n",
      ">>>d\n",
      ">>>d\n",
      ">>>dd\n",
      ">>>!q\n",
      "종료\n"
     ]
    }
   ],
   "source": [
    "os.makedirs(\"files\", exist_ok=True)  # 파일들을 저장할 디렉토리 생성\n",
    "# 1. 파일명 입력\n",
    "filename = input(\"저장할 파일명:\")\n",
    "file_path = os.path.join(\"files\", filename)\n",
    "print(file_path)\n",
    "# 2. 연결\n",
    "fw = open(file_path, \"wt\", encoding=\"utf-8\")\n",
    "print(\"저장할 text를 입력하세요.\")\n",
    "# 3. !q가 입력될때까지 출력\n",
    "while True:\n",
    "    line = input(\">>>\")\n",
    "    if line == \"!q\":\n",
    "        break\n",
    "    fw.write(line+\"\\n\")  #input() 은 엔터는 읽지 않는다. 그래서 뒤에 엔터를 추가\n",
    "    # fw.write() -> buffer(임시저장소)에 출력\n",
    "    # fw.flush() # buffer내용을 연결된 자원에 출력\n",
    "print(\"종료\")\n",
    "# 4. close (종료)\n",
    "fw.close()\n"
   ]
  },
  {
   "cell_type": "code",
   "execution_count": 9,
   "metadata": {},
   "outputs": [],
   "source": [
    "fw.close()"
   ]
  },
  {
   "cell_type": "code",
   "execution_count": 10,
   "metadata": {
    "collapsed": true
   },
   "outputs": [
    {
     "name": "stdout",
     "output_type": "stream",
     "text": [
      "저장할 파일명:d.txt\n",
      " 저장할 내용을 입력하세요.\n",
      ">>>aaaa\n",
      ">>>bbb\n",
      ">>>ccc\n",
      ">>>ddd\n",
      ">>>eee\n",
      ">>>1111\n",
      ">>>!q\n",
      "종료\n"
     ]
    }
   ],
   "source": [
    "os.makedirs(\"files\", exist_ok=True)\n",
    "filename = input(\"저장할 파일명:\")\n",
    "file_path = os.path.join(\"files\", filename)\n",
    "# with block 구현\n",
    "with open(file_path, 'wt', encoding=\"utf-8\") as fw:\n",
    "    print(\" 저장할 내용을 입력하세요.\")\n",
    "    while True:\n",
    "        #한줄 읽기\n",
    "        line_txt = input(\">>>\")\n",
    "        #!q 입력됐으면 종료\n",
    "        if line_txt == \"!q\":\n",
    "            break\n",
    "        # 파일 출력\n",
    "        fw.write(line_txt+\"\\n\")\n",
    "\n",
    "#with block  종료시 close는 자동을 처리\n",
    "print(\"종료\")"
   ]
  },
  {
   "cell_type": "code",
   "execution_count": null,
   "metadata": {},
   "outputs": [],
   "source": [
    "\"c:\\\\a\\\\b\\\\c\""
   ]
  },
  {
   "cell_type": "code",
   "execution_count": 11,
   "metadata": {},
   "outputs": [],
   "source": [
    "# 함수화\n",
    "def simple_memo():\n",
    "    os.makedirs(\"files\", exist_ok=True)\n",
    "    filename = input(\"저장할 파일명:\")\n",
    "    file_path = os.path.join(\"files\", filename)\n",
    "    # with block 구현\n",
    "    with open(file_path, 'wt', encoding=\"utf-8\") as fw:\n",
    "        print(\" 저장할 내용을 입력하세요.\")\n",
    "        while True:\n",
    "            #한줄 읽기\n",
    "            line_txt = input(\">>>\")\n",
    "            #!q 입력됐으면 종료\n",
    "            if line_txt == \"!q\":\n",
    "                break\n",
    "            # 파일 출력\n",
    "            fw.write(line_txt+\"\\n\")\n",
    "\n",
    "    #with block  종료시 close는 자동을 처리\n",
    "    print(\"종료\")"
   ]
  },
  {
   "cell_type": "code",
   "execution_count": 124,
   "metadata": {},
   "outputs": [
    {
     "name": "stdout",
     "output_type": "stream",
     "text": [
      "c:\\a\\b\\c\n"
     ]
    }
   ],
   "source": [
    "a=os.path.join('c:\\\\', \"a\", \"b\", \"c\")\n",
    "open(a) "
   ]
  },
  {
   "cell_type": "code",
   "execution_count": 12,
   "metadata": {
    "collapsed": true
   },
   "outputs": [
    {
     "name": "stdout",
     "output_type": "stream",
     "text": [
      "저장할 파일명:abc.txtg\n",
      " 저장할 내용을 입력하세요.\n",
      ">>>a\n",
      ">>>b\n",
      ">>>c\n",
      ">>>Q1\n",
      ">>>!q\n",
      "종료\n"
     ]
    }
   ],
   "source": [
    "simple_memo()"
   ]
  },
  {
   "cell_type": "code",
   "execution_count": 13,
   "metadata": {
    "collapsed": true
   },
   "outputs": [
    {
     "name": "stdout",
     "output_type": "stream",
     "text": [
      "저장할 파일명:dddd\n",
      " 저장할 내용을 입력하세요.\n",
      ">>>d\n",
      ">>>!q\n",
      "종료\n"
     ]
    }
   ],
   "source": [
    "simple_memo()"
   ]
  },
  {
   "cell_type": "code",
   "execution_count": 16,
   "metadata": {},
   "outputs": [
    {
     "name": "stdout",
     "output_type": "stream",
     "text": [
      "Overwriting simple_memo.py\n"
     ]
    }
   ],
   "source": [
    "%%writefile  simple_memo.py\n",
    "import os\n",
    "#  모듈화 + 실행 프로그램.\n",
    "def simple_memo():\n",
    "    os.makedirs(\"files\", exist_ok=True)\n",
    "    filename = input(\"저장할 파일명:\")\n",
    "    file_path = os.path.join(\"files\", filename)\n",
    "    # with block 구현\n",
    "    with open(file_path, 'wt', encoding=\"utf-8\") as fw:\n",
    "        print(\" 저장할 내용을 입력하세요.\")\n",
    "        while True:\n",
    "            #한줄 읽기\n",
    "            line_txt = input(\">>>\")\n",
    "            #!q 입력됐으면 종료\n",
    "            if line_txt == \"!q\":\n",
    "                break\n",
    "            # 파일 출력\n",
    "            fw.write(line_txt+\"\\n\")\n",
    "\n",
    "    #with block  종료시 close는 자동을 처리\n",
    "    print(\"종료\")\n",
    "    \n",
    "if __name__ == \"__main__\":\n",
    "    simple_memo()"
   ]
  },
  {
   "cell_type": "code",
   "execution_count": 1,
   "metadata": {},
   "outputs": [
    {
     "name": "stdout",
     "output_type": "stream",
     "text": [
      "저장할 파일명:aaa.txt\n",
      " 저장할 내용을 입력하세요.\n",
      ">>>a\n",
      ">>>a\n",
      ">>>a\n",
      ">>>!q\n",
      "종료\n"
     ]
    }
   ],
   "source": [
    "from simple_memo import simple_memo as s_memo\n",
    "\n",
    "s_memo()"
   ]
  },
  {
   "cell_type": "code",
   "execution_count": null,
   "metadata": {},
   "outputs": [],
   "source": [
    "%%writefile  simple_memo.py\n",
    "\n",
    "#  모듈화 + 실행 프로그램.\n",
    "def simple_memo():\n",
    "    os.makedirs(\"files\", exist_ok=True)\n",
    "    filename = input(\"저장할 파일명:\")\n",
    "    file_path = os.path.join(\"files\", filename)\n",
    "    # with block 구현\n",
    "    with open(file_path, 'wt', encoding=\"utf-8\") as fw:\n",
    "        print(\" 저장할 내용을 입력하세요.\")\n",
    "        while True:\n",
    "            #한줄 읽기\n",
    "            line_txt = input(\">>>\")\n",
    "            #!q 입력됐으면 종료\n",
    "            if line_txt == \"!q\":\n",
    "                break\n",
    "            # 파일 출력\n",
    "            fw.write(line_txt+\"\\n\")\n",
    "\n",
    "    #with block  종료시 close는 자동을 처리\n",
    "    print(\"종료\")\n",
    "    \n",
    "if __name__ == \"__main__\":\n",
    "    simple_memo()"
   ]
  },
  {
   "cell_type": "code",
   "execution_count": null,
   "metadata": {},
   "outputs": [],
   "source": []
  },
  {
   "cell_type": "code",
   "execution_count": null,
   "metadata": {},
   "outputs": [],
   "source": []
  },
  {
   "cell_type": "markdown",
   "metadata": {
    "slideshow": {
     "slide_type": "skip"
    }
   },
   "source": [
    "- data/member.csv 파일을 읽어서 각 열의 값을 배열에 담는다.    \n",
    "이름,나이,주소  형태의 csv를 읽어    \n",
    "```python\n",
    "names = []\n",
    "ages =[]\n",
    "addresses =[]    \n",
    "```\n",
    "리스트에 넣는다. \n",
    "- 단 첫줄은 head이므로 읽지 않는다.\n",
    "- 참고 함수: 문자열 split(), for문 관련 enumerate()\n",
    "\n"
   ]
  },
  {
   "cell_type": "code",
   "execution_count": 4,
   "metadata": {},
   "outputs": [],
   "source": [
    "# 각 값들을 저장할 리스트\n",
    "names = []  # list()\n",
    "ages = []\n",
    "addresses = []\n",
    "\n",
    "# 한줄씩 읽어서 각각의 속성값들을 각 리스트에 추가.\n",
    "## 1. 파일연결\n",
    "with open(\"data/member.csv\", \"rt\", encoding=\"utf-8\") as fr:\n",
    "    for line_no, line_txt in enumerate(fr):\n",
    "        if line_no == 0: # 0번라인 -> header부분 을 제거\n",
    "            continue  # 다음 반복 실행\n",
    "        name, age, address = line_txt.strip().split(\",\")\n",
    "        names.append(name)\n",
    "        ages.append(age)\n",
    "        addresses.append(address)"
   ]
  },
  {
   "cell_type": "code",
   "execution_count": 5,
   "metadata": {},
   "outputs": [
    {
     "data": {
      "text/plain": [
       "[' 인천', ' 서울', ' 마포', ' 김포', ' 광주']"
      ]
     },
     "execution_count": 5,
     "metadata": {},
     "output_type": "execute_result"
    }
   ],
   "source": [
    "names\n",
    "ages\n",
    "addresses"
   ]
  },
  {
   "cell_type": "code",
   "execution_count": 6,
   "metadata": {},
   "outputs": [
    {
     "name": "stdout",
     "output_type": "stream",
     "text": [
      "이름: 유재석, 나이:  30, 주소:  인천\n",
      "이름: 박명수, 나이:  20, 주소:  서울\n",
      "이름: 정준하, 나이:  40, 주소:  마포\n",
      "이름: 노홍철, 나이:  54, 주소:  김포\n",
      "이름: 하하, 나이:  33, 주소:  광주\n"
     ]
    }
   ],
   "source": [
    "for name, age, address  in zip(names, ages, addresses):\n",
    "    print(f\"이름: {name}, 나이: {age}, 주소: {address}\")"
   ]
  },
  {
   "cell_type": "code",
   "execution_count": 7,
   "metadata": {},
   "outputs": [
    {
     "data": {
      "text/html": [
       "<div>\n",
       "<style scoped>\n",
       "    .dataframe tbody tr th:only-of-type {\n",
       "        vertical-align: middle;\n",
       "    }\n",
       "\n",
       "    .dataframe tbody tr th {\n",
       "        vertical-align: top;\n",
       "    }\n",
       "\n",
       "    .dataframe thead th {\n",
       "        text-align: right;\n",
       "    }\n",
       "</style>\n",
       "<table border=\"1\" class=\"dataframe\">\n",
       "  <thead>\n",
       "    <tr style=\"text-align: right;\">\n",
       "      <th></th>\n",
       "      <th>이름</th>\n",
       "      <th>나이</th>\n",
       "      <th>주소</th>\n",
       "    </tr>\n",
       "  </thead>\n",
       "  <tbody>\n",
       "    <tr>\n",
       "      <th>0</th>\n",
       "      <td>유재석</td>\n",
       "      <td>30</td>\n",
       "      <td>인천</td>\n",
       "    </tr>\n",
       "    <tr>\n",
       "      <th>1</th>\n",
       "      <td>박명수</td>\n",
       "      <td>20</td>\n",
       "      <td>서울</td>\n",
       "    </tr>\n",
       "    <tr>\n",
       "      <th>2</th>\n",
       "      <td>정준하</td>\n",
       "      <td>40</td>\n",
       "      <td>마포</td>\n",
       "    </tr>\n",
       "    <tr>\n",
       "      <th>3</th>\n",
       "      <td>노홍철</td>\n",
       "      <td>54</td>\n",
       "      <td>김포</td>\n",
       "    </tr>\n",
       "    <tr>\n",
       "      <th>4</th>\n",
       "      <td>하하</td>\n",
       "      <td>33</td>\n",
       "      <td>광주</td>\n",
       "    </tr>\n",
       "  </tbody>\n",
       "</table>\n",
       "</div>"
      ],
      "text/plain": [
       "    이름   나이   주소\n",
       "0  유재석   30   인천\n",
       "1  박명수   20   서울\n",
       "2  정준하   40   마포\n",
       "3  노홍철   54   김포\n",
       "4   하하   33   광주"
      ]
     },
     "execution_count": 7,
     "metadata": {},
     "output_type": "execute_result"
    }
   ],
   "source": [
    "# pip install pandas\n",
    "import pandas as pd\n",
    "\n",
    "df = pd.read_csv(\"data/member.csv\")\n",
    "df"
   ]
  },
  {
   "cell_type": "code",
   "execution_count": 8,
   "metadata": {},
   "outputs": [
    {
     "ename": "KeyError",
     "evalue": "'나이'",
     "output_type": "error",
     "traceback": [
      "\u001b[1;31m---------------------------------------------------------------------------\u001b[0m",
      "\u001b[1;31mKeyError\u001b[0m                                  Traceback (most recent call last)",
      "File \u001b[1;32m~\\anaconda\\Lib\\site-packages\\pandas\\core\\indexes\\base.py:3802\u001b[0m, in \u001b[0;36mIndex.get_loc\u001b[1;34m(self, key, method, tolerance)\u001b[0m\n\u001b[0;32m   3801\u001b[0m \u001b[38;5;28;01mtry\u001b[39;00m:\n\u001b[1;32m-> 3802\u001b[0m     \u001b[38;5;28;01mreturn\u001b[39;00m \u001b[38;5;28mself\u001b[39m\u001b[38;5;241m.\u001b[39m_engine\u001b[38;5;241m.\u001b[39mget_loc(casted_key)\n\u001b[0;32m   3803\u001b[0m \u001b[38;5;28;01mexcept\u001b[39;00m \u001b[38;5;167;01mKeyError\u001b[39;00m \u001b[38;5;28;01mas\u001b[39;00m err:\n",
      "File \u001b[1;32m~\\anaconda\\Lib\\site-packages\\pandas\\_libs\\index.pyx:138\u001b[0m, in \u001b[0;36mpandas._libs.index.IndexEngine.get_loc\u001b[1;34m()\u001b[0m\n",
      "File \u001b[1;32m~\\anaconda\\Lib\\site-packages\\pandas\\_libs\\index.pyx:165\u001b[0m, in \u001b[0;36mpandas._libs.index.IndexEngine.get_loc\u001b[1;34m()\u001b[0m\n",
      "File \u001b[1;32mpandas\\_libs\\hashtable_class_helper.pxi:5745\u001b[0m, in \u001b[0;36mpandas._libs.hashtable.PyObjectHashTable.get_item\u001b[1;34m()\u001b[0m\n",
      "File \u001b[1;32mpandas\\_libs\\hashtable_class_helper.pxi:5753\u001b[0m, in \u001b[0;36mpandas._libs.hashtable.PyObjectHashTable.get_item\u001b[1;34m()\u001b[0m\n",
      "\u001b[1;31mKeyError\u001b[0m: '나이'",
      "\nThe above exception was the direct cause of the following exception:\n",
      "\u001b[1;31mKeyError\u001b[0m                                  Traceback (most recent call last)",
      "Cell \u001b[1;32mIn[8], line 3\u001b[0m\n\u001b[0;32m      1\u001b[0m \u001b[38;5;66;03m# 이름\u001b[39;00m\n\u001b[0;32m      2\u001b[0m df[\u001b[38;5;124m\"\u001b[39m\u001b[38;5;124m이름\u001b[39m\u001b[38;5;124m\"\u001b[39m]\n\u001b[1;32m----> 3\u001b[0m df[\u001b[38;5;124m\"\u001b[39m\u001b[38;5;124m나이\u001b[39m\u001b[38;5;124m\"\u001b[39m]\n\u001b[0;32m      4\u001b[0m df[\u001b[38;5;124m\"\u001b[39m\u001b[38;5;124m주소\u001b[39m\u001b[38;5;124m\"\u001b[39m]\n",
      "File \u001b[1;32m~\\anaconda\\Lib\\site-packages\\pandas\\core\\frame.py:3807\u001b[0m, in \u001b[0;36mDataFrame.__getitem__\u001b[1;34m(self, key)\u001b[0m\n\u001b[0;32m   3805\u001b[0m \u001b[38;5;28;01mif\u001b[39;00m \u001b[38;5;28mself\u001b[39m\u001b[38;5;241m.\u001b[39mcolumns\u001b[38;5;241m.\u001b[39mnlevels \u001b[38;5;241m>\u001b[39m \u001b[38;5;241m1\u001b[39m:\n\u001b[0;32m   3806\u001b[0m     \u001b[38;5;28;01mreturn\u001b[39;00m \u001b[38;5;28mself\u001b[39m\u001b[38;5;241m.\u001b[39m_getitem_multilevel(key)\n\u001b[1;32m-> 3807\u001b[0m indexer \u001b[38;5;241m=\u001b[39m \u001b[38;5;28mself\u001b[39m\u001b[38;5;241m.\u001b[39mcolumns\u001b[38;5;241m.\u001b[39mget_loc(key)\n\u001b[0;32m   3808\u001b[0m \u001b[38;5;28;01mif\u001b[39;00m is_integer(indexer):\n\u001b[0;32m   3809\u001b[0m     indexer \u001b[38;5;241m=\u001b[39m [indexer]\n",
      "File \u001b[1;32m~\\anaconda\\Lib\\site-packages\\pandas\\core\\indexes\\base.py:3804\u001b[0m, in \u001b[0;36mIndex.get_loc\u001b[1;34m(self, key, method, tolerance)\u001b[0m\n\u001b[0;32m   3802\u001b[0m     \u001b[38;5;28;01mreturn\u001b[39;00m \u001b[38;5;28mself\u001b[39m\u001b[38;5;241m.\u001b[39m_engine\u001b[38;5;241m.\u001b[39mget_loc(casted_key)\n\u001b[0;32m   3803\u001b[0m \u001b[38;5;28;01mexcept\u001b[39;00m \u001b[38;5;167;01mKeyError\u001b[39;00m \u001b[38;5;28;01mas\u001b[39;00m err:\n\u001b[1;32m-> 3804\u001b[0m     \u001b[38;5;28;01mraise\u001b[39;00m \u001b[38;5;167;01mKeyError\u001b[39;00m(key) \u001b[38;5;28;01mfrom\u001b[39;00m \u001b[38;5;21;01merr\u001b[39;00m\n\u001b[0;32m   3805\u001b[0m \u001b[38;5;28;01mexcept\u001b[39;00m \u001b[38;5;167;01mTypeError\u001b[39;00m:\n\u001b[0;32m   3806\u001b[0m     \u001b[38;5;66;03m# If we have a listlike key, _check_indexing_error will raise\u001b[39;00m\n\u001b[0;32m   3807\u001b[0m     \u001b[38;5;66;03m#  InvalidIndexError. Otherwise we fall through and re-raise\u001b[39;00m\n\u001b[0;32m   3808\u001b[0m     \u001b[38;5;66;03m#  the TypeError.\u001b[39;00m\n\u001b[0;32m   3809\u001b[0m     \u001b[38;5;28mself\u001b[39m\u001b[38;5;241m.\u001b[39m_check_indexing_error(key)\n",
      "\u001b[1;31mKeyError\u001b[0m: '나이'"
     ]
    }
   ],
   "source": [
    "# 이름\n",
    "df[\"이름\"]\n",
    "df[\"나이\"]\n",
    "df[\"주소\"]"
   ]
  },
  {
   "cell_type": "code",
   "execution_count": 9,
   "metadata": {},
   "outputs": [
    {
     "data": {
      "text/plain": [
       "이름     박명수\n",
       " 나이     20\n",
       " 주소     서울\n",
       "Name: 1, dtype: object"
      ]
     },
     "execution_count": 9,
     "metadata": {},
     "output_type": "execute_result"
    }
   ],
   "source": [
    "df.loc[1]"
   ]
  },
  {
   "cell_type": "markdown",
   "metadata": {
    "slideshow": {
     "slide_type": "skip"
    }
   },
   "source": [
    "> **CSV (Comma Separated Value)** 파일\n",
    "> - 데이터들을 정형화(표)된 형태로 텍스트파일에 저장하는 방식\n",
    "> - 하나의 데이터는 한줄에 표시. (데이터 구분자는 엔터)\n",
    "> - 하나의 데이터를 구성하는 값들(속성)들은 , 로 구분\n",
    ">     - tab으로 구분하는 경우 TSV \n",
    ">     - 각 속성값들은 \" \" 로 감싸기도 한다.\n",
    "> - 텍스트기반\n",
    "> - 파일 확장자는 `.csv`, `.tsv` 로 준다."
   ]
  }
 ],
 "metadata": {
  "kernelspec": {
   "display_name": "Python 3 (ipykernel)",
   "language": "python",
   "name": "python3"
  },
  "language_info": {
   "codemirror_mode": {
    "name": "ipython",
    "version": 3
   },
   "file_extension": ".py",
   "mimetype": "text/x-python",
   "name": "python",
   "nbconvert_exporter": "python",
   "pygments_lexer": "ipython3",
   "version": "3.11.4"
  },
  "toc": {
   "base_numbering": 1,
   "nav_menu": {},
   "number_sections": true,
   "sideBar": true,
   "skip_h1_title": false,
   "title_cell": "Table of Contents",
   "title_sidebar": "Contents",
   "toc_cell": false,
   "toc_position": {},
   "toc_section_display": true,
   "toc_window_display": false
  },
  "varInspector": {
   "cols": {
    "lenName": 16,
    "lenType": 16,
    "lenVar": 40
   },
   "kernels_config": {
    "python": {
     "delete_cmd_postfix": "",
     "delete_cmd_prefix": "del ",
     "library": "var_list.py",
     "varRefreshCmd": "print(var_dic_list())"
    },
    "r": {
     "delete_cmd_postfix": ") ",
     "delete_cmd_prefix": "rm(",
     "library": "var_list.r",
     "varRefreshCmd": "cat(var_dic_list()) "
    }
   },
   "types_to_exclude": [
    "module",
    "function",
    "builtin_function_or_method",
    "instance",
    "_Feature"
   ],
   "window_display": false
  }
 },
 "nbformat": 4,
 "nbformat_minor": 4
}
