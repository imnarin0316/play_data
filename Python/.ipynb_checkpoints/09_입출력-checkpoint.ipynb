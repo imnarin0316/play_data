{
 "cells": [
  {
   "cell_type": "markdown",
   "metadata": {
    "slideshow": {
     "slide_type": "slide"
    }
   },
   "source": [
    "# Path (경로)\n",
    "\n",
    "- **경로(Path)**\n",
    "    - 프로그램에서 사용할 **자원의 위치를 path(경로)** 라고 한다.\n",
    "    - **파일 시스템**에서는 파일이나 디렉토리가 있는 위치의 경로를 말한다.\n",
    "    "
   ]
  },
  {
   "cell_type": "markdown",
   "metadata": {
    "slideshow": {
     "slide_type": "slide"
    }
   },
   "source": [
    "- **절대경로**\n",
    "    - 자원의 전체 경로를 표현하는 방식\n",
    "    - 시작 경로부터 자원(파일, 디렉토리)이 있는 위치까지 표현한다.\n",
    "        - 시작 경로: Root Path\n",
    "            - windows: `c:`, `d:`\n",
    "            - Unix, Linux: `/`"
   ]
  },
  {
   "cell_type": "markdown",
   "metadata": {
    "slideshow": {
     "slide_type": "fragment"
    }
   },
   "source": [
    "- **상대경로**\n",
    "    - 현재 작업 경로(위치)에서 부터 자원이 있는 위치까지 표현한다.\n",
    "        - 시작 경로: 현재 작업경로\n",
    "    - 구문\n",
    "        - `.` : 현재 디렉토리\n",
    "        - `..`: 상위 디렉토리\n",
    "        - `/` : 경로 구분자,  상위경로/하위경로"
   ]
  },
  {
   "cell_type": "markdown",
   "metadata": {
    "slideshow": {
     "slide_type": "fragment"
    }
   },
   "source": [
    "- 운영체제(O/S)별 경로구분자\n",
    "    - 윈도우즈: `\\` (역슬래쉬)\n",
    "    - 리눅스/유닉스: `/` (슬래쉬)"
   ]
  },
  {
   "cell_type": "code",
   "execution_count": 1,
   "metadata": {
    "slideshow": {
     "slide_type": "fragment"
    }
   },
   "outputs": [
    {
     "name": "stdout",
     "output_type": "stream",
     "text": [
      "c:\\tlasses\\python\\calc.py\n",
      "c:\\tlasses\\python\\cals.py\n"
     ]
    }
   ],
   "source": [
    "#경로를 문자열로 표시\n",
    "file_path1 = \"c:\\\\tlasses\\\\python\\\\calc.py\"\n",
    "file_path2 = r\"c:\\tlasses\\python\\cals.py\"\n",
    "\n",
    "print(file_path1)\n",
    "print(file_path2)"
   ]
  },
  {
   "cell_type": "code",
   "execution_count": null,
   "metadata": {},
   "outputs": [],
   "source": [
    "file_path3 = 'src\\python\\a.py'\n",
    "file_path4 = '.\\python\\a.py'\n",
    "file_path5 = 'python\\a.py' #.\\는 생략가능\n"
   ]
  },
  {
   "cell_type": "code",
   "execution_count": null,
   "metadata": {},
   "outputs": [],
   "source": [
    "# 현재 경로 => working direactory\n",
    "## => 현재 실행중인 프로그램 위치\n",
    "### 주피터 노트북 => 노트북 파일의 위치\n",
    "### script 파일의 실행 => script 파일 위치"
   ]
  },
  {
   "cell_type": "code",
   "execution_count": 3,
   "metadata": {},
   "outputs": [
    {
     "name": "stdout",
     "output_type": "stream",
     "text": [
      "<class 'str'> C:\\class\\Python\n"
     ]
    }
   ],
   "source": [
    "# 현재 working directory 조회\n",
    "import os\n",
    "cwd = os.getcwd() \n",
    "print(type(cwd), cwd)"
   ]
  },
  {
   "cell_type": "code",
   "execution_count": 5,
   "metadata": {},
   "outputs": [
    {
     "data": {
      "text/plain": [
       "True"
      ]
     },
     "execution_count": 5,
     "metadata": {},
     "output_type": "execute_result"
    }
   ],
   "source": [
    "f_path = './calculater.py'\n",
    "\n",
    "# 파일이 있는지 여부조회\n",
    "os.path.isfile(f_path)"
   ]
  },
  {
   "cell_type": "code",
   "execution_count": null,
   "metadata": {},
   "outputs": [],
   "source": [
    "# 현재 working directory를 변경\n",
    "os.chdir(r\"c:\\User_manual\") # ./ => c:\\User_manual 변경\n",
    "print(os.getcwd())"
   ]
  },
  {
   "cell_type": "code",
   "execution_count": null,
   "metadata": {},
   "outputs": [],
   "source": [
    "# os  모듈의 파일 / 디렉토리 관련 함수들\n",
    "# 디렉토리 생성\n",
    "os.mkdir(r\"c:\\classes\\source\") "
   ]
  },
  {
   "cell_type": "code",
   "execution_count": null,
   "metadata": {},
   "outputs": [],
   "source": [
    "# os  모듈의 파일 / 디렉토리 관련 함수들\n",
    "# 디렉토리 생성\n",
    "try:\n",
    "    os.mkdir(r\"c:\\classes\\source\") \n",
    "except FileExistsError: #이미 있는 디렉토리\n",
    "    print(\" 생성 못함\")\n",
    "    pass\n",
    "except FileNotFountError: # 상위 디렉토리 존재하지 않음.\n",
    "    print(\"상위디렉토리 먼저 생성\")"
   ]
  },
  {
   "cell_type": "code",
   "execution_count": 6,
   "metadata": {},
   "outputs": [],
   "source": [
    "os.makedirs(r\"c:\\classes\\source\", exist_ok=True) #이미있는 디렉토리면 무시 \n",
    "#상위 디렉토리가 없으면 상위디렉토리도 만들어준다."
   ]
  },
  {
   "cell_type": "code",
   "execution_count": null,
   "metadata": {},
   "outputs": [],
   "source": [
    "# 디렉토리 삭제\n",
    "# os.rmdir(r\"c:\\classes\")  불가\n",
    "# 빈 디렉토리만 삭제가 가능하다. \n",
    "os.rmdir(r\"c:\\classes\\source\")\n",
    "os.rmdir(r\"c:\\classes\") # 가능"
   ]
  },
  {
   "cell_type": "code",
   "execution_count": null,
   "metadata": {},
   "outputs": [],
   "source": [
    "os.remove(r\"c:\\classes\\source\")"
   ]
  },
  {
   "cell_type": "code",
   "execution_count": null,
   "metadata": {},
   "outputs": [],
   "source": [
    "file_list = os.listdir(r\"c:\\classes\\source\") \n",
    "#지정한 디렉토리의 하위 요소들 이름들 문자열 리스트로 반환"
   ]
  },
  {
   "cell_type": "code",
   "execution_count": 7,
   "metadata": {},
   "outputs": [
    {
     "data": {
      "text/plain": [
       "'a\\\\b\\\\c\\\\d'"
      ]
     },
     "execution_count": 7,
     "metadata": {},
     "output_type": "execute_result"
    }
   ],
   "source": [
    "os.path.join('a', 'b', 'c', 'd')\n"
   ]
  },
  {
   "cell_type": "code",
   "execution_count": null,
   "metadata": {},
   "outputs": [],
   "source": [
    "root_path = r\"c:\\classes\\python\"\n",
    "for file in file_list:\n",
    "    file_path = os.path.join(foot_path,file)\n",
    "    if os.path.isfile(file_path):\n",
    "        print(\"file-\", file)\n",
    "    elif os.path.isdir(file_path):\n",
    "        print(\"dir-\", file)"
   ]
  },
  {
   "cell_type": "markdown",
   "metadata": {
    "slideshow": {
     "slide_type": "slide"
    }
   },
   "source": [
    "# 입출력 (IO)\n",
    "\n",
    "## 입출력이란\n",
    "- 프로그램이 사용하려는 외부 자원을 연결하여 데이터를 입력 받거나 출력하는 작업을 IO라고 한다.\n",
    "- 외부 자원\n",
    "    - 파일, 원격지 컴퓨터(Network으로 연결된 컴퓨터의 자원), 데이터베이스 등.\n",
    "- **Stream**\n",
    "    - 입출력 시 **데이터의 흐름을 stream** 이라고 한다.\n",
    "- InputStream \n",
    "    - Program이 외부로 부터 데이터를 읽어 들이는 흐름.\n",
    "- OutputStream \n",
    "    - Program이 외부로 데이터를 써주는 흐름.\n",
    "\n",
    "\n",
    "![io](images/ch09_01.png)"
   ]
  },
  {
   "cell_type": "markdown",
   "metadata": {
    "slideshow": {
     "slide_type": "subslide"
    }
   },
   "source": [
    "## IO 코딩 순서\n",
    "![순서](images/ch09_02.png)"
   ]
  },
  {
   "cell_type": "markdown",
   "metadata": {
    "slideshow": {
     "slide_type": "subslide"
    }
   },
   "source": [
    "### 파일 열기(연결)\n",
    "- open() 함수 사용\n",
    "    - 연결된 파일과 입출력 메소드를 제공하는 객체(Stream)를 리턴\n",
    "- 구문\n",
    "    - `open(file, mode='r', encoding=None)`\n",
    "    - 함수 주요 매개변수\n",
    "        - file : 연결할 파일 경로\n",
    "        - mode : 열기 모드\n",
    "            - mode는 목적, 데이터종류를 조합한 문자열을 사용한다.\n",
    "        - encoding \n",
    "            - 텍스트 파일일 경우 인코딩 방식\n",
    "            - None 또는 생략하면  os 기본 encoding방식을 따른다.\n",
    "                - Windows: cp949/euckr\n",
    "                - Linux, Unix: utf-8\n",
    "|mode타입|mode문자|설명|\n",
    "|:-|-|-|\n",
    "|목적|r|읽기 모드-목적의 기본 모드|\n",
    "||w|새로 쓰기 모드|\n",
    "||a|이어 쓰기 모드|\n",
    "||x|새로 쓰기모드-연결하려는 파일이 있으면 Exception발생|\n",
    "|데이터종류|b|binary 모드|\n",
    "||t|Text모드-text데이터 입출력시 사용|\n",
    "    "
   ]
  },
  {
   "cell_type": "markdown",
   "metadata": {
    "slideshow": {
     "slide_type": "subslide"
    }
   },
   "source": [
    "### 출력 메소드\n",
    "\n",
    "- write(출력할 Data)\n",
    "    - 연결된 파일에 `출력할 Data` 출력한다.\n",
    "- writelines(문자열을 가진 컬렉션)\n",
    "    - 리스트, 튜플, 집합이 원소로 가진 문자열들을 한번에 출력한다.\n",
    "    - text 출력일 경우에만 사용가능.\n",
    "    - 원소에 문자열 이외의 타입의 값이 있을 경우 TypeError 발생"
   ]
  },
  {
   "cell_type": "code",
   "execution_count": 1,
   "metadata": {
    "slideshow": {
     "slide_type": "fragment"
    }
   },
   "outputs": [
    {
     "name": "stdout",
     "output_type": "stream",
     "text": [
      "c:\\class\\Python\n"
     ]
    }
   ],
   "source": [
    "import os\n",
    "os.chdir(r\"c:\\class\\Python\")\n",
    "print(os.getcwd())"
   ]
  },
  {
   "cell_type": "code",
   "execution_count": 20,
   "metadata": {},
   "outputs": [
    {
     "name": "stdout",
     "output_type": "stream",
     "text": [
      "<class '_io.TextIOWrapper'>\n"
     ]
    }
   ],
   "source": [
    "# 출력할 파일들을 저장할 디렉토리를 생성\n",
    "os.makedirs(\"files\", exist_ok=True)\n",
    "\n",
    "# 출력할 파일과 연결\n",
    "fw = open(\"files/test.txt\", #연결할 파일 경로\n",
    "          mode = \"wt\", #w: 출력, t:text => 생락가능\n",
    "          encoding=\"utf-8\" #문자열 인코딩 방식. 생략시 os기본 인코딩 방식을 따름. \n",
    "         )\n",
    "\n",
    "print(type(fw))\n",
    "\n",
    "# 2. 출력(output)작업.\n",
    "fw.write(\"안녕하세요.\\n\")\n",
    "fw.write('반갑습니다.\\n')\n",
    "\n",
    "#3. 파일과 연결 닫기\n",
    "fw.close()\n",
    "\n",
    "\n"
   ]
  },
  {
   "cell_type": "code",
   "execution_count": 23,
   "metadata": {},
   "outputs": [
    {
     "name": "stdout",
     "output_type": "stream",
     "text": [
      "<class '_io.TextIOWrapper'>\n"
     ]
    }
   ],
   "source": [
    "\n",
    "# 출력할 파일과 연결\n",
    "fw = open(\"files/test2.txt\", #연결할 파일 경로\n",
    "          mode = \"at\", #w: 출력 - 이어쓰기, t:text => 생락가능\n",
    "          encoding=\"utf-8\" #문자열 인코딩 방식. 생략시 os기본 인코딩 방식을 따름. \n",
    "         )\n",
    "\n",
    "print(type(fw))\n",
    "\n",
    "# 2. 출력(output)작업.\n",
    "fw.write(\"안녕하세요.\\n\")\n",
    "fw.write('반갑습니다.\\n')\n",
    "\n",
    "#3. 파일과 연결 닫기\n",
    "fw.close()\n",
    "\n",
    "\n"
   ]
  },
  {
   "cell_type": "code",
   "execution_count": 24,
   "metadata": {},
   "outputs": [],
   "source": [
    "# 연결\n",
    "fw = open(\"files/test3.txt\", \"wt\", encoding=\"utf-8\")\n",
    "txt = ['aaa', '111', 'ddd']\n",
    "\n",
    "# 한번에 쓰고 싶을 때. 출력\n",
    "# for t in txt:\n",
    "#     fw.write(t)\n",
    "fw.writelines(txt)\n",
    "\n",
    "# 연결\n",
    "fw.close()"
   ]
  },
  {
   "cell_type": "code",
   "execution_count": 26,
   "metadata": {},
   "outputs": [
    {
     "name": "stdout",
     "output_type": "stream",
     "text": [
      "wt utf-8 files/test3.txt\n",
      "연결여부 확인 True\n"
     ]
    },
    {
     "data": {
      "text/plain": [
       "'연결 닫힘'"
      ]
     },
     "execution_count": 26,
     "metadata": {},
     "output_type": "execute_result"
    }
   ],
   "source": [
    "# TextIOWrapper (fw)의 속성 조회 => 연결 Stream 정보\n",
    "print(fw.mode, fw.encoding, fw.name)\n",
    "print(\"연결여부 확인\", fw.closed)\n",
    "\n",
    "\"연결 닫힘\" if fw.closed else \"연결중임\""
   ]
  },
  {
   "cell_type": "code",
   "execution_count": null,
   "metadata": {},
   "outputs": [],
   "source": []
  },
  {
   "cell_type": "markdown",
   "metadata": {
    "slideshow": {
     "slide_type": "slide"
    }
   },
   "source": [
    "### 입력 메소드\n",
    "- read() : 문자열(text mode), bytes(binary mode) \n",
    "    - 연결된 파일의 내용을 한번에 모두 읽어 들인다.\n",
    "- readline() : 문자열(text mode), bytes(binary mode)\n",
    "    - 한 줄만 읽는다.\n",
    "    - text 입력일 경우만 사용가능\n",
    "    - 읽은 라인이 없으면 `None`을 리턴한다.\n",
    "- readlines() : 리스트\n",
    "    - 한번에 다 읽은 뒤 각각의 라인을 리스트에 원소로 담아 반환한다.\n",
    "- Input Stream (TextIOWrapper, BufferedReader)는 Iterable 타입\n",
    "    - for문을 이용한 라인단위 순차 조회할 수 있다."
   ]
  },
  {
   "cell_type": "code",
   "execution_count": 29,
   "metadata": {
    "slideshow": {
     "slide_type": "fragment"
    }
   },
   "outputs": [
    {
     "name": "stdout",
     "output_type": "stream",
     "text": [
      "안녕하세요.\n",
      "반갑습니다.\n",
      "\n"
     ]
    }
   ],
   "source": [
    "# 읽기 \n",
    "\n",
    "# 1. 연결\n",
    "fr = open(\"files/test.txt\", mode=\"rt\", encoding=\"utf-8\") #r기본, t-기본 (rt일 경우는 생략가능.)\n",
    "\n",
    "# 2. 읽기\n",
    "read_txt = fr.read() #전체를 한번에 읽어온다.\n",
    "print(read_txt)\n",
    "\n",
    "# 3. 연결 닫기\n",
    "fr.close()\n"
   ]
  },
  {
   "cell_type": "code",
   "execution_count": 31,
   "metadata": {},
   "outputs": [
    {
     "name": "stdout",
     "output_type": "stream",
     "text": [
      "안녕하세요.\n",
      "\n",
      "반갑습니다.\n",
      "\n"
     ]
    }
   ],
   "source": [
    "# 1. 연결\n",
    "fr = open(\"files/test.txt\", mode=\"rt\", encoding=\"utf-8\") #r기본, t-기본 (rt일 경우는 생략가능.)\n",
    "\n",
    "# 2. 읽기\n",
    "# read_txt = fr.readline() \n",
    "# print(read_txt)\n",
    "# read_txt = fr.readline()  # 다시 한번 readline을 실행할 경우 다음줄을 읽어온다.\n",
    "# print(read_txt)\n",
    "read_txt = fr.readline()  # 한 줄 읽은 것이 없으면 None 반환\n",
    "while read_txt is not None:\n",
    "    print(read_txt)\n",
    "    read_txt = fr.readline()\n",
    "    \n",
    "\n",
    "# 3. 연결 닫기\n",
    "fr.close()\n"
   ]
  },
  {
   "cell_type": "code",
   "execution_count": 32,
   "metadata": {},
   "outputs": [
    {
     "name": "stdout",
     "output_type": "stream",
     "text": [
      "['안녕하세요.\\n', '반갑습니다.\\n']\n"
     ]
    }
   ],
   "source": [
    "# 1. 연결\n",
    "fr = open(\"files/test.txt\", mode=\"rt\", encoding=\"utf-8\") \n",
    "txt_list = fr.readlines()\n",
    "fr.close()\n",
    "\n",
    "print(txt_list)\n"
   ]
  },
  {
   "cell_type": "code",
   "execution_count": 34,
   "metadata": {},
   "outputs": [
    {
     "name": "stdout",
     "output_type": "stream",
     "text": [
      "1. 안녕하세요.\n",
      "2. 반갑습니다.\n"
     ]
    }
   ],
   "source": [
    "for line_no,txt in enumerate(txt_list, start=1):\n",
    "    print(f\"{line_no}. {txt.strip()}\")"
   ]
  },
  {
   "cell_type": "code",
   "execution_count": 37,
   "metadata": {},
   "outputs": [
    {
     "name": "stdout",
     "output_type": "stream",
     "text": [
      "1 안녕하세요.\n",
      "2 반갑습니다.\n"
     ]
    }
   ],
   "source": [
    "fr = open(\"files/test.txt\", mode=\"rt\", encoding=\"utf-8\") \n",
    "\n",
    "#입력 Stream (TextIOWrapper) ==> Iterable타입 ===> for in 문으로 사용가능\n",
    "## ==> 한번 반복할 때마다 한 줄 읽은 것을 반환\n",
    "\n",
    "for idx, txt in enumerate(fr, start =1):\n",
    "    print(idx, txt.strip())\n"
   ]
  },
  {
   "cell_type": "code",
   "execution_count": 38,
   "metadata": {},
   "outputs": [
    {
     "name": "stdout",
     "output_type": "stream",
     "text": [
      "안녕하세요.\n",
      "\n",
      "반갑습니다.\n",
      "\n"
     ]
    }
   ],
   "source": [
    "fr = open(\"files/test.txt\", mode=\"rt\", encoding=\"utf-8\") \n",
    "for _ in range(2):\n",
    "    print(fr.readline())\n",
    "fr.close()"
   ]
  },
  {
   "cell_type": "code",
   "execution_count": null,
   "metadata": {},
   "outputs": [],
   "source": []
  },
  {
   "cell_type": "markdown",
   "metadata": {
    "slideshow": {
     "slide_type": "slide"
    }
   },
   "source": [
    "## with block\n",
    "\n",
    "파일과 입출력 작업이 다 끝나면 반드시 연결을 닫아야 한다. 매번 연결을 닫는 작업을 하는 것이 번거롭고 실수로 안 닫을 경우 문제가 생길 수 있다. **with block은 block을 벗어나면 자동으로 연결을 닫아 준다.** 그래서 연결을 닫는 코드를 생략할 수 있다.\n",
    "\n",
    "- 구문\n",
    "```python\n",
    "with open() as 변수: # `변수`는 open()이 반환하는 Stream객체를 참조한다.\n",
    "    입출력 작업      # 변수를 이용해 입출력 작업을 처리한다.\n",
    "# with block을 빠져 나오면 close()가 자동으로 실행된다.\n",
    "```"
   ]
  },
  {
   "cell_type": "code",
   "execution_count": 39,
   "metadata": {
    "slideshow": {
     "slide_type": "fragment"
    }
   },
   "outputs": [
    {
     "name": "stdout",
     "output_type": "stream",
     "text": [
      "안녕하세요.\n",
      "반갑습니다.\n",
      "안녕하세요.\n",
      "반갑습니다.\n",
      "안녕하세요.\n",
      "반갑습니다.\n",
      "\n",
      "fr 연결여부: True\n"
     ]
    }
   ],
   "source": [
    "with open(\"files/test2.txt\",\"rt\", encoding=\"utf-8\") as fr: # fr은 파일을 담는 변수 값. \n",
    "    txt = fr.read()\n",
    "    \n",
    "# width block을 빠져나옴. \n",
    "print(txt)\n",
    "print(f\"fr 연결여부: {fr.closed}\")\n",
    "    \n"
   ]
  },
  {
   "cell_type": "code",
   "execution_count": null,
   "metadata": {},
   "outputs": [],
   "source": [
    "try: \n",
    "    연결\n",
    "    입/출력\n",
    "except: \n",
    "    예외처리\n",
    "finally:\n",
    "    fr.close()"
   ]
  },
  {
   "cell_type": "code",
   "execution_count": null,
   "metadata": {},
   "outputs": [],
   "source": []
  },
  {
   "cell_type": "markdown",
   "metadata": {
    "slideshow": {
     "slide_type": "slide"
    }
   },
   "source": [
    "# pickle 모듈을 이용한 객체 직렬화\n",
    "\n",
    "## 객체 직렬화(Object Serialization)\n",
    "- 객체의 속성값들을 bytes로 변환해 출력하는 것을 객체 직렬화(Object Serialization) 이라고 한다.\n",
    "- bytes로 출력된 데이터를 읽어 객체화 하는 것을 객체 역직렬화(Object Deserialization) 이라고 한다."
   ]
  },
  {
   "cell_type": "markdown",
   "metadata": {
    "slideshow": {
     "slide_type": "fragment"
    }
   },
   "source": [
    "### pickle\n",
    "- 객체 파일 입출력을 위한 파이썬 모듈\n",
    "- open() 시 **binary mode**로 설정한다.\n",
    "- 저장시 파일 확장자는 보통 `pkl` 이나 `pickle` 로 한다.\n",
    "- ex)\n",
    "```python\n",
    "fw = open(\"data.pkl\", \"wb\") # 객체를 pickle에 저장하기 위한 output stream 생성\n",
    "fr = open(\"data.pkl\", \"rb\") # 파일에 저장된 객체를 읽어오기 위한 input stream 생성\n",
    "```\n",
    "- **메소드**\n",
    "    - dump(저장할 객체, fw) : 출력\n",
    "    - load(fr): 입력 - 읽은 객체를 반환한다."
   ]
  },
  {
   "cell_type": "code",
   "execution_count": null,
   "metadata": {
    "slideshow": {
     "slide_type": "fragment"
    }
   },
   "outputs": [],
   "source": []
  },
  {
   "cell_type": "markdown",
   "metadata": {
    "slideshow": {
     "slide_type": "skip"
    }
   },
   "source": [
    "# TODO"
   ]
  },
  {
   "cell_type": "markdown",
   "metadata": {
    "slideshow": {
     "slide_type": "skip"
    }
   },
   "source": [
    "- 간단한 터미널 기반 메모장\n",
    "    1. 사용자로부터 파일명을 입력받는다.\n",
    "    2. 사용자로부터 파일에 저장할 문장을 입력받아서 파일에 저장한다.\n",
    "        - 한줄씩 입력받는다.\n",
    "        - 사용자가 !q 를 입력하면 저장후 종료한다.\n",
    "    3. 사용자가 저장한 파일을 읽어서 출력한다.\n"
   ]
  },
  {
   "cell_type": "code",
   "execution_count": 10,
   "metadata": {
    "slideshow": {
     "slide_type": "skip"
    }
   },
   "outputs": [
    {
     "name": "stdout",
     "output_type": "stream",
     "text": [
      "파일이름:t.txt\n",
      "저장한 문장을 한줄씩 입력하세요.fjds\n",
      "fkd\n",
      "fk\n",
      "ahfl\n",
      "!q\n",
      "dfj\n",
      "!q\n",
      "\n"
     ]
    }
   ],
   "source": [
    "file_name = input(\"파일이름:\")\n",
    "fw = open(file_name, \"at\", encoding=\"utf-8\")\n",
    "f_info = ''\n",
    "\n",
    "while f_info != '!q':\n",
    "    f_info = input('저장한 문장을 한줄씩 입력하세요.')\n",
    "    fw.write(f_info + \"\\n\")\n",
    "\n",
    "fw.close()\n",
    "\n",
    "fr = open(file_name, mode=\"rt\", encoding=\"utf-8\")\n",
    "read_txt = fr.read()\n",
    "print(read_txt)\n",
    "\n",
    "fr.close()"
   ]
  },
  {
   "cell_type": "code",
   "execution_count": 43,
   "metadata": {},
   "outputs": [
    {
     "name": "stdout",
     "output_type": "stream",
     "text": [
      "c:\\class\\Python\n",
      "파일 생성하기\n",
      "파일이름:t.txt\n",
      "저장한 문장을 한줄씩 입력하세요.: dfsj\n",
      "저장한 문장을 한줄씩 입력하세요.: fd\n",
      "저장한 문장을 한줄씩 입력하세요.: fsf\n",
      "저장한 문장을 한줄씩 입력하세요.: !\n",
      "저장한 문장을 한줄씩 입력하세요.: !q\n",
      "저장이 완료되었습니다.\n",
      "\n",
      "\n",
      "t.txt 파일을 읽어왔습니다.\n",
      "dfsj\n",
      "fd\n",
      "fsf\n",
      "!\n",
      "\n"
     ]
    }
   ],
   "source": [
    "import os\n",
    "os.chdir(r\"c:\\class\\Python\")\n",
    "print(os.getcwd())\n",
    "\n",
    "class StrNameException(Exception): #Exception 상속받기\n",
    "    def __init__(self, file_name):\n",
    "        self.file_name = file_name\n",
    "        \n",
    "    def __str__(self):\n",
    "        #exception 메세지를 문자열로 반환. 왜 인셉션이 났는지.\n",
    "        return f\"{self.file_name}에 '.txt'가 속하지 않았습니다.\"\n",
    "\n",
    "class WrFile:\n",
    "    def __init__(self):\n",
    "        print(\"파일 생성하기\")\n",
    "    \n",
    "    def save_file(self, file_name):\n",
    "        if '.txt' not in file_name:\n",
    "            raise StrNameException(file_name)\n",
    "        else:    \n",
    "            with open(file_name, 'at', encoding=\"utf-8\") as fw:\n",
    "                content_txt = ''\n",
    "                while content_txt != '!q':\n",
    "                    content_txt = input('저장한 문장을 한줄씩 입력하세요.: ')\n",
    "                    if content_txt != '!q':\n",
    "                        fw.write(content_txt + '\\n')\n",
    "                print(\"저장이 완료되었습니다.\\n\\n\")\n",
    "\n",
    "    def read_file(self,file_name):\n",
    "        print(f\"{file_name} 파일을 읽어왔습니다.\")\n",
    "        with open(file_name, 'rt', encoding=\"utf-8\") as fr:\n",
    "            read_fr = fr.read()\n",
    "            print(read_fr)\n",
    "         \n",
    "\n",
    "wr = WrFile()\n",
    "file_n = input(\"파일이름:\")\n",
    "wr.save_file(file_n)\n",
    "wr.read_file(file_n)"
   ]
  },
  {
   "cell_type": "code",
   "execution_count": null,
   "metadata": {},
   "outputs": [],
   "source": []
  },
  {
   "cell_type": "markdown",
   "metadata": {
    "slideshow": {
     "slide_type": "skip"
    }
   },
   "source": [
    "> **CSV (Comma Separated Value)** 파일\n",
    "> - 데이터들을 정형화(표)된 형태로 텍스트파일에 저장하는 방식\n",
    "> - 하나의 데이터는 한줄에 표시. (데이터 구분자는 엔터)\n",
    "> - 하나의 데이터를 구성하는 값들(속성)들은 , 로 구분\n",
    ">     - tab으로 구분하는 경우 TSV \n",
    ">     - 각 속성값들은 \" \" 로 감싸기도 한다.\n",
    "> - 텍스트기반\n",
    "> - 파일 확장자는 `.csv`, `.tsv` 로 준다."
   ]
  },
  {
   "cell_type": "code",
   "execution_count": 41,
   "metadata": {},
   "outputs": [
    {
     "name": "stdout",
     "output_type": "stream",
     "text": [
      "c:\\class\\Python\n"
     ]
    }
   ],
   "source": [
    "import os\n",
    "os.chdir(r\"c:\\class\\Python\")\n",
    "print(os.getcwd())\n"
   ]
  },
  {
   "cell_type": "code",
   "execution_count": 83,
   "metadata": {},
   "outputs": [
    {
     "name": "stdout",
     "output_type": "stream",
     "text": [
      "작업시작\n"
     ]
    },
    {
     "ename": "FileNotFoundError",
     "evalue": "[Errno 2] No such file or directory: 'data/member.csvㅇ'",
     "output_type": "error",
     "traceback": [
      "\u001b[1;31m---------------------------------------------------------------------------\u001b[0m",
      "\u001b[1;31mFileNotFoundError\u001b[0m                         Traceback (most recent call last)",
      "Cell \u001b[1;32mIn[83], line 34\u001b[0m\n\u001b[0;32m     30\u001b[0m         \u001b[38;5;28mprint\u001b[39m(\u001b[38;5;124m\"\u001b[39m\u001b[38;5;124m주소 : \u001b[39m\u001b[38;5;124m\"\u001b[39m, addlist)\n\u001b[0;32m     33\u001b[0m per_son \u001b[38;5;241m=\u001b[39m PersonList()\n\u001b[1;32m---> 34\u001b[0m per_son\u001b[38;5;241m.\u001b[39mget_info(\u001b[38;5;124m\"\u001b[39m\u001b[38;5;124mdata/member.csvㅇ\u001b[39m\u001b[38;5;124m\"\u001b[39m)\n\u001b[0;32m     35\u001b[0m per_son\u001b[38;5;241m.\u001b[39msave_info()\n",
      "Cell \u001b[1;32mIn[83], line 14\u001b[0m, in \u001b[0;36mPersonList.get_info\u001b[1;34m(self, file_name)\u001b[0m\n\u001b[0;32m     11\u001b[0m \u001b[38;5;28;01mdef\u001b[39;00m \u001b[38;5;21mget_info\u001b[39m(\u001b[38;5;28mself\u001b[39m,file_name):\n\u001b[0;32m     12\u001b[0m     \u001b[38;5;28;01mglobal\u001b[39;00m li\n\u001b[1;32m---> 14\u001b[0m     \u001b[38;5;28;01mwith\u001b[39;00m \u001b[38;5;28mopen\u001b[39m(file_name, \u001b[38;5;124m'\u001b[39m\u001b[38;5;124mrt\u001b[39m\u001b[38;5;124m'\u001b[39m, encoding\u001b[38;5;241m=\u001b[39m\u001b[38;5;124m\"\u001b[39m\u001b[38;5;124mutf-8\u001b[39m\u001b[38;5;124m\"\u001b[39m) \u001b[38;5;28;01mas\u001b[39;00m fr:\n\u001b[0;32m     15\u001b[0m         read_fr \u001b[38;5;241m=\u001b[39m fr\u001b[38;5;241m.\u001b[39mreadlines()\n\u001b[0;32m     17\u001b[0m         \u001b[38;5;28;01mfor\u001b[39;00m i \u001b[38;5;129;01min\u001b[39;00m \u001b[38;5;28mrange\u001b[39m(\u001b[38;5;241m1\u001b[39m,\u001b[38;5;28mlen\u001b[39m(read_fr)):\n",
      "File \u001b[1;32m~\\anaconda\\Lib\\site-packages\\IPython\\core\\interactiveshell.py:284\u001b[0m, in \u001b[0;36m_modified_open\u001b[1;34m(file, *args, **kwargs)\u001b[0m\n\u001b[0;32m    277\u001b[0m \u001b[38;5;28;01mif\u001b[39;00m file \u001b[38;5;129;01min\u001b[39;00m {\u001b[38;5;241m0\u001b[39m, \u001b[38;5;241m1\u001b[39m, \u001b[38;5;241m2\u001b[39m}:\n\u001b[0;32m    278\u001b[0m     \u001b[38;5;28;01mraise\u001b[39;00m \u001b[38;5;167;01mValueError\u001b[39;00m(\n\u001b[0;32m    279\u001b[0m         \u001b[38;5;124mf\u001b[39m\u001b[38;5;124m\"\u001b[39m\u001b[38;5;124mIPython won\u001b[39m\u001b[38;5;124m'\u001b[39m\u001b[38;5;124mt let you open fd=\u001b[39m\u001b[38;5;132;01m{\u001b[39;00mfile\u001b[38;5;132;01m}\u001b[39;00m\u001b[38;5;124m by default \u001b[39m\u001b[38;5;124m\"\u001b[39m\n\u001b[0;32m    280\u001b[0m         \u001b[38;5;124m\"\u001b[39m\u001b[38;5;124mas it is likely to crash IPython. If you know what you are doing, \u001b[39m\u001b[38;5;124m\"\u001b[39m\n\u001b[0;32m    281\u001b[0m         \u001b[38;5;124m\"\u001b[39m\u001b[38;5;124myou can use builtins\u001b[39m\u001b[38;5;124m'\u001b[39m\u001b[38;5;124m open.\u001b[39m\u001b[38;5;124m\"\u001b[39m\n\u001b[0;32m    282\u001b[0m     )\n\u001b[1;32m--> 284\u001b[0m \u001b[38;5;28;01mreturn\u001b[39;00m io_open(file, \u001b[38;5;241m*\u001b[39margs, \u001b[38;5;241m*\u001b[39m\u001b[38;5;241m*\u001b[39mkwargs)\n",
      "\u001b[1;31mFileNotFoundError\u001b[0m: [Errno 2] No such file or directory: 'data/member.csvㅇ'"
     ]
    }
   ],
   "source": [
    "# 전역변수 \n",
    "li = []\n",
    "namelist = []\n",
    "agelist = []\n",
    "addlist = []\n",
    "        \n",
    "class PersonList:\n",
    "    def __init__(self): \n",
    "        print(\"작업시작\")\n",
    "    \n",
    "    def get_info(self,file_name):\n",
    "        global li\n",
    "        \n",
    "        with open(file_name, 'rt', encoding=\"utf-8\") as fr:\n",
    "            read_fr = fr.readlines()\n",
    "\n",
    "            for i in range(1,len(read_fr)):\n",
    "                li.append(read_fr[i].split(','))\n",
    "            \n",
    "    def save_info(self):\n",
    "        global namelist, agelist, addlist\n",
    "        \n",
    "        for a,b,c in li:\n",
    "            namelist.append(a)\n",
    "            agelist.append(b.replace(\" \", \"\"))\n",
    "            addlist.append(c.replace(\" \", \"\").replace(\"\\n\", \"\"))\n",
    "            \n",
    "        print(\"이름 : \", namelist)\n",
    "        print(\"나이 : \", agelist)\n",
    "        print(\"주소 : \", addlist)\n",
    "    \n",
    "\n",
    "per_son = PersonList()\n",
    "per_son.get_info(\"data/member.csv\")\n",
    "per_son.save_info()\n"
   ]
  },
  {
   "cell_type": "code",
   "execution_count": null,
   "metadata": {},
   "outputs": [],
   "source": []
  }
 ],
 "metadata": {
  "kernelspec": {
   "display_name": "Python 3 (ipykernel)",
   "language": "python",
   "name": "python3"
  },
  "language_info": {
   "codemirror_mode": {
    "name": "ipython",
    "version": 3
   },
   "file_extension": ".py",
   "mimetype": "text/x-python",
   "name": "python",
   "nbconvert_exporter": "python",
   "pygments_lexer": "ipython3",
   "version": "3.11.4"
  },
  "toc": {
   "base_numbering": 1,
   "nav_menu": {},
   "number_sections": true,
   "sideBar": true,
   "skip_h1_title": false,
   "title_cell": "Table of Contents",
   "title_sidebar": "Contents",
   "toc_cell": false,
   "toc_position": {},
   "toc_section_display": true,
   "toc_window_display": false
  },
  "varInspector": {
   "cols": {
    "lenName": 16,
    "lenType": 16,
    "lenVar": 40
   },
   "kernels_config": {
    "python": {
     "delete_cmd_postfix": "",
     "delete_cmd_prefix": "del ",
     "library": "var_list.py",
     "varRefreshCmd": "print(var_dic_list())"
    },
    "r": {
     "delete_cmd_postfix": ") ",
     "delete_cmd_prefix": "rm(",
     "library": "var_list.r",
     "varRefreshCmd": "cat(var_dic_list()) "
    }
   },
   "types_to_exclude": [
    "module",
    "function",
    "builtin_function_or_method",
    "instance",
    "_Feature"
   ],
   "window_display": false
  }
 },
 "nbformat": 4,
 "nbformat_minor": 4
}
