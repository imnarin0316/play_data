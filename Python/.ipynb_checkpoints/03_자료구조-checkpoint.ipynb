{
 "cells": [
  {
   "cell_type": "markdown",
   "id": "da193321",
   "metadata": {
    "slideshow": {
     "slide_type": "slide"
    }
   },
   "source": [
    "# 자료구조란\n",
    "\n",
    "- 여러 개의 값들을 모아서 관리하는 데이터 타입.\n",
    "    - 한 개의 변수는 한 개의 값 밖에는 가지지 못한다. 그러나 하나의 변수로 여러 개의 값 묶어서 저장해 관리해야 할 경우가 있다. \n",
    "    - 예) 고객의 정보의 경우 이름, 나이, 주소, 전화번호 등 여러개의 값이 모여서 하나의 값이 된다. \n",
    "- 파이썬은 데이터를 모으는 방식에 따라 다음과 같이 4개의 타입을 제공한다.\n",
    "    - List: 순서가 있으며 중복된 값들을 모으는 것을 허용하고 구성하는 값들(원소)을 변경할 수 있다.\n",
    "    - Tuple: 순서가 있으며 중복된 값들을 모으는 것을 허용하는데 구성하는 값들을 변경할 수 없다.\n",
    "    - Dictionary: key-value 형태로 값들을 저장해 관리한다.\n",
    "    - Set: 중복을 허용하지 않고 값들의 순서가 없다.\n",
    "- 원소, 성분, 요소, element\n",
    "    - 자료구조의 값들을 구성하는 개별 값들을 말한다.\n",
    "    - len(자료구조) 함수\n",
    "        - 자료구조 내의 원소의 개수를 반환한다."
   ]
  },
  {
   "cell_type": "markdown",
   "id": "84431cfd",
   "metadata": {
    "slideshow": {
     "slide_type": "slide"
    }
   },
   "source": [
    "# List (리스트)\n",
    "\n",
    "- 값을 순서대로 모아서 관리하는 자료구조. 원소(element)들을 순번을 이용해 식별한다.\n",
    "    - 각각의 원소가 어떤 값인지를 순번을 가지고 식별하기 때문에 **순서가 매우 중요하다.** 즉 같은 값에 대해 순서가 바뀌면 안된다.\n",
    "- 각 원소들은 순번을 index라고 하며 값을 조회하거나 변경할 때 index를 이용해 식별한다.\n",
    "    - index는 문자열과 마찮가지로 양수 index와 음수 index 두개가 각 값에 생긴다.\n",
    "    - 양수 index는 앞에서부터 음수 index는 뒤에서 부터 값을 식별할 때 사용하는 것이 편리하다.\n",
    "    - **index를 가지고 각 원소값의 의미를 식별할 수 있으면 List나 Tuple을 사용한다.**\n",
    "- 중복된 값들을 저장할 수 있다.\n",
    "- 각 원소들의 데이터 타입은 달라도 상관없다.\n",
    "    - 보통은 같은 타입의 데이터를 모은다.\n",
    "- 리스트를 구성하는 원소들을 변경할 수 있다. (추가, 삭제, 변경이 가능)\n",
    "\n",
    "## List 생성 구문\n",
    "```python\n",
    "[값, 값, 값, ..]\n",
    "```"
   ]
  },
  {
   "cell_type": "code",
   "execution_count": null,
   "id": "efc59691",
   "metadata": {
    "ExecuteTime": {
     "end_time": "2022-12-18T00:22:24.071490Z",
     "start_time": "2022-12-18T00:22:23.651455Z"
    },
    "slideshow": {
     "slide_type": "fragment"
    }
   },
   "outputs": [],
   "source": []
  },
  {
   "cell_type": "markdown",
   "id": "08d634bf",
   "metadata": {
    "slideshow": {
     "slide_type": "subslide"
    }
   },
   "source": [
    "## Indexing과 Slicing을 이용한 원소(element) 조회 및 변경\n",
    "\n",
    "### Indexing\n",
    "- 하나의 원소를 조회하거나 변경할 때 사용\n",
    "- 리스트\\[index\\] \n",
    "    - index의 원소를 조회\n",
    "- 리스트\\[index\\] = 값\n",
    "    - index의 원소를 변경"
   ]
  },
  {
   "cell_type": "markdown",
   "id": "ab5a40cb",
   "metadata": {
    "slideshow": {
     "slide_type": "fragment"
    }
   },
   "source": [
    "### Slicing\n",
    "- 범위로 조회하거나 그 범위의 값들을 변경한다.\n",
    "- 기본구문: **리스트\\[ 시작 index : 종료 index : 간격\\]**\n",
    "    - 시작 index ~ (종료 index – 1)\n",
    "    - 간격을 지정하면 간격만큼 index를 증/감한다. (생략 시 1이 기본 간격)\n",
    "- **0번 index 부터 조회 할 경우 시작 index는 생략가능**\n",
    "    - 리스트 \\[ : 5\\] => 0 ~ 4 까지 조회\n",
    "- **마지막 index까지 (끝까지) 조회 할 경우 종료 index는 생략 가능**\n",
    "    - 리스트\\[2 : \\] => 2번 index 에서 끝까지\n",
    "- **명시적으로 간격을 줄 경우**\n",
    "    - 리스트\\[ : : 3 \\] => 0, 3, 6, 9.. index의 값 조회\n",
    "    - 리스트\\[1 : 9 : 2\\] => 1, 3, 5, 7 index의 값 조회\n",
    "- **시작 index > 종료 index, 간격을 음수로 하면 역으로 반환한다.(Reverse)**\n",
    "    - 리스트\\[5: 1: -1\\] => 5, 4, 3, 2 index의 값 조회\n",
    "    - 리스트\\[: : -1\\]  => 마지막 index ~ 0번 index 까지 의미. Reverse 한다.\n",
    "\n",
    "#### slicing을 이용한 값 변경\n",
    "- slicing 을 이용할 경우 slicing된 원소 개수와 동일한 개수의 값들을 대입한다.\n",
    "    - `리스트[1:5] = 10,20,30,40` : index 1, 2, 3, 4의 값을 각각 10, 20, 30, 40 으로 변경"
   ]
  },
  {
   "cell_type": "code",
   "execution_count": null,
   "id": "5d462776",
   "metadata": {
    "slideshow": {
     "slide_type": "fragment"
    }
   },
   "outputs": [],
   "source": []
  },
  {
   "cell_type": "markdown",
   "id": "a4f9fe12",
   "metadata": {
    "slideshow": {
     "slide_type": "slide"
    }
   },
   "source": [
    "## List 연산자\n",
    "- 리스트 + 리스트\n",
    "    - 두 리스트의 원소들을 합친 리스트를 반환한다.\n",
    "- 리스트 * 정수\n",
    "    - 같은 리스트의 원소들을 정수번 합친 리스트를 반환한다.   \n",
    "- in, not in 연산자\n",
    "    - 값 in 리스트\n",
    "        - 리스트의 원소로 값이 **있으면** True, 없으면 False 반환\n",
    "    - 값 not in 리스트\n",
    "        - 리스트의 원소로 값이 **없으면** True, 있으면 False 반환  \n",
    "- len(리스트)\n",
    "    - 리스트 내의 원소수를 반환.        "
   ]
  },
  {
   "cell_type": "code",
   "execution_count": null,
   "id": "f085e817",
   "metadata": {
    "ExecuteTime": {
     "end_time": "2022-12-17T14:17:03.293505Z",
     "start_time": "2022-12-17T14:17:03.285501Z"
    },
    "slideshow": {
     "slide_type": "fragment"
    }
   },
   "outputs": [],
   "source": []
  },
  {
   "cell_type": "markdown",
   "id": "f90af754",
   "metadata": {
    "slideshow": {
     "slide_type": "slide"
    }
   },
   "source": [
    "## 중첩 리스트 (Nested List)\n",
    "- List가 원소로 List를 가지는 것을 말한다.\n",
    "    - List를 포함한 모든 자료구조 타입들도 다 값이므로 다른 자료구조의 원소로 들어갈 수 있다.    "
   ]
  },
  {
   "cell_type": "code",
   "execution_count": null,
   "id": "01bede57",
   "metadata": {
    "slideshow": {
     "slide_type": "fragment"
    }
   },
   "outputs": [],
   "source": []
  },
  {
   "cell_type": "markdown",
   "id": "29ff0e07",
   "metadata": {
    "slideshow": {
     "slide_type": "slide"
    }
   },
   "source": [
    "## List 대입\n",
    "- 리스트의 원소들을 각각 다른 변수에 대입하는 표현식\n",
    "- 변수의 개수와 리스트 원소의 개수는 동일해야 한다."
   ]
  },
  {
   "cell_type": "code",
   "execution_count": null,
   "id": "2dfd6c46",
   "metadata": {
    "slideshow": {
     "slide_type": "fragment"
    }
   },
   "outputs": [],
   "source": []
  },
  {
   "cell_type": "markdown",
   "id": "826b8780",
   "metadata": {
    "slideshow": {
     "slide_type": "slide"
    }
   },
   "source": [
    "## List 주요 메소드\n",
    "|메소드|설명|\n",
    "|:-|-|\n",
    "|append(value)|value를  추가한다.|\n",
    "|extend(List)|List의 원소들을 추가한다.|\n",
    "|sort(\\[reverse=False\\])|원소들을 오름차순 정렬한다. reverse=True로 하면 내림차순정렬 한다.|\n",
    "|insert(index, 삽입할값)|지정한 index에 '삽입할값'을 삽입한다.|\n",
    "|remove(삭제할값)|'삭제할값' 값과 같은 원소를 삭제한다.|\n",
    "|index(찾을값\\[, 시작index\\])|'찾을값'의 index를 반환한다.|\n",
    "|pop(\\[index\\])|index의 값을 반환하면서 삭제한다. index 생략하면 가장 마지막 값을 반환하며 삭제한다.|\n",
    "|count(값)|'값'이 리스트의 원소로 몇개 있는지 반환한다.|\n",
    "|clear()|리스트 안의 모든 원소들을 삭제한다.|\n",
    "\n"
   ]
  },
  {
   "cell_type": "code",
   "execution_count": null,
   "id": "4b14d8e8",
   "metadata": {
    "slideshow": {
     "slide_type": "fragment"
    }
   },
   "outputs": [],
   "source": []
  },
  {
   "cell_type": "markdown",
   "id": "5b28f033",
   "metadata": {
    "slideshow": {
     "slide_type": "slide"
    }
   },
   "source": [
    "# Tuple (튜플)\n",
    "- List와 같이 순서대로 원소들을 관리한다. 단 저장된 원소를 변경할 수 없다.\n",
    "- Tuple 은 각 위치(Index) 마다 정해진 의미가 있고 그 값이 한번 설정되면 바뀌지 않는 경우에 사용한다. \n",
    "    - Tuple은 값의 변경되지 않으므로 안전하다.\n",
    "    \n",
    "## Tuple 생성\n",
    "- `(value, value, value, ...)`\n",
    "- 소괄호를 생략할 수 있다.\n",
    "- 원소가 하나인 Tuple 표현식\n",
    "    - `(value,)` 또는 `value,` \n",
    "        - 값 뒤에 `,` 를 붙여준다. `,`를 붙이지 않으면 ( )가 연산자 우선순위 괄호가 된다. "
   ]
  },
  {
   "cell_type": "code",
   "execution_count": null,
   "id": "17099a9e",
   "metadata": {
    "slideshow": {
     "slide_type": "fragment"
    }
   },
   "outputs": [],
   "source": []
  },
  {
   "cell_type": "markdown",
   "id": "16954356",
   "metadata": {
    "slideshow": {
     "slide_type": "slide"
    }
   },
   "source": [
    "## Indexing과 Slicing을 이용한 원소(element) 조회\n",
    "- 리스트와 동일하다.\n",
    "- 단 튜플은 조회만 가능하고 원소를 변경할 수 없다."
   ]
  },
  {
   "cell_type": "code",
   "execution_count": null,
   "id": "6c5b9b2c",
   "metadata": {
    "slideshow": {
     "slide_type": "fragment"
    }
   },
   "outputs": [],
   "source": []
  },
  {
   "cell_type": "markdown",
   "id": "135101f3",
   "metadata": {
    "slideshow": {
     "slide_type": "slide"
    }
   },
   "source": [
    "## Tuple 연산자\n",
    "- tuple + tuple\n",
    "    - 두 tuple의 원소들을 합친 tuple을 반환한다.\n",
    "- tuple * 정수\n",
    "    - 같은 tuple의 원소들을 정수번 합친 tuple를 반환한다.  \n",
    "- in, not in 연산자\n",
    "    - 값 in tuple\n",
    "        - tuple의 원소로 값이 **있으면** True, 없으면 False 반환\n",
    "    - 값 not in tuple\n",
    "        - tuple의 원소로 값이 **없으면** True, 있으면 False 반환    \n",
    "- len(tuple)\n",
    "    - tuple의 원소 개수 반환        "
   ]
  },
  {
   "cell_type": "code",
   "execution_count": null,
   "id": "5903e00f",
   "metadata": {
    "slideshow": {
     "slide_type": "fragment"
    }
   },
   "outputs": [],
   "source": []
  },
  {
   "cell_type": "markdown",
   "id": "6b602a99",
   "metadata": {
    "slideshow": {
     "slide_type": "slide"
    }
   },
   "source": [
    "## Tuple 대입\n",
    "- 튜플의 원소들을 각각 다른 변수에 대입하는 표현식.\n",
    "- 변수의 개수와 튜플의 원소 개수는 동일해야 한다."
   ]
  },
  {
   "cell_type": "code",
   "execution_count": null,
   "id": "78d4e181",
   "metadata": {
    "slideshow": {
     "slide_type": "fragment"
    }
   },
   "outputs": [],
   "source": []
  },
  {
   "cell_type": "markdown",
   "id": "89803fdd",
   "metadata": {
    "slideshow": {
     "slide_type": "subslide"
    }
   },
   "source": [
    "## Tuple의 주요 메소드\n",
    "|메소드|설명|\n",
    "|:-|-|\n",
    "|index(찾을값 \\[, 시작index\\])|'찾을값'이 몇번 index인지 반환한다.|\n",
    "|count(값)|원소로 '값'이 몇개 있는지 반환한다.|"
   ]
  },
  {
   "cell_type": "code",
   "execution_count": null,
   "id": "93a527af",
   "metadata": {
    "slideshow": {
     "slide_type": "fragment"
    }
   },
   "outputs": [],
   "source": []
  },
  {
   "cell_type": "markdown",
   "id": "e6c196f5",
   "metadata": {
    "slideshow": {
     "slide_type": "slide"
    }
   },
   "source": [
    "# Dictionary\n",
    "- 값을 키(key)-값(value) 쌍으로 묶어서 저장하는 자료구조이다.\n",
    "    - 리스트나 튜플의 index의 역할을 하는 key를 직접 지정한다.\n",
    "    - 서로 의미가 다른 값들을 하나로 묶을 때 그 값의 의미를 key로 가질 수 있는 dictionary를 사용한다.\n",
    "        - cf) 값의 의미가 같을 경우 List나 Tuple을 사용한다.\n",
    "    - key-value 쌍으로 묶은 데이터 한개를 **item 또는 entry**라고 한다.\n",
    "    - key는 중복을 허용하지 않고 value는 중복을 허용한다.\n",
    "    \n",
    "## Dictionary 생성\n",
    "- 구문\n",
    "    1. `{ 키 : 값, 키 : 값, 키 : 값 }`\n",
    "    2. dict(key=value, key=value) 함수 이용\n",
    "    - 키(key)는 불변(Immutable)의 값들만 사용 가능하다. (숫자, 문자열, 튜플) 일반적으로 문자열을 사용한다.\n",
    "    - dict() 함수를 사용할 경우 key는 변수로 정의한다"
   ]
  },
  {
   "cell_type": "code",
   "execution_count": null,
   "id": "d9d37f28",
   "metadata": {
    "slideshow": {
     "slide_type": "fragment"
    }
   },
   "outputs": [],
   "source": []
  },
  {
   "cell_type": "markdown",
   "id": "f8c87bd3",
   "metadata": {
    "slideshow": {
     "slide_type": "subslide"
    }
   },
   "source": [
    "## Dictionary 원소 조회 및 변경\n",
    "- 조회: index에 key값을 식별자로 지정한다.\n",
    "    - dictionary\\[ key \\]\n",
    "    - 없는 키로 조회 시 KeyError 발생\n",
    "- 변경\n",
    "    - dictionary\\[ key \\] = 값\n",
    "    - 있는 key값에 값을 대입하면 변경이고 없는 key 일 경우는 새로운 item을 추가하는 것이다."
   ]
  },
  {
   "cell_type": "code",
   "execution_count": null,
   "id": "459db630",
   "metadata": {
    "slideshow": {
     "slide_type": "fragment"
    }
   },
   "outputs": [],
   "source": []
  },
  {
   "cell_type": "markdown",
   "id": "d5aade1e",
   "metadata": {
    "slideshow": {
     "slide_type": "slide"
    }
   },
   "source": [
    "## Dictionary 연산자\n",
    "\n",
    "- in, not in 연산자\n",
    "    - 값 in dictionary\n",
    "        - dictionary의 **Key**로 값이 **있으면** True, 없으면 False 반환\n",
    "    - 값 not in dictionary\n",
    "        - dictionary의 **Key**로 값이 **없으면** True, 있으면 False 반환    \n",
    "- len(dictionary)\n",
    "    - dictionary의 **Item의 개수** 반환        "
   ]
  },
  {
   "cell_type": "code",
   "execution_count": null,
   "id": "4a7c9061",
   "metadata": {
    "slideshow": {
     "slide_type": "fragment"
    }
   },
   "outputs": [],
   "source": []
  },
  {
   "cell_type": "markdown",
   "id": "9f620ec1",
   "metadata": {
    "slideshow": {
     "slide_type": "slide"
    }
   },
   "source": [
    "## Dictionary 주요 메소드\n",
    "\n",
    "|메소드|설명|\n",
    "|:-|-|\n",
    "|get(key\\[, 기본값\\])|key의 item의 값을 반환한다. 단 key가 없을 경우 None또는 기본값을 반환한다.|\n",
    "|pop(key)|key의 item의 값을 반환하면서 dictionary에서 삭제한다. 없는 key일 경우 KeyError발생|\n",
    "|clear()|dictionary의 모든 item들을 삭제한다.|\n",
    "|del dict\\[key\\]|key의 item을 제거한다.|\n",
    "|items()|item의 key, value를 튜플로 묶어 모아 반환한다.|\n",
    "|keys()|key값들만 모아 반환한다.|\n",
    "|values()|value값들만 모아 반환한다.|"
   ]
  },
  {
   "cell_type": "code",
   "execution_count": null,
   "id": "350e7ad5",
   "metadata": {
    "slideshow": {
     "slide_type": "fragment"
    }
   },
   "outputs": [],
   "source": []
  },
  {
   "cell_type": "markdown",
   "id": "d97869af",
   "metadata": {
    "slideshow": {
     "slide_type": "slide"
    }
   },
   "source": [
    "# Set \n",
    "\n",
    "- Set은 중복되는 값을 허용하지 않고 순서를 신경 쓰지 않는다.\n",
    "    - 원소를 식별할 수 있는 식별자가 없기 때문에 Set은 indexing과 slicing을 지원하지 않는다\n",
    "\n",
    "## Set 생성\n",
    "- 구문\n",
    "    - {값, 값, 값 }\n",
    "\n",
    "> -빈 Dictionary 만들기\n",
    ">    - info = {}\n",
    ">    - 중괄호만 사용하면 빈 set이 아니라 빈 dictionary를 생성하는 것임.\n"
   ]
  },
  {
   "cell_type": "code",
   "execution_count": null,
   "id": "5c88480a",
   "metadata": {
    "slideshow": {
     "slide_type": "fragment"
    }
   },
   "outputs": [],
   "source": []
  },
  {
   "cell_type": "markdown",
   "id": "79cf0f20",
   "metadata": {
    "slideshow": {
     "slide_type": "slide"
    }
   },
   "source": [
    "## Set 연산자\n",
    "\n",
    "- in, not in 연산자\n",
    "    - 값 in Set\n",
    "        - Set의 원소로 값이 **있으면** True, 없으면 False 반환\n",
    "    - 값 not in Set\n",
    "        - Set의 원소로 값이 **없으면** True, 있으면 False 반환    \n",
    "- len(Set)\n",
    "    - Set의 **원소의 개수** 반환        "
   ]
  },
  {
   "cell_type": "code",
   "execution_count": null,
   "id": "80be18ad",
   "metadata": {
    "slideshow": {
     "slide_type": "fragment"
    }
   },
   "outputs": [],
   "source": []
  },
  {
   "cell_type": "markdown",
   "id": "080c2a17",
   "metadata": {
    "slideshow": {
     "slide_type": "slide"
    }
   },
   "source": [
    "## Set의 주요 메소드\n",
    "\n",
    "|메소드|설명|\n",
    "|-|-|\n",
    "|add(값)|집합에 값 추가|\n",
    "|update(자료구조)|자료구조내의 원소들을 모두 집합에 추가|\n",
    "|pop()|원소를 반환하고 Set에서 삭제한다.|\n",
    "|remove(값)|값을 찾아서 Set에서 삭제한다.|"
   ]
  },
  {
   "cell_type": "code",
   "execution_count": null,
   "id": "b12f08b0",
   "metadata": {
    "slideshow": {
     "slide_type": "fragment"
    }
   },
   "outputs": [],
   "source": []
  },
  {
   "cell_type": "markdown",
   "id": "33d115cd",
   "metadata": {
    "slideshow": {
     "slide_type": "subslide"
    }
   },
   "source": [
    "## Set의 집합연산 연산자 및 메소드\n",
    "\n",
    "- 합집합\n",
    "    - 집합A | 집합B\n",
    "    - 집합A.union(집합B)\n",
    "- 교집합\n",
    "    - 집합A & 집합B\n",
    "    - 집합A.intersection(집합B)\n",
    "- 차집합\n",
    "    - 집합A - 집합B\n",
    "    - 집합A.difference(집합B)"
   ]
  },
  {
   "cell_type": "code",
   "execution_count": null,
   "id": "64bf5839",
   "metadata": {
    "slideshow": {
     "slide_type": "fragment"
    }
   },
   "outputs": [],
   "source": []
  },
  {
   "cell_type": "markdown",
   "id": "a3778f41",
   "metadata": {
    "slideshow": {
     "slide_type": "slide"
    }
   },
   "source": [
    "# 자료구조 변환 함수\n",
    "\n",
    "- list(자료구조)\n",
    "    - 대상 자료구조/Iterable을 List로 변환한다.\n",
    "- tuple(자료구조)\n",
    "    - 대상 자료구조/Iterable을 Tuple로 변환\n",
    "- set(자료구조)\n",
    "    - 대상 자료구조/Iterable을 Set으로 변환\n",
    "    - 다른 자료구조의 원소 중 중복을 빼고 조회할 때 set()를 이용해 Set으로 변환한다.\n",
    "- Dictionary로 변환하는 함수는 없다.\n",
    "- 변경할 대상이 Dictionary 일 경우에는 key값들만 모아서 변환한다.\n",
    "\n",
    "> - Iterable\n",
    ">    - 반복가능한 객체. \n",
    ">    - 다음 값 달라는 요청받으면 값을 제공한다. 제공할 값을 다 줄 때까지 요청을 받을때 마다 순차적으로 하나씩 제공한다.\n",
    ">         - Iterable이 제공하는 값을 반복문을 이용해 조회할 경우 **for in문**을 사용한다.\n",
    ">    - 대표적으로 자료구조, 문자열 등이 있다."
   ]
  },
  {
   "cell_type": "code",
   "execution_count": null,
   "id": "07fd6373",
   "metadata": {
    "slideshow": {
     "slide_type": "fragment"
    }
   },
   "outputs": [],
   "source": []
  },
  {
   "cell_type": "markdown",
   "id": "b4671a5d",
   "metadata": {
    "slideshow": {
     "slide_type": "skip"
    }
   },
   "source": [
    "# TODO"
   ]
  },
  {
   "cell_type": "code",
   "execution_count": null,
   "id": "12398809",
   "metadata": {
    "slideshow": {
     "slide_type": "skip"
    }
   },
   "outputs": [],
   "source": [
    "# 문제 1 ~ 7\n",
    "jumsu = [100, 90, 100, 80, 70, 100, 80, 90, 95, 85] \n",
    "# 위 리스트는 학생번호 1번 ~ 10번까지 10명의 시험 점수이다. \n",
    "\n",
    "#(1)  7번의 점수를 출력하세요 \n",
    "\n",
    "\n",
    "#(2)  1번부터 5번까지의 점수를 출력하세요.\n",
    "\n",
    "\n",
    "#(3)  4, 5, 6, 7번의 점수를 출력하세요.\n",
    "\n",
    "\n",
    "#(4) 짝수번째 점수를 출력하세요.\n",
    "\n",
    "\n",
    "#(5) 홀수번째 점수를 출력하세요.\n",
    "\n",
    "\n",
    "#(6) 9번의 점수를 20으로 변경하고 전체 출력하세요.\n",
    "\n",
    "\n",
    "#(7) 중복된 점수는 제거하고 하나씩만 나오도록 출력하세요.\n",
    "\n",
    "\n",
    "# 문제 8 ~ 9\n",
    "fruits = [\"복숭아\", \"수박\", \"딸기\"]\n",
    "\n",
    "#(8) fruits 리스트에 마지막 원소로 \"사과\", \"귤\"을 추가하세요.\n",
    "\n",
    "\n",
    "#(9) fruits 리스트에서 \"복숭아\"를 제거하세요.\n",
    "\n",
    "\n",
    "# 문제 10 ~ 15\n",
    "#(10)본인의 이름, 나이, email주소, 취미, 결혼유무를 사전(딕셔너리)으로 생성. \n",
    "# 취미는 2개 이상의 값을 넣는다..\n",
    "\n",
    "\n",
    "#(11) 위 딕셔너리에서 이름과 email주소를 조회해서 출력하세요.\n",
    "\n",
    "\n",
    "#(12) 위 딕셔너리에서 취미중 두번째 취미를 조회해서 출력하세요.\n",
    "\n",
    "\n",
    "#(13) 위 딕셔너리에 몸무게와 키 항목을 추가하세요.\n",
    "\n",
    "\n",
    "#(14) 위 딕셔너리에서 나이를 제거하세요.\n",
    "\n",
    "\n",
    "#(15) 위 딕셔너리에서 email 주소를 다른 값으로 변경하세요."
   ]
  }
 ],
 "metadata": {
  "kernelspec": {
   "display_name": "Python 3 (ipykernel)",
   "language": "python",
   "name": "python3"
  },
  "language_info": {
   "codemirror_mode": {
    "name": "ipython",
    "version": 3
   },
   "file_extension": ".py",
   "mimetype": "text/x-python",
   "name": "python",
   "nbconvert_exporter": "python",
   "pygments_lexer": "ipython3",
   "version": "3.11.4"
  },
  "toc": {
   "base_numbering": 1,
   "nav_menu": {},
   "number_sections": true,
   "sideBar": true,
   "skip_h1_title": false,
   "title_cell": "Table of Contents",
   "title_sidebar": "Contents",
   "toc_cell": false,
   "toc_position": {
    "height": "calc(100% - 180px)",
    "left": "10px",
    "top": "150px",
    "width": "512px"
   },
   "toc_section_display": true,
   "toc_window_display": false
  },
  "varInspector": {
   "cols": {
    "lenName": 16,
    "lenType": 16,
    "lenVar": 40
   },
   "kernels_config": {
    "python": {
     "delete_cmd_postfix": "",
     "delete_cmd_prefix": "del ",
     "library": "var_list.py",
     "varRefreshCmd": "print(var_dic_list())"
    },
    "r": {
     "delete_cmd_postfix": ") ",
     "delete_cmd_prefix": "rm(",
     "library": "var_list.r",
     "varRefreshCmd": "cat(var_dic_list()) "
    }
   },
   "types_to_exclude": [
    "module",
    "function",
    "builtin_function_or_method",
    "instance",
    "_Feature"
   ],
   "window_display": false
  }
 },
 "nbformat": 4,
 "nbformat_minor": 5
}
