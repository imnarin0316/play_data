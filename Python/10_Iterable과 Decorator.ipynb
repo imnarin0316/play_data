{
 "cells": [
  {
   "cell_type": "markdown",
   "id": "562c702d",
   "metadata": {
    "slideshow": {
     "slide_type": "slide"
    }
   },
   "source": [
    "# Iterable과 Iterator\n",
    "\n",
    "- **Iterable**\n",
    "    - 여러개의 데이터를 하나씩 또는 한 단위씩 제공하는 객체.\n",
    "        - 다음 작업을 요청하면 값을 제공하며 for in 문에서 사용할 수 있다.\n",
    "    - Iterator객체를 반환하는 `__iter__()` 특수 메소드를 정의해야 한다.\n",
    "        - `__iter__()`는 `iter(Iterable)` 내장함수에 의해 호출된다. \n",
    "- **Iterator**\n",
    "    - 자신을 생성한 Iterable의 값들을 하나씩 또는 한 단위씩 제공하는 객체\n",
    "    - Iterable의 값을 제공하는 `__next__()` 특수 메소드를 정의한다.\n",
    "        - `__next__()` 는 `next(Iterator)` 내정함수에 의해 호출된다.\n",
    "        - 더 이상 제공할 값이 없을 경우 **StopIteration** Exception을 발생시켜야 한다."
   ]
  },
  {
   "cell_type": "code",
   "execution_count": 1,
   "id": "61e96ef5",
   "metadata": {},
   "outputs": [
    {
     "name": "stdout",
     "output_type": "stream",
     "text": [
      "<class 'list'> <class 'list_iterator'>\n"
     ]
    }
   ],
   "source": [
    "l = [1, 2, 3]  # 리스트 > list --> iterable > __iter__() 구현\n",
    "l_iterator = iter(l) # iter(iterable객체) -> iterable객체.__iter__()\n",
    "\n",
    "print(type(l), type(l_iterator))"
   ]
  },
  {
   "cell_type": "code",
   "execution_count": 2,
   "id": "2a7d19c2",
   "metadata": {},
   "outputs": [
    {
     "data": {
      "text/plain": [
       "<list_iterator at 0x215ccdbdd20>"
      ]
     },
     "execution_count": 2,
     "metadata": {},
     "output_type": "execute_result"
    }
   ],
   "source": [
    "# l.__iter__()"
   ]
  },
  {
   "cell_type": "code",
   "execution_count": 3,
   "id": "ba713cfc",
   "metadata": {},
   "outputs": [
    {
     "name": "stdout",
     "output_type": "stream",
     "text": [
      "<class 'tuple_iterator'>\n"
     ]
    }
   ],
   "source": [
    "t = (1, 2, 3, 4)\n",
    "t_iterator = iter(t)\n",
    "print(type(t_iterator))"
   ]
  },
  {
   "cell_type": "code",
   "execution_count": 4,
   "id": "b0ccc281",
   "metadata": {},
   "outputs": [
    {
     "name": "stdout",
     "output_type": "stream",
     "text": [
      "1\n"
     ]
    }
   ],
   "source": [
    "# iterator의 __next__() 메소드를 호출 --> next(iterator)\n",
    "### 자기를 생성한 iterable객체의 원소를 하나 반환.\n",
    "print(next(l_iterator))"
   ]
  },
  {
   "cell_type": "code",
   "execution_count": 5,
   "id": "c7d5c4b6",
   "metadata": {
    "slideshow": {
     "slide_type": "fragment"
    }
   },
   "outputs": [
    {
     "name": "stdout",
     "output_type": "stream",
     "text": [
      "2\n"
     ]
    }
   ],
   "source": [
    "print(next(l_iterator))"
   ]
  },
  {
   "cell_type": "code",
   "execution_count": 6,
   "id": "fca5d16a",
   "metadata": {},
   "outputs": [
    {
     "name": "stdout",
     "output_type": "stream",
     "text": [
      "3\n"
     ]
    }
   ],
   "source": [
    "print(next(l_iterator))"
   ]
  },
  {
   "cell_type": "code",
   "execution_count": 7,
   "id": "b88a8ac6",
   "metadata": {},
   "outputs": [
    {
     "ename": "StopIteration",
     "evalue": "",
     "output_type": "error",
     "traceback": [
      "\u001b[1;31m---------------------------------------------------------------------------\u001b[0m",
      "\u001b[1;31mStopIteration\u001b[0m                             Traceback (most recent call last)",
      "Cell \u001b[1;32mIn[7], line 1\u001b[0m\n\u001b[1;32m----> 1\u001b[0m \u001b[38;5;28mprint\u001b[39m(\u001b[38;5;28mnext\u001b[39m(l_iterator))\n",
      "\u001b[1;31mStopIteration\u001b[0m: "
     ]
    }
   ],
   "source": [
    "print(next(l_iterator))"
   ]
  },
  {
   "cell_type": "code",
   "execution_count": 10,
   "id": "08faed3b",
   "metadata": {
    "collapsed": true
   },
   "outputs": [
    {
     "name": "stdout",
     "output_type": "stream",
     "text": [
      "1\n",
      "2\n",
      "3\n",
      "4\n",
      "5\n",
      "다음작업\n"
     ]
    }
   ],
   "source": [
    "iterable = [1, 2, 3, 4, 5]\n",
    "#1. iterable->iterator생성\n",
    "iterator = iter(iterable)\n",
    "while True:\n",
    "    try:\n",
    "        value = next(iterator)\n",
    "        print(value)\n",
    "    except StopIteration:\n",
    "        break\n",
    "\n",
    "print(\"다음작업\")"
   ]
  },
  {
   "cell_type": "code",
   "execution_count": 11,
   "id": "27199c66",
   "metadata": {},
   "outputs": [],
   "source": [
    "def forIn(iterable, func): \n",
    "    # iterable: 원소를 제공할 iterable 객체\n",
    "    # func: 각 원소를 처리한 함수.\n",
    "    iterator = iter(iterable)\n",
    "    while True:\n",
    "        try:\n",
    "            value = next(iterator)\n",
    "            func(value)\n",
    "        except StopIteration:\n",
    "            break\n",
    "            \n",
    "# for value in iterable:\n",
    "#     xxx\n",
    "#     xx"
   ]
  },
  {
   "cell_type": "code",
   "execution_count": 13,
   "id": "2bdea1e9",
   "metadata": {},
   "outputs": [
    {
     "name": "stdout",
     "output_type": "stream",
     "text": [
      "1\n",
      "2\n",
      "3\n",
      "10\n",
      "20\n",
      "30\n"
     ]
    }
   ],
   "source": [
    "forIn([1,2, 3], lambda x : print(x))\n",
    "forIn((10, 20, 30), lambda x : print(x))"
   ]
  },
  {
   "cell_type": "markdown",
   "id": "ad311a49",
   "metadata": {
    "slideshow": {
     "slide_type": "subslide"
    }
   },
   "source": [
    "## for in 문 Iterable의 값을 순환반복하는 과정\n",
    "\n",
    "1. 반복 조회할 iterable객체의 __iter__() 를 호출 하여 Iterator를 구한다.\n",
    "1. 매 반복마다 Iterator의 __next__() 를 호출하여 다음 원소를 조회한다.\n",
    "1. 모든 원소들이 다 제공해 StopIteration Exception이 발생하면 반복문을 멈추고 빠져나온다."
   ]
  },
  {
   "cell_type": "code",
   "execution_count": 37,
   "id": "4199f2f0",
   "metadata": {},
   "outputs": [],
   "source": [
    "# Iterable 과 Iterator를 구현\n",
    "## 각각 다른 클래스로 구현\n",
    "class MyIterable:\n",
    "    \n",
    "    def __init__(self, *args):\n",
    "        # **args: 제공할 원소값들을 가변인자로 받기.\n",
    "        self.values = args\n",
    "    \n",
    "    # iterable\n",
    "    def __iter__(self):\n",
    "        # Iterable은 반드시 __iter__() 특수 메소드를 구현해야한다.\n",
    "        # __iter__()는 Iterator객체를 반환 하도록 구현.\n",
    "        return MyIterator(self.values)\n",
    "    \n",
    "    # subscriptable - indexing 가능\n",
    "    def __getitem__(self, index):\n",
    "        return self.values[index]\n",
    "    \n",
    "    # len(객체) 호출되는 특수메소드 -> 원소의 개수를 반환.\n",
    "    def __len__(self):\n",
    "        return len(self.values)"
   ]
  },
  {
   "cell_type": "code",
   "execution_count": 38,
   "id": "0dc2bedb",
   "metadata": {},
   "outputs": [
    {
     "data": {
      "text/plain": [
       "3"
      ]
     },
     "execution_count": 38,
     "metadata": {},
     "output_type": "execute_result"
    }
   ],
   "source": [
    "i = MyIterable(1, 2, 3)\n",
    "i[2]\n",
    "len(i)"
   ]
  },
  {
   "cell_type": "code",
   "execution_count": 22,
   "id": "574a1365",
   "metadata": {},
   "outputs": [],
   "source": [
    "class MyIterator:\n",
    "    \n",
    "    def __init__(self, values):\n",
    "        # Itarator가 제공할 값을 MyIterable로 부터 받는다.\n",
    "        self.values = values\n",
    "        self.index = 0  # 제공할 값의 index\n",
    "        \n",
    "    def __next__(self):\n",
    "        # Iterator는 반드시 __next__() 특수 메소드를 구현해야한다.\n",
    "        ## Iterable에서 받은 원소들에서 하나의 값을 순서대로 제공하도록 구현.\n",
    "        ## 더 제공할 값이 없으면 StopIteration 예외를 발생시킨다.\n",
    "        if len(self.values) <= self.index:\n",
    "            raise StopIteration()\n",
    "        r_value = self.values[self.index] # 제공할 값을 조회\n",
    "        self.index += 1  #  index를 하나 증가\n",
    "        return r_value"
   ]
  },
  {
   "cell_type": "code",
   "execution_count": 23,
   "id": "0dce0fee",
   "metadata": {},
   "outputs": [],
   "source": [
    "i = MyIterable(1, 2, 3, 4, 5) #iterable 생성\n",
    "it = iter(i)  # iterable로 부터 iterator를 생성"
   ]
  },
  {
   "cell_type": "code",
   "execution_count": 24,
   "id": "79dd97d9",
   "metadata": {},
   "outputs": [
    {
     "data": {
      "text/plain": [
       "1"
      ]
     },
     "execution_count": 24,
     "metadata": {},
     "output_type": "execute_result"
    }
   ],
   "source": [
    "# iterator로부터 한개의 값을 조회\n",
    "next(it)"
   ]
  },
  {
   "cell_type": "code",
   "execution_count": 28,
   "id": "0dffc1ec",
   "metadata": {},
   "outputs": [
    {
     "data": {
      "text/plain": [
       "5"
      ]
     },
     "execution_count": 28,
     "metadata": {},
     "output_type": "execute_result"
    }
   ],
   "source": [
    "next(it)"
   ]
  },
  {
   "cell_type": "code",
   "execution_count": 30,
   "id": "0117087f",
   "metadata": {
    "collapsed": true,
    "slideshow": {
     "slide_type": "fragment"
    }
   },
   "outputs": [
    {
     "ename": "StopIteration",
     "evalue": "",
     "output_type": "error",
     "traceback": [
      "\u001b[1;31m---------------------------------------------------------------------------\u001b[0m",
      "\u001b[1;31mStopIteration\u001b[0m                             Traceback (most recent call last)",
      "Cell \u001b[1;32mIn[30], line 2\u001b[0m\n\u001b[0;32m      1\u001b[0m it\u001b[38;5;241m.\u001b[39mindex\n\u001b[1;32m----> 2\u001b[0m \u001b[38;5;28mnext\u001b[39m(it)\n",
      "Cell \u001b[1;32mIn[22], line 13\u001b[0m, in \u001b[0;36mMyIterator.__next__\u001b[1;34m(self)\u001b[0m\n\u001b[0;32m      8\u001b[0m \u001b[38;5;28;01mdef\u001b[39;00m \u001b[38;5;21m__next__\u001b[39m(\u001b[38;5;28mself\u001b[39m):\n\u001b[0;32m      9\u001b[0m     \u001b[38;5;66;03m# Iterator는 반드시 __next__() 특수 메소드를 구현해야한다.\u001b[39;00m\n\u001b[0;32m     10\u001b[0m     \u001b[38;5;66;03m## Iterable에서 받은 원소들에서 하나의 값을 순서대로 제공하도록 구현.\u001b[39;00m\n\u001b[0;32m     11\u001b[0m     \u001b[38;5;66;03m## 더 제공할 값이 없으면 StopIteration 예외를 발생시킨다.\u001b[39;00m\n\u001b[0;32m     12\u001b[0m     \u001b[38;5;28;01mif\u001b[39;00m \u001b[38;5;28mlen\u001b[39m(\u001b[38;5;28mself\u001b[39m\u001b[38;5;241m.\u001b[39mvalues) \u001b[38;5;241m<\u001b[39m\u001b[38;5;241m=\u001b[39m \u001b[38;5;28mself\u001b[39m\u001b[38;5;241m.\u001b[39mindex:\n\u001b[1;32m---> 13\u001b[0m         \u001b[38;5;28;01mraise\u001b[39;00m \u001b[38;5;167;01mStopIteration\u001b[39;00m()\n\u001b[0;32m     14\u001b[0m     r_value \u001b[38;5;241m=\u001b[39m \u001b[38;5;28mself\u001b[39m\u001b[38;5;241m.\u001b[39mvalues[\u001b[38;5;28mself\u001b[39m\u001b[38;5;241m.\u001b[39mindex] \u001b[38;5;66;03m# 제공할 값을 조회\u001b[39;00m\n\u001b[0;32m     15\u001b[0m     \u001b[38;5;28mself\u001b[39m\u001b[38;5;241m.\u001b[39mindex \u001b[38;5;241m+\u001b[39m\u001b[38;5;241m=\u001b[39m \u001b[38;5;241m1\u001b[39m  \u001b[38;5;66;03m#  index를 하나 증가\u001b[39;00m\n",
      "\u001b[1;31mStopIteration\u001b[0m: "
     ]
    }
   ],
   "source": [
    "it.index\n",
    "next(it)"
   ]
  },
  {
   "cell_type": "code",
   "execution_count": 31,
   "id": "d617103b",
   "metadata": {},
   "outputs": [
    {
     "name": "stdout",
     "output_type": "stream",
     "text": [
      "1\n",
      "2\n",
      "3\n",
      "4\n",
      "5\n"
     ]
    }
   ],
   "source": [
    "i = MyIterable(1, 2, 3, 4, 5) \n",
    "# for v in i:\n",
    "for v in MyIterable(1, 2, 3, 4, 5):\n",
    "    print(v)"
   ]
  },
  {
   "cell_type": "code",
   "execution_count": 32,
   "id": "01b69130",
   "metadata": {},
   "outputs": [
    {
     "ename": "TypeError",
     "evalue": "'MyIterable' object is not subscriptable",
     "output_type": "error",
     "traceback": [
      "\u001b[1;31m---------------------------------------------------------------------------\u001b[0m",
      "\u001b[1;31mTypeError\u001b[0m                                 Traceback (most recent call last)",
      "Cell \u001b[1;32mIn[32], line 2\u001b[0m\n\u001b[0;32m      1\u001b[0m i \u001b[38;5;241m=\u001b[39m MyIterable(\u001b[38;5;241m1\u001b[39m, \u001b[38;5;241m2\u001b[39m, \u001b[38;5;241m3\u001b[39m, \u001b[38;5;241m4\u001b[39m, \u001b[38;5;241m5\u001b[39m) \n\u001b[1;32m----> 2\u001b[0m i[\u001b[38;5;241m0\u001b[39m]\n",
      "\u001b[1;31mTypeError\u001b[0m: 'MyIterable' object is not subscriptable"
     ]
    }
   ],
   "source": [
    "i = MyIterable(1, 2, 3, 4, 5) \n",
    "# i[0] ==> Iterable에 def __getitem__(self, idx): idx번째 값을 반환하는 메소드"
   ]
  },
  {
   "cell_type": "code",
   "execution_count": null,
   "id": "c5d8cfb9",
   "metadata": {},
   "outputs": [],
   "source": []
  },
  {
   "cell_type": "code",
   "execution_count": null,
   "id": "a97bd9f0",
   "metadata": {},
   "outputs": [],
   "source": []
  },
  {
   "cell_type": "code",
   "execution_count": null,
   "id": "18e6996b",
   "metadata": {},
   "outputs": [],
   "source": []
  },
  {
   "cell_type": "markdown",
   "id": "5323e175",
   "metadata": {
    "slideshow": {
     "slide_type": "subslide"
    }
   },
   "source": [
    "## Generator\n",
    "- Iterable과 Iterator를 합친 기능을 함수 형태로 구현(정의)한 것을 generator라고 한다.\n",
    "    - 제공할 값들을 미리 메모리에 올리지 않고 로직을 통해 값들을 호출자가 필요할 때 마다 제공할 때 유용하다.\n",
    "- 제너레이터 함수에서 값을 반환\n",
    "    - **yield 반환값**\n",
    "        - 반환값을 가지고 호출한 곳으로 돌아간다. 현재 상태(돌아가기 직전 상태)를 기억하면서 돌아간다. \n",
    "            - 값을 반환하고 일시정지 상태라고 생각하면 된다.\n",
    "        - 다음 실행시점에 yield 구문 다음 부터 실행된다.\n",
    "    - **return \\[valuye\\]**\n",
    "        - generator 함수 종료\n",
    "        - StopIteration 발생시킨다.\n",
    "- Generator 의 원소 조회\n",
    "    - next(Generator객체)"
   ]
  },
  {
   "cell_type": "code",
   "execution_count": 42,
   "id": "2f7b1d60",
   "metadata": {},
   "outputs": [],
   "source": [
    "def my_gen():\n",
    "    \n",
    "    yield 10\n",
    "\n",
    "    yield 2\n",
    "\n",
    "    yield 3"
   ]
  },
  {
   "cell_type": "code",
   "execution_count": 44,
   "id": "f42cc9c2",
   "metadata": {},
   "outputs": [
    {
     "data": {
      "text/plain": [
       "10"
      ]
     },
     "execution_count": 44,
     "metadata": {},
     "output_type": "execute_result"
    }
   ],
   "source": [
    "g = my_gen()  # generator  객체를 생성\n",
    "# generator 호출\n",
    "next(g)  # yield다음구문 ~ yield"
   ]
  },
  {
   "cell_type": "code",
   "execution_count": 45,
   "id": "09824ef1",
   "metadata": {},
   "outputs": [
    {
     "data": {
      "text/plain": [
       "2"
      ]
     },
     "execution_count": 45,
     "metadata": {},
     "output_type": "execute_result"
    }
   ],
   "source": [
    "next(g)"
   ]
  },
  {
   "cell_type": "code",
   "execution_count": 46,
   "id": "f81b0c46",
   "metadata": {},
   "outputs": [
    {
     "data": {
      "text/plain": [
       "3"
      ]
     },
     "execution_count": 46,
     "metadata": {},
     "output_type": "execute_result"
    }
   ],
   "source": [
    "next(g)"
   ]
  },
  {
   "cell_type": "code",
   "execution_count": 47,
   "id": "14708a0a",
   "metadata": {},
   "outputs": [
    {
     "ename": "StopIteration",
     "evalue": "",
     "output_type": "error",
     "traceback": [
      "\u001b[1;31m---------------------------------------------------------------------------\u001b[0m",
      "\u001b[1;31mStopIteration\u001b[0m                             Traceback (most recent call last)",
      "Cell \u001b[1;32mIn[47], line 1\u001b[0m\n\u001b[1;32m----> 1\u001b[0m \u001b[38;5;28mnext\u001b[39m(g)\n",
      "\u001b[1;31mStopIteration\u001b[0m: "
     ]
    }
   ],
   "source": [
    "next(g)"
   ]
  },
  {
   "cell_type": "code",
   "execution_count": null,
   "id": "3415860c",
   "metadata": {},
   "outputs": [],
   "source": [
    "v = next(g)\n",
    "print(v)\n",
    "print(v+10)\n",
    "next(g)\n",
    "next(g)\n",
    "next(g)"
   ]
  },
  {
   "cell_type": "code",
   "execution_count": 48,
   "id": "4df6590b",
   "metadata": {
    "slideshow": {
     "slide_type": "fragment"
    }
   },
   "outputs": [],
   "source": [
    "# 파라미터로 받은 값에서 5씩 증가하는 값을 3번 제공.\n",
    "def my_gen2(start):\n",
    "    start += 5\n",
    "    yield start\n",
    "    \n",
    "    start += 5\n",
    "    yield start\n",
    "    \n",
    "    start += 5\n",
    "    yield start"
   ]
  },
  {
   "cell_type": "code",
   "execution_count": 50,
   "id": "857ac929",
   "metadata": {},
   "outputs": [
    {
     "name": "stdout",
     "output_type": "stream",
     "text": [
      "15\n"
     ]
    }
   ],
   "source": [
    "g2 = my_gen2(10)\n",
    "print(next(g2))"
   ]
  },
  {
   "cell_type": "code",
   "execution_count": 51,
   "id": "98b82295",
   "metadata": {},
   "outputs": [
    {
     "name": "stdout",
     "output_type": "stream",
     "text": [
      "20\n"
     ]
    }
   ],
   "source": [
    "print(next(g2))"
   ]
  },
  {
   "cell_type": "code",
   "execution_count": 52,
   "id": "88f6e705",
   "metadata": {},
   "outputs": [
    {
     "name": "stdout",
     "output_type": "stream",
     "text": [
      "25\n"
     ]
    }
   ],
   "source": [
    "print(next(g2))"
   ]
  },
  {
   "cell_type": "code",
   "execution_count": 53,
   "id": "4ebe16aa",
   "metadata": {},
   "outputs": [
    {
     "ename": "StopIteration",
     "evalue": "",
     "output_type": "error",
     "traceback": [
      "\u001b[1;31m---------------------------------------------------------------------------\u001b[0m",
      "\u001b[1;31mStopIteration\u001b[0m                             Traceback (most recent call last)",
      "Cell \u001b[1;32mIn[53], line 1\u001b[0m\n\u001b[1;32m----> 1\u001b[0m \u001b[38;5;28mprint\u001b[39m(\u001b[38;5;28mnext\u001b[39m(g2))\n",
      "\u001b[1;31mStopIteration\u001b[0m: "
     ]
    }
   ],
   "source": [
    "print(next(g2))"
   ]
  },
  {
   "cell_type": "code",
   "execution_count": 58,
   "id": "8c23242d",
   "metadata": {},
   "outputs": [],
   "source": [
    "def my_gen3(start, n):\n",
    "    # start부터 5씩 증가하는 값을 n개 제공\n",
    "    for _ in range(n):\n",
    "        start += 5\n",
    "        yield start"
   ]
  },
  {
   "cell_type": "code",
   "execution_count": 73,
   "id": "64fc38a9",
   "metadata": {},
   "outputs": [],
   "source": [
    "g3  = my_gen3(1, 10) # generator 객체 생성"
   ]
  },
  {
   "cell_type": "code",
   "execution_count": 74,
   "id": "9e079733",
   "metadata": {
    "collapsed": true
   },
   "outputs": [
    {
     "name": "stdout",
     "output_type": "stream",
     "text": [
      "6\n",
      "11\n"
     ]
    }
   ],
   "source": [
    "v = next(g3)\n",
    "print(v)\n",
    "v = next(g3)\n",
    "print(v)"
   ]
  },
  {
   "cell_type": "markdown",
   "id": "ae6dec96",
   "metadata": {
    "slideshow": {
     "slide_type": "subslide"
    }
   },
   "source": [
    "### Generator 표현식 (Generator Comprehension)\n",
    "- 컴프리헨션구문을 **( )** 로 묶어 표현한다.\n",
    "- 컴프리헨션 구문안의 Iterable의 원소들을 처리해서 제공하는 generator 표현식\n",
    "- Generator Comprehension 은 반복 가능한 객체만 만들고 실제 원소에 대한 요청이 왔을 때 값을 생성한다.\n",
    "    - 메모리 효율이 다른 Comprehension들 보다 좋다."
   ]
  },
  {
   "cell_type": "code",
   "execution_count": 84,
   "id": "97abd16e",
   "metadata": {},
   "outputs": [],
   "source": [
    "g4 = (value+5 for value in range(10) )"
   ]
  },
  {
   "cell_type": "code",
   "execution_count": 91,
   "id": "9d5f5acc",
   "metadata": {
    "slideshow": {
     "slide_type": "fragment"
    }
   },
   "outputs": [
    {
     "data": {
      "text/plain": [
       "11"
      ]
     },
     "execution_count": 91,
     "metadata": {},
     "output_type": "execute_result"
    }
   ],
   "source": [
    "next(g4)"
   ]
  },
  {
   "cell_type": "code",
   "execution_count": null,
   "id": "a8036d54",
   "metadata": {},
   "outputs": [],
   "source": [
    "l = [1, 2, 3, 4]\n",
    "(v for v in range(1, 5))"
   ]
  },
  {
   "cell_type": "code",
   "execution_count": null,
   "id": "30b96b0c",
   "metadata": {},
   "outputs": [],
   "source": []
  },
  {
   "cell_type": "code",
   "execution_count": null,
   "id": "3d533a45",
   "metadata": {},
   "outputs": [],
   "source": []
  },
  {
   "cell_type": "markdown",
   "id": "929f0230",
   "metadata": {
    "slideshow": {
     "slide_type": "slide"
    }
   },
   "source": [
    "# Decorator (장식자)\n",
    "\n",
    "## 파이썬에서 함수는 일급 시민(first class citizen) 이다.\n",
    "- 일급 시민 (first class citizen) 이란\n",
    "    1. 변수에 대입 할 수 있다.\n",
    "    2. Argument로 사용할 수 있다.\n",
    "    3. 함수나 메소드의 반환값으로 사용 할 수 있다.\n",
    "    "
   ]
  },
  {
   "cell_type": "markdown",
   "id": "b46580f2",
   "metadata": {
    "slideshow": {
     "slide_type": "subslide"
    }
   },
   "source": [
    "## 지역함수(Local Function) 란\n",
    "- 함수 안에 정의 한 함수를 말한다.\n",
    "    - 중첩 함수(Nested function) 이라고도 한다.\n",
    "- 지역함수가 선언된 함수를 **outer function** 지역함수는 **inner function** 이라고 한다. \n",
    "- inner function은 outer function의 지역변수를 자유롭게 사용할 수 있다.\n",
    "- 기본적으로 inner function은 outer function 안에서만 호출 할 수있다.\n",
    "- 단 outer function이 정의된 inner function을 return value로 반환하면 밖에서도 호출 할 수 있다."
   ]
  },
  {
   "cell_type": "markdown",
   "id": "766a1432",
   "metadata": {
    "slideshow": {
     "slide_type": "fragment"
    }
   },
   "source": [
    "## Closure (클로저)\n",
    "- 지역함수(Inner function)를 정의한 Outer function이 종료되어도 지역함수가 종료될 때까지 outer function의 지역변수들은 메모리에 계속 유지 되어 inner function에서 사용할 수 있다. \n",
    "- 파이썬 실행환경은 inner function이 종료될때 까지 outer function의 지역변수들(parameter포함)을 사용할 수 있도록 저장하는 공간이 **closure**이다."
   ]
  },
  {
   "cell_type": "code",
   "execution_count": null,
   "id": "0001effe",
   "metadata": {
    "slideshow": {
     "slide_type": "fragment"
    }
   },
   "outputs": [],
   "source": []
  },
  {
   "cell_type": "markdown",
   "id": "b58a1e1d",
   "metadata": {
    "slideshow": {
     "slide_type": "slide"
    }
   },
   "source": [
    "## Decorator (장식자)\n",
    "- 기존의 함수를 수정하지 않고 그 함수 전/후에 실행되는 구문을 추가할 수 있도록 하는 함수를 말한다.\n",
    "- 기존 함수코드를 수정하지 않고 새로운 기능의 추가를 쉽게 해준다.\n",
    "- 추가기능을 다수의 함수에 적용할 수 있다.\n",
    "- 함수의 전/후처리 하는 구문을 **필요하면 붙이고 필요 없으면 쉽게 제거할 수 있다**\n",
    "\n",
    "![개요](images/ch10_01.png)"
   ]
  },
  {
   "cell_type": "code",
   "execution_count": null,
   "id": "5c7f5353",
   "metadata": {
    "slideshow": {
     "slide_type": "fragment"
    }
   },
   "outputs": [],
   "source": []
  },
  {
   "cell_type": "markdown",
   "id": "aaf6447c",
   "metadata": {
    "slideshow": {
     "slide_type": "subslide"
    }
   },
   "source": [
    "### Decorator 구현 및 사용\n",
    "\n",
    "- 구현\n",
    "    1. 전/후처리 기능을 추가할 함수를 parameter로 받는다.\n",
    "    2. 그 함수 호출 전후로 추가할 기능을 작성한 **지역함수**를 정의한다.\n",
    "    3. `2`번의 함수를 반환한다.\n",
    "```python\n",
    "def decorator(func):\n",
    "    def wrapper([parameter]): # decorator 적용할 함수에 파라미터를 전달할 경우 parameter 변수들을 선언\n",
    "        # 전처리\n",
    "        func()\n",
    "        # 후처리\n",
    "    return wrapper \n",
    "```\n",
    "\n",
    "- 호출\n",
    "    - `@decorator이름`를 적용하고자하는 함수 선언전에 기술한다.\n",
    "```python\n",
    "@decorator\n",
    "def caller([parameter]):\n",
    "    ...\n",
    "```"
   ]
  },
  {
   "cell_type": "code",
   "execution_count": null,
   "id": "82f0e859",
   "metadata": {
    "slideshow": {
     "slide_type": "fragment"
    }
   },
   "outputs": [],
   "source": []
  },
  {
   "cell_type": "markdown",
   "id": "6121017a",
   "metadata": {
    "slideshow": {
     "slide_type": "skip"
    }
   },
   "source": [
    "# TODO\n",
    "함수가 실행된 실행시간(초)을 재는 decorator"
   ]
  },
  {
   "cell_type": "code",
   "execution_count": null,
   "id": "22f52d36",
   "metadata": {
    "slideshow": {
     "slide_type": "skip"
    }
   },
   "outputs": [],
   "source": []
  }
 ],
 "metadata": {
  "kernelspec": {
   "display_name": "Python 3 (ipykernel)",
   "language": "python",
   "name": "python3"
  },
  "language_info": {
   "codemirror_mode": {
    "name": "ipython",
    "version": 3
   },
   "file_extension": ".py",
   "mimetype": "text/x-python",
   "name": "python",
   "nbconvert_exporter": "python",
   "pygments_lexer": "ipython3",
   "version": "3.11.4"
  },
  "toc": {
   "base_numbering": 1,
   "nav_menu": {},
   "number_sections": true,
   "sideBar": true,
   "skip_h1_title": false,
   "title_cell": "Table of Contents",
   "title_sidebar": "Contents",
   "toc_cell": false,
   "toc_position": {},
   "toc_section_display": true,
   "toc_window_display": false
  },
  "varInspector": {
   "cols": {
    "lenName": 16,
    "lenType": 16,
    "lenVar": 40
   },
   "kernels_config": {
    "python": {
     "delete_cmd_postfix": "",
     "delete_cmd_prefix": "del ",
     "library": "var_list.py",
     "varRefreshCmd": "print(var_dic_list())"
    },
    "r": {
     "delete_cmd_postfix": ") ",
     "delete_cmd_prefix": "rm(",
     "library": "var_list.r",
     "varRefreshCmd": "cat(var_dic_list()) "
    }
   },
   "types_to_exclude": [
    "module",
    "function",
    "builtin_function_or_method",
    "instance",
    "_Feature"
   ],
   "window_display": false
  },
  "vscode": {
   "interpreter": {
    "hash": "890e7ac6523e8dc3d01314e5dc0d3a4630fa6bb57ae728d75fb62fd058d8404d"
   }
  }
 },
 "nbformat": 4,
 "nbformat_minor": 5
}
