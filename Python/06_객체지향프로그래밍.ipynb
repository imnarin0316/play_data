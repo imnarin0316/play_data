{
 "cells": [
  {
   "cell_type": "markdown",
   "metadata": {
    "slideshow": {
     "slide_type": "slide"
    }
   },
   "source": [
    "# 객체지향 프로그래밍 (Object Oriented Programming)\n",
    "\n",
    "프로그램을 구성하는 변수와 함수들에서 서로 연관성있는 것 끼리 묶어서 모듈화하는 개발하는 언어들을 객체지향프로그래밍 언어라고 한다."
   ]
  },
  {
   "cell_type": "markdown",
   "metadata": {
    "slideshow": {
     "slide_type": "fragment"
    }
   },
   "source": [
    "# Instance(객체)\n",
    "- 연관성 있는 값들과 그 값들을 처리하는 함수(메소드)들을 묶어서 가지고 있는 것(값).\n",
    "- 객체의 구성요소\n",
    "    - 속성(Attribute)\n",
    "        - 객체의 데이터/상태로 객체를 구성하는 값들.\n",
    "    - 메소드(method)\n",
    "        - 객체가 제공하는 기능으로 주로 Attribute들을 처리한다.\n",
    "        "
   ]
  },
  {
   "cell_type": "markdown",
   "metadata": {
    "slideshow": {
     "slide_type": "subslide"
    }
   },
   "source": [
    "## Class(클래스) 정의\n",
    "\n",
    "- class란: 객체의 설계도\n",
    "    - 동일한 형태의 객체들이 가져야 하는 Attribute와 Method들을 정의 한 것\n",
    "        - 클래스를 정의할 때 어떤 속성과 메소드를 가지는지 먼저 설계해야 한다.\n",
    "    - 클래스로 부터 객체(instance)를 생성한 뒤 사용한다.\n",
    "```python\n",
    "class 클래스이름:  #선언부\n",
    "    #클래스 구현\n",
    "    #메소드들을 정의\n",
    "```\n",
    "- 클래스 이름의 관례: 파스칼 표기법-각 단어의 첫글자는 대문자 나머진 소문자로 정의한다.\n",
    "    - ex) Person, Student, HighSchoolStudent\n",
    "    "
   ]
  },
  {
   "cell_type": "markdown",
   "metadata": {
    "slideshow": {
     "slide_type": "fragment"
    }
   },
   "source": [
    "## 클래스로부터 객체(Instance) 생성\n",
    "- 클래스는 데이터 타입 instance는 값이다.\n",
    "\n",
    "```python\n",
    "변수 = 클래스이름()\n",
    "```"
   ]
  },
  {
   "cell_type": "code",
   "execution_count": 1,
   "metadata": {},
   "outputs": [],
   "source": [
    "class Person:\n",
    "    pass"
   ]
  },
  {
   "cell_type": "code",
   "execution_count": 2,
   "metadata": {},
   "outputs": [],
   "source": [
    "# instance: 값, class: Data Type\n",
    "p = Person() # instance  생성"
   ]
  },
  {
   "cell_type": "code",
   "execution_count": 4,
   "metadata": {
    "slideshow": {
     "slide_type": "fragment"
    }
   },
   "outputs": [
    {
     "name": "stdout",
     "output_type": "stream",
     "text": [
      "<class '__main__.Person'>\n"
     ]
    },
    {
     "data": {
      "text/plain": [
       "__main__.Person"
      ]
     },
     "execution_count": 4,
     "metadata": {},
     "output_type": "execute_result"
    }
   ],
   "source": [
    "print(type(p))\n",
    "type(p)"
   ]
  },
  {
   "cell_type": "code",
   "execution_count": 8,
   "metadata": {},
   "outputs": [
    {
     "name": "stdout",
     "output_type": "stream",
     "text": [
      "<class 'int'> <class 'float'> <class 'str'> <class 'type'> <class 'list'>\n"
     ]
    }
   ],
   "source": [
    "print(type(30), type(3.2), type(\"aaa\"), type(bool), type([1,2]))"
   ]
  },
  {
   "cell_type": "code",
   "execution_count": null,
   "metadata": {},
   "outputs": [],
   "source": []
  },
  {
   "cell_type": "markdown",
   "metadata": {
    "slideshow": {
     "slide_type": "subslide"
    }
   },
   "source": [
    "## Attribute(속성) \n",
    "- attribute는 객체의 데이터, 객체가 가지는 값, 객체의 상태\n",
    "\n",
    "### 객체에 속성을 추가, 조회\n",
    "- 객체의 속성 추가(값 변경)\n",
    "    1. Initializer(생성자)를 통한 추가\n",
    "    2. 객체.속성명 = 값 (추가/변경)\n",
    "    3. 메소드를 통한 추가/변경\n",
    "    - 1번 방식 (Initializer)은 초기화 할 때. 2, 3은 속성값을 변경할 때 적용.\n",
    "- 속성 값 조회\n",
    "    - 객체.속성명\n",
    "- **객체.\\_\\_dict\\_\\_**\n",
    "    - 객체가 가지고 있는 Attribute들을 dictionary로 반환한다."
   ]
  },
  {
   "cell_type": "code",
   "execution_count": 12,
   "metadata": {},
   "outputs": [
    {
     "name": "stdout",
     "output_type": "stream",
     "text": [
      "{}\n",
      "{'name': '홍길동', 'age': 30, 'address': '서울', 'tall': 182.3}\n"
     ]
    }
   ],
   "source": [
    "p = Person() # 객체 생성 및 변수에 할당.\n",
    "print(p.__dict__) # 객체가 가지는 속성들을 조회 \n",
    "# 속성값들을 추가\n",
    "p.name = \"홍길동\"\n",
    "p.age = 30\n",
    "p.address = \"서울\"\n",
    "p.tall = 182.3\n",
    "\n",
    "print(p.__dict__)"
   ]
  },
  {
   "cell_type": "code",
   "execution_count": 17,
   "metadata": {},
   "outputs": [
    {
     "name": "stdout",
     "output_type": "stream",
     "text": [
      "홍길동\n",
      "30 80\n",
      "서울 182.3\n"
     ]
    },
    {
     "data": {
      "text/plain": [
       "'홍길동은 30세이고 서울에 살고 있습니다. '"
      ]
     },
     "execution_count": 17,
     "metadata": {},
     "output_type": "execute_result"
    }
   ],
   "source": [
    "# 속성값들을 조회\n",
    "print(p.name)\n",
    "print(p.age, p.age+50)\n",
    "print(p.address, p.tall)\n",
    "f\"{p.name}은 {p.age}세이고 {p.address}에 살고 있습니다. \""
   ]
  },
  {
   "cell_type": "code",
   "execution_count": 27,
   "metadata": {},
   "outputs": [
    {
     "name": "stdout",
     "output_type": "stream",
     "text": [
      "{}\n",
      "{'name': '유재석', 'age': 40, 'address': '인천', 'email': 'a@a.com'}\n"
     ]
    }
   ],
   "source": [
    "p2 = Person()  # Person instance를 생성해서 p2에 대입\n",
    "print(p2.__dict__)\n",
    "p2.name = \"유재석\"\n",
    "p2.age = 40\n",
    "p2.address = \"인천\"\n",
    "p2.email = \"a@a.com\"\n",
    "print(p2.__dict__)"
   ]
  },
  {
   "cell_type": "code",
   "execution_count": 29,
   "metadata": {},
   "outputs": [
    {
     "name": "stdout",
     "output_type": "stream",
     "text": [
      "40 유재석 인천 a@a.com\n"
     ]
    }
   ],
   "source": [
    "print(p2.age, p2.name, p2.address, p2.email)\n",
    "# print(p2.tall)"
   ]
  },
  {
   "cell_type": "code",
   "execution_count": 33,
   "metadata": {},
   "outputs": [
    {
     "name": "stdout",
     "output_type": "stream",
     "text": [
      "{'name': '홍길동', 'age': 30, 'address': '서울', 'tall': 182.3}\n",
      "{'name': '유재석', 'age': 40, 'address': '인천', 'email': 'a@a.com'}\n"
     ]
    }
   ],
   "source": [
    "p.name, p2.name\n",
    "print(p.__dict__)\n",
    "print(p2.__dict__)"
   ]
  },
  {
   "cell_type": "code",
   "execution_count": 34,
   "metadata": {},
   "outputs": [
    {
     "data": {
      "text/plain": [
       "{}"
      ]
     },
     "execution_count": 34,
     "metadata": {},
     "output_type": "execute_result"
    }
   ],
   "source": [
    "p3 = Person()\n",
    "p3.__dict__"
   ]
  },
  {
   "cell_type": "code",
   "execution_count": null,
   "metadata": {},
   "outputs": [],
   "source": [
    "class Person:\n",
    "    pass\n",
    "\n",
    "p = Person()\n",
    "p.xxxx = xxxxx"
   ]
  },
  {
   "cell_type": "code",
   "execution_count": null,
   "metadata": {},
   "outputs": [],
   "source": []
  },
  {
   "cell_type": "code",
   "execution_count": null,
   "metadata": {},
   "outputs": [],
   "source": []
  },
  {
   "cell_type": "code",
   "execution_count": null,
   "metadata": {
    "slideshow": {
     "slide_type": "fragment"
    }
   },
   "outputs": [],
   "source": []
  },
  {
   "cell_type": "markdown",
   "metadata": {
    "slideshow": {
     "slide_type": "subslide"
    }
   },
   "source": [
    "### 생성자(Initializer)\n",
    "- 객체를 생성할 때 호출되는 특수메소드로 attribute들 초기화에 하는 코드를 구현한다.\n",
    "    - Inializer를 이용해 초기화하는 Attribute들이 그 클래스의 객체들이 가져야 하는 공통 Attribute가 된다.\n",
    "- 구문\n",
    "```python\n",
    "def __init__(self [,매개변수들 선언]):  #[ ] 옵션.\n",
    "    # 구현 -> attribute(instance변수) 초기화\n",
    "    self.속성명 = 값\n",
    "```\n",
    "> 변수 초기화: 처음 변수 만들어서 처음 값 대입.    "
   ]
  },
  {
   "cell_type": "markdown",
   "metadata": {
    "slideshow": {
     "slide_type": "fragment"
    }
   },
   "source": [
    "### self  parameter\n",
    "- 메소드는 반드시 한개 이상의 parameter를 선언해야 하고 그 첫번째 parameter를 말한다.\n",
    "- 메소드 호출시 그 메소드를 소유한 instance가 self parameter에 할당된다.\n",
    "- Initializer의 self\n",
    "    - 현재 만들어 지고 있는 객체를 받는다.\n",
    "- 메소드의 self\n",
    "    - 메소드를 소유한 객체를 받는다.\n",
    "- Caller에서 생성자/메소드에 전달된 argument들을 받을 parameter는 두번째 변수부터 선언한다.    "
   ]
  },
  {
   "cell_type": "code",
   "execution_count": 35,
   "metadata": {},
   "outputs": [],
   "source": [
    "# initializer를 이용해서 attribute(객체 변수)를 초기화\n",
    "\n",
    "class Person:\n",
    "    \n",
    "    # initializer\n",
    "    def __init__(self, name, age, address=None):      #, *args, **kwargs):\n",
    "        \"\"\"\n",
    "        파라미터로 name, age, address를 받아서(객체가 생성되는 시점)\n",
    "        그 값들을 attribute로 저장.\n",
    "        \"\"\"\n",
    "        # 메소드에서 attribute 조회. self.변수명 = 값 (대입), self.변수명 (조회)\n",
    "        self.name = name\n",
    "        self.age = age    # self.age -> age 속성, age: parameter변수\n",
    "        self.address = address  \n",
    "        self.email = None"
   ]
  },
  {
   "cell_type": "code",
   "execution_count": 38,
   "metadata": {},
   "outputs": [],
   "source": [
    "# 객체 생성:  class이름(변수1대입할 값, 변수2대입할 값) => __init__(self, 변수1, 변수2) 호출\n",
    "p = Person(\"박명수\", 33, \"부산\")  # \"박명수\" -> name, 33 -> age, \"부산\" -> address"
   ]
  },
  {
   "cell_type": "code",
   "execution_count": 37,
   "metadata": {},
   "outputs": [
    {
     "ename": "TypeError",
     "evalue": "test() missing 2 required positional arguments: 'name' and 'age'",
     "output_type": "error",
     "traceback": [
      "\u001b[1;31m---------------------------------------------------------------------------\u001b[0m",
      "\u001b[1;31mTypeError\u001b[0m                                 Traceback (most recent call last)",
      "Cell \u001b[1;32mIn[37], line 4\u001b[0m\n\u001b[0;32m      1\u001b[0m \u001b[38;5;28;01mdef\u001b[39;00m \u001b[38;5;21mtest\u001b[39m(name, age):\n\u001b[0;32m      2\u001b[0m     \u001b[38;5;28;01mpass\u001b[39;00m\n\u001b[1;32m----> 4\u001b[0m test()\n",
      "\u001b[1;31mTypeError\u001b[0m: test() missing 2 required positional arguments: 'name' and 'age'"
     ]
    }
   ],
   "source": [
    "def test(name, age):\n",
    "    pass\n",
    "\n",
    "test()"
   ]
  },
  {
   "cell_type": "code",
   "execution_count": 41,
   "metadata": {},
   "outputs": [
    {
     "name": "stdout",
     "output_type": "stream",
     "text": [
      "{'name': '박명수', 'age': 33, 'address': '부산', 'email': None}\n",
      "{'name': '박명수', 'age': 33, 'address': '부산', 'email': None, 'tall': 190}\n"
     ]
    }
   ],
   "source": [
    "print(p.__dict__)\n",
    "p.tall = 190  # 가능함. 좋은 방식은 아니다. attribute 초기화는 init을 이용해서 한다.\n",
    "              # 객체 생성 후 `객체.변수 = 값` 은 기존 attribute의 값을 변경할 때 한다.\n",
    "print(p.__dict__)"
   ]
  },
  {
   "cell_type": "code",
   "execution_count": 42,
   "metadata": {},
   "outputs": [],
   "source": [
    "p2 = Person(\"유재석\", 22, \"서울\")"
   ]
  },
  {
   "cell_type": "markdown",
   "metadata": {
    "slideshow": {
     "slide_type": "subslide"
    }
   },
   "source": [
    "### Instance 메소드(method)\n",
    "- 객체가 제공하는 기능\n",
    "- 객체의 attribute 값을 처리하는 기능을 구현한다.\n",
    "- 구문\n",
    "```python\n",
    "def 이름(self [, 매개변수들 선언]):\n",
    "    # 구현\n",
    "    # attribute 사용(조회/대입)\n",
    "    self.attribute \n",
    "```\n",
    "- self (첫번째 매개변수)\n",
    "    - 메소드를 소유한 객체를 받는 변수\n",
    "    - 호출할 때 전달하는 argument를 받는 매개변수는 두번째 부터 선언한다.\n",
    "![self](images/ch06_01.png)\n",
    "    \n",
    "- **메소드 호출**\n",
    "    - `객체.메소드이름([argument, ...])`"
   ]
  },
  {
   "cell_type": "code",
   "execution_count": 43,
   "metadata": {},
   "outputs": [],
   "source": [
    "class Person:\n",
    "    \n",
    "    def __init__(self, name, age, address=None):\n",
    "        self.name = name\n",
    "        self.age = age\n",
    "        self.address = address\n",
    "        self.email = None\n",
    "    \n",
    "    # 메소드\n",
    "    def print_info(self): # argument를 안받는 메소드\n",
    "        # person의 attribute값들을 출력\n",
    "        print(f\"이름: {self.name}, 나이: {self.age}, 주소: {self.address}, email: {self.email}\")\n",
    "        \n",
    "    def add_age(self, age): # argument가 한개인 메소드\n",
    "#         나이를 받아서 attribute age에 더한다.\n",
    "#         self.age = self.age + age\n",
    "        self.age += age"
   ]
  },
  {
   "cell_type": "code",
   "execution_count": null,
   "metadata": {},
   "outputs": [],
   "source": [
    "p1.add_age(3)"
   ]
  },
  {
   "cell_type": "code",
   "execution_count": 44,
   "metadata": {},
   "outputs": [
    {
     "name": "stdout",
     "output_type": "stream",
     "text": [
      "이름: 유재석, 나이: 20, 주소: 서울, email: None\n"
     ]
    }
   ],
   "source": [
    "p1 = Person(\"유재석\", 20, \"서울\")\n",
    "p1.print_info()"
   ]
  },
  {
   "cell_type": "code",
   "execution_count": 47,
   "metadata": {},
   "outputs": [
    {
     "name": "stdout",
     "output_type": "stream",
     "text": [
      "이름: 유재석, 나이: 20, 주소: 서울, email: None\n",
      "이름: 유재석, 나이: 20, 주소: 서울, email: None\n",
      "이름: 유재석, 나이: 20, 주소: 서울, email: None\n",
      "이름: 유재석, 나이: 20, 주소: 서울, email: a@a.com\n"
     ]
    }
   ],
   "source": [
    "p1.print_info()\n",
    "p1.print_info()\n",
    "p1.print_info()\n",
    "p1.email = \"a@a.com\"\n",
    "p1.print_info()\n"
   ]
  },
  {
   "cell_type": "code",
   "execution_count": 48,
   "metadata": {},
   "outputs": [
    {
     "name": "stdout",
     "output_type": "stream",
     "text": [
      "이름: 유재석, 나이: 20, 주소: 서울, email: a@a.com\n"
     ]
    }
   ],
   "source": [
    "p1.print_info()"
   ]
  },
  {
   "cell_type": "code",
   "execution_count": 49,
   "metadata": {},
   "outputs": [],
   "source": [
    "p1.add_age(3)"
   ]
  },
  {
   "cell_type": "code",
   "execution_count": 50,
   "metadata": {},
   "outputs": [
    {
     "name": "stdout",
     "output_type": "stream",
     "text": [
      "이름: 유재석, 나이: 23, 주소: 서울, email: a@a.com\n"
     ]
    }
   ],
   "source": [
    "p1.print_info()"
   ]
  },
  {
   "cell_type": "code",
   "execution_count": null,
   "metadata": {},
   "outputs": [],
   "source": []
  },
  {
   "cell_type": "code",
   "execution_count": 52,
   "metadata": {},
   "outputs": [
    {
     "data": {
      "text/plain": [
       "'A B C'"
      ]
     },
     "execution_count": 52,
     "metadata": {},
     "output_type": "execute_result"
    }
   ],
   "source": [
    "\"a b c d\".split()\n",
    "\"a b c\".upper()"
   ]
  },
  {
   "cell_type": "code",
   "execution_count": 55,
   "metadata": {
    "slideshow": {
     "slide_type": "fragment"
    }
   },
   "outputs": [],
   "source": [
    "class String:\n",
    "    \n",
    "    def __init__(self, value):\n",
    "        self.value = value\n",
    "        \n",
    "    def split(self):  \n",
    "        print(f\"{self.value}를 분리합니다.\")\n",
    "    \n",
    "    def upper(self):\n",
    "        print(f\"{self.value}를 대문자로 변경합니다.\")\n",
    "        return self.value.upper()"
   ]
  },
  {
   "cell_type": "code",
   "execution_count": 58,
   "metadata": {},
   "outputs": [
    {
     "name": "stdout",
     "output_type": "stream",
     "text": [
      "a b cd를 분리합니다.\n"
     ]
    }
   ],
   "source": [
    "s = String(\"a b cd\")\n",
    "s.split()"
   ]
  },
  {
   "cell_type": "code",
   "execution_count": 59,
   "metadata": {},
   "outputs": [
    {
     "name": "stdout",
     "output_type": "stream",
     "text": [
      "a b cd를 대문자로 변경합니다.\n",
      "A B CD\n"
     ]
    }
   ],
   "source": [
    "v = s.upper()\n",
    "print(v)"
   ]
  },
  {
   "cell_type": "markdown",
   "metadata": {
    "slideshow": {
     "slide_type": "slide"
    }
   },
   "source": [
    "## 정보 은닉 (Information Hiding)\n",
    "- Attribute의 값을 caller(객체 외부)가 마음대로 바꾸지 못하게 하기 위해 직접 호출을 막고 setter/getter 메소드를 통해 값을 변경/조회 하도록 한다.\n",
    "    - 데이터 보호가 주목적이다.\n",
    "    - 변경 메소드에 Attribube 변경 조건을 넣어 업무 규칙에 맞는 값들만 변경되도록 처리한다.\n",
    "    - **setter**\n",
    "        - Attribute의 값을 변경하는 메소드. 관례상 set 으로 시작\n",
    "    - **getter**\n",
    "        - Attribute의 값을 조회하는 메소드. 관례상 get 으로 시작\n",
    "- Attribute 직접 호출 막기\n",
    "    - Attribute의 이름을 \\_\\_(double underscore)로 시작한다. (\\_\\_로 끝나면 안된다.)\n",
    "    - 같은 클래스에서는 선언한 이름으로 사용가능하지만 외부에서는 그 이름으로 호출할 수 없게 된다.\n",
    "    "
   ]
  },
  {
   "cell_type": "code",
   "execution_count": 61,
   "metadata": {},
   "outputs": [
    {
     "name": "stdout",
     "output_type": "stream",
     "text": [
      "홍길동 20 서울\n",
      "이름: 홍길동, 나이: 20, 주소: 서울, email: None\n"
     ]
    }
   ],
   "source": [
    "p = Person(\"홍길동\", 20, \"서울\")\n",
    "print(p.name, p.age, p.address)\n",
    "p.print_info()"
   ]
  },
  {
   "cell_type": "code",
   "execution_count": 62,
   "metadata": {},
   "outputs": [
    {
     "name": "stdout",
     "output_type": "stream",
     "text": [
      "이름: 홍길동, 나이: 30, 주소: 서울, email: None\n"
     ]
    }
   ],
   "source": [
    "p.age = 30\n",
    "p.print_info()"
   ]
  },
  {
   "cell_type": "code",
   "execution_count": 63,
   "metadata": {},
   "outputs": [],
   "source": [
    "p.age = \"오십세\""
   ]
  },
  {
   "cell_type": "code",
   "execution_count": 64,
   "metadata": {
    "slideshow": {
     "slide_type": "fragment"
    }
   },
   "outputs": [
    {
     "name": "stdout",
     "output_type": "stream",
     "text": [
      "이름: 홍길동, 나이: 오십세, 주소: 서울, email: None\n"
     ]
    }
   ],
   "source": [
    "p.print_info()"
   ]
  },
  {
   "cell_type": "code",
   "execution_count": 65,
   "metadata": {
    "collapsed": true
   },
   "outputs": [
    {
     "ename": "TypeError",
     "evalue": "can only concatenate str (not \"int\") to str",
     "output_type": "error",
     "traceback": [
      "\u001b[1;31m---------------------------------------------------------------------------\u001b[0m",
      "\u001b[1;31mTypeError\u001b[0m                                 Traceback (most recent call last)",
      "Cell \u001b[1;32mIn[65], line 1\u001b[0m\n\u001b[1;32m----> 1\u001b[0m p\u001b[38;5;241m.\u001b[39madd_age(\u001b[38;5;241m2\u001b[39m)\n",
      "Cell \u001b[1;32mIn[43], line 17\u001b[0m, in \u001b[0;36mPerson.add_age\u001b[1;34m(self, age)\u001b[0m\n\u001b[0;32m     14\u001b[0m     \u001b[38;5;28;01mdef\u001b[39;00m \u001b[38;5;21madd_age\u001b[39m(\u001b[38;5;28mself\u001b[39m, age): \u001b[38;5;66;03m# argument가 한개인 메소드\u001b[39;00m\n\u001b[0;32m     15\u001b[0m \u001b[38;5;66;03m#         나이를 받아서 attribute age에 더한다.\u001b[39;00m\n\u001b[0;32m     16\u001b[0m \u001b[38;5;66;03m#         self.age = self.age + age\u001b[39;00m\n\u001b[1;32m---> 17\u001b[0m         \u001b[38;5;28mself\u001b[39m\u001b[38;5;241m.\u001b[39mage \u001b[38;5;241m+\u001b[39m\u001b[38;5;241m=\u001b[39m age\n",
      "\u001b[1;31mTypeError\u001b[0m: can only concatenate str (not \"int\") to str"
     ]
    }
   ],
   "source": [
    "p.add_age(2)"
   ]
  },
  {
   "cell_type": "code",
   "execution_count": 66,
   "metadata": {},
   "outputs": [
    {
     "name": "stdout",
     "output_type": "stream",
     "text": [
      "이름: 홍길동, 나이: 3000005, 주소: 서울, email: None\n"
     ]
    }
   ],
   "source": [
    "p.age = 3_000_000\n",
    "p.add_age(5)\n",
    "p.print_info()"
   ]
  },
  {
   "cell_type": "code",
   "execution_count": 67,
   "metadata": {},
   "outputs": [
    {
     "name": "stdout",
     "output_type": "stream",
     "text": [
      "이름: 홍길동, 나이: -20, 주소: 서울, email: None\n"
     ]
    }
   ],
   "source": [
    "p.age = -20\n",
    "p.print_info()"
   ]
  },
  {
   "cell_type": "code",
   "execution_count": null,
   "metadata": {},
   "outputs": [],
   "source": [
    "## Person class에 정보 은닉 적용\n",
    "### 1. attribute 변수들을 외부에서 호출 할 수 없도록 만들어 준다.\n",
    "####      - self.__변수명 = 초기값\n",
    "### 2. attribute변수들을 조회(getter), 변경(setter)하는 메소드를 정의한다."
   ]
  },
  {
   "cell_type": "code",
   "execution_count": 95,
   "metadata": {},
   "outputs": [],
   "source": [
    "class Person:\n",
    "    \n",
    "    def __init__(self, name, age, address):\n",
    "        self.name = name\n",
    "        self.__age = age\n",
    "        self.address = address\n",
    "        self.email = None\n",
    "        \n",
    "    # age 값을 조회하는 메소드\n",
    "    def get_age(self):\n",
    "        return self.__age # 같은 class에서는 __age(원래이름)로 호출 가능.\n",
    "    \n",
    "    # age값을 변경하는 메소드\n",
    "    def set_age(self, age):\n",
    "        if 0 <= age <=100:\n",
    "            self.__age = age\n",
    "        else:\n",
    "            print(f\"{age}는 나이에 넣을 수 없습니다. 0 ~ 100 사이 정수를 넣어주세요.\")"
   ]
  },
  {
   "cell_type": "code",
   "execution_count": 96,
   "metadata": {},
   "outputs": [
    {
     "name": "stdout",
     "output_type": "stream",
     "text": [
      "홍길동\n",
      "서울 None\n",
      "20\n"
     ]
    }
   ],
   "source": [
    "p = Person(\"홍길동\", 20, \"서울\")\n",
    "print(p.name)\n",
    "print(p.address, p.email)\n",
    "print(p.get_age())"
   ]
  },
  {
   "cell_type": "code",
   "execution_count": 101,
   "metadata": {},
   "outputs": [
    {
     "ename": "TypeError",
     "evalue": "'<=' not supported between instances of 'int' and 'str'",
     "output_type": "error",
     "traceback": [
      "\u001b[1;31m---------------------------------------------------------------------------\u001b[0m",
      "\u001b[1;31mTypeError\u001b[0m                                 Traceback (most recent call last)",
      "Cell \u001b[1;32mIn[101], line 1\u001b[0m\n\u001b[1;32m----> 1\u001b[0m p\u001b[38;5;241m.\u001b[39mset_age(\u001b[38;5;124m\"\u001b[39m\u001b[38;5;124m스무살\u001b[39m\u001b[38;5;124m\"\u001b[39m)\n",
      "Cell \u001b[1;32mIn[95], line 15\u001b[0m, in \u001b[0;36mPerson.set_age\u001b[1;34m(self, age)\u001b[0m\n\u001b[0;32m     14\u001b[0m \u001b[38;5;28;01mdef\u001b[39;00m \u001b[38;5;21mset_age\u001b[39m(\u001b[38;5;28mself\u001b[39m, age):\n\u001b[1;32m---> 15\u001b[0m     \u001b[38;5;28;01mif\u001b[39;00m \u001b[38;5;241m0\u001b[39m \u001b[38;5;241m<\u001b[39m\u001b[38;5;241m=\u001b[39m age \u001b[38;5;241m<\u001b[39m\u001b[38;5;241m=\u001b[39m\u001b[38;5;241m100\u001b[39m:\n\u001b[0;32m     16\u001b[0m         \u001b[38;5;28mself\u001b[39m\u001b[38;5;241m.\u001b[39m__age \u001b[38;5;241m=\u001b[39m age\n\u001b[0;32m     17\u001b[0m     \u001b[38;5;28;01melse\u001b[39;00m:\n",
      "\u001b[1;31mTypeError\u001b[0m: '<=' not supported between instances of 'int' and 'str'"
     ]
    }
   ],
   "source": [
    "p.set_age(\"스무살\")"
   ]
  },
  {
   "cell_type": "code",
   "execution_count": 97,
   "metadata": {},
   "outputs": [
    {
     "name": "stdout",
     "output_type": "stream",
     "text": [
      "540는 나이에 넣을 수 없습니다. 0 ~ 100 사이 정수를 넣어주세요.\n"
     ]
    }
   ],
   "source": [
    "p.set_age(540)"
   ]
  },
  {
   "cell_type": "code",
   "execution_count": 99,
   "metadata": {},
   "outputs": [],
   "source": [
    "p.set_age(60)"
   ]
  },
  {
   "cell_type": "code",
   "execution_count": 100,
   "metadata": {},
   "outputs": [
    {
     "data": {
      "text/plain": [
       "{'name': '홍길동', '_Person__age': 60, 'address': '서울', 'email': None}"
      ]
     },
     "execution_count": 100,
     "metadata": {},
     "output_type": "execute_result"
    }
   ],
   "source": [
    "p.__dict__"
   ]
  },
  {
   "cell_type": "code",
   "execution_count": 83,
   "metadata": {},
   "outputs": [
    {
     "name": "stdout",
     "output_type": "stream",
     "text": [
      "20\n"
     ]
    }
   ],
   "source": [
    "# print(p.__age)\n",
    "# print(p._Person__age)\n"
   ]
  },
  {
   "cell_type": "code",
   "execution_count": 87,
   "metadata": {},
   "outputs": [
    {
     "data": {
      "text/plain": [
       "{'name': '홍길동2',\n",
       " '_Person__age': 40,\n",
       " 'address': '서울',\n",
       " 'email': None,\n",
       " '__age': 30}"
      ]
     },
     "execution_count": 87,
     "metadata": {},
     "output_type": "execute_result"
    }
   ],
   "source": [
    "p.name = \"홍길동2\"\n",
    "p.__age = 30\n",
    "p._Person__age = 40\n",
    "p.__dict__"
   ]
  },
  {
   "cell_type": "markdown",
   "metadata": {
    "slideshow": {
     "slide_type": "subslide"
    }
   },
   "source": [
    "### property함수를 사용\n",
    "- 은닉된 instance 변수의 값을 사용할 때 getter/setter대신 변수를 사용하는 방식으로 호출할 수 있도록 한다.\n",
    "- 구현\n",
    "    1. getter/setter 메소드를 만든다.\n",
    "    2. 변수 = property(getter, setter) 를 등록한다.\n",
    "    3. 호출\n",
    "        - 값조회: 변수를 사용 => getter가 호출 된다.\n",
    "        - 값변경: 변수 = 변경할 값 => setter가 호출 된다."
   ]
  },
  {
   "cell_type": "code",
   "execution_count": 109,
   "metadata": {
    "slideshow": {
     "slide_type": "fragment"
    }
   },
   "outputs": [],
   "source": [
    "class Person2:\n",
    "    \n",
    "    def __init__(self, name, age, address):\n",
    "        self.__name = name\n",
    "        self.__age = age\n",
    "        self.address = address\n",
    "        self.email = None\n",
    "        \n",
    "    # age 값을 조회하는 메소드\n",
    "    def get_age(self):\n",
    "        return self.__age\n",
    "    \n",
    "    # age값을 변경하는 메소드\n",
    "    def set_age(self, age):\n",
    "        if 0 <= age <=100:\n",
    "            self.__age = age\n",
    "        else:\n",
    "            print(f\"{age}는 나이에 넣을 수 없습니다. 0 ~ 100 사이 정수를 넣어주세요.\")\n",
    "            \n",
    "    def get_name(self):\n",
    "        return self.__name\n",
    "    \n",
    "    def set_name(self, name):\n",
    "        # 이름은 두글자 이상일 경우만 변경가능.\n",
    "        if len(name) >= 2:\n",
    "            self.__name = name\n",
    "        else:\n",
    "            print(\"이름은 두글자 이상만 가능합니다.\")\n",
    "            \n",
    "    name = property(get_name, set_name)\n",
    "    age = property(get_age, set_age)"
   ]
  },
  {
   "cell_type": "code",
   "execution_count": 110,
   "metadata": {},
   "outputs": [
    {
     "name": "stdout",
     "output_type": "stream",
     "text": [
      "새이름 20 새주소 새 이메일주소\n"
     ]
    }
   ],
   "source": [
    "p3 = Person2(\"유재석\", 40, \"인천\")\n",
    "p3.address = \"새주소\"\n",
    "p3.email = \"새 이메일주소\"\n",
    "p3.name = \"새이름\"\n",
    "p3.age = 20\n",
    "\n",
    "print(p3.name, p3.age, p3.address, p3.email)"
   ]
  },
  {
   "cell_type": "code",
   "execution_count": 111,
   "metadata": {},
   "outputs": [
    {
     "name": "stdout",
     "output_type": "stream",
     "text": [
      "이름은 두글자 이상만 가능합니다.\n"
     ]
    }
   ],
   "source": [
    "p3.name = \"강\""
   ]
  },
  {
   "cell_type": "code",
   "execution_count": 112,
   "metadata": {},
   "outputs": [
    {
     "name": "stdout",
     "output_type": "stream",
     "text": [
      "5000는 나이에 넣을 수 없습니다. 0 ~ 100 사이 정수를 넣어주세요.\n"
     ]
    }
   ],
   "source": [
    "p3.age = 5000"
   ]
  },
  {
   "cell_type": "code",
   "execution_count": 108,
   "metadata": {},
   "outputs": [
    {
     "name": "stdout",
     "output_type": "stream",
     "text": [
      "40\n",
      "인천\n"
     ]
    }
   ],
   "source": [
    "p2 = Person2(\"유재석\", 40, \"인천\")\n",
    "# name, age 사용-> 메소드\n",
    "p2.set_name(\"류재석\")\n",
    "print(p2.get_age())\n",
    "# address, email 사용 -> 변수를 호출\n",
    "print(p2.address)\n",
    "p2.email = \"email@a.com\""
   ]
  },
  {
   "cell_type": "markdown",
   "metadata": {
    "slideshow": {
     "slide_type": "subslide"
    },
    "tags": []
   },
   "source": [
    "### 데코레이터(decorator)를 이용해 property 지정.\n",
    "- setter/getter 구현 + property()를 이용해 변수 등록 하는 것을 더 간단하게 구현하는 방식\n",
    "- setter/getter 메소드이름을 변수처럼 지정. (보통은 같은 이름으로 지정)\n",
    "- getter메소드: @property 데코레이터를 선언  \n",
    "- setter메소드: @getter메소드이름.setter  데코레이터를 선언.\n",
    "    - 반드시 getter 메소드를 먼저 정의한다.\n",
    "    - setter메소드 이름은 getter와 동일해야 한다.\n",
    "- getter/setter의 이름을 Attribute 변수처럼 사용한다.\n",
    "- 주의: getter/setter 메소드를 직접 호출 할 수 없다. 변수형식으로만 호출가능하다."
   ]
  },
  {
   "cell_type": "code",
   "execution_count": 114,
   "metadata": {
    "slideshow": {
     "slide_type": "fragment"
    }
   },
   "outputs": [],
   "source": [
    "class Person3:\n",
    "    \n",
    "    def __init__(self, name, age, address):\n",
    "        self.__name = name\n",
    "        self.__age = age\n",
    "        self.address = address\n",
    "        self.email = None\n",
    "        \n",
    "    # getter 메소드에 @property, 메소드이름은 변수처럼 지정.\n",
    "    @property\n",
    "    def age(self):\n",
    "        return self.__age\n",
    "    \n",
    "    # setter 메소드에 @getter이름.setter,  메소드이름은 getter와 동일하게 지정.\n",
    "    @age.setter  \n",
    "    def age(self, age):\n",
    "        if 0 <= age <=100:\n",
    "            self.__age = age\n",
    "        else:\n",
    "            print(f\"{age}는 나이에 넣을 수 없습니다. 0 ~ 100 사이 정수를 넣어주세요.\")\n",
    "        \n",
    "    @property\n",
    "    def name(self):\n",
    "        return self.__name\n",
    "    \n",
    "    @name.setter\n",
    "    def name(self, name):\n",
    "        # 이름은 두글자 이상일 경우만 변경가능.\n",
    "        if len(name) >= 2:\n",
    "            self.__name = name\n",
    "        else:\n",
    "            print(\"이름은 두글자 이상만 가능합니다.\")\n",
    "         \n",
    "        "
   ]
  },
  {
   "cell_type": "code",
   "execution_count": 115,
   "metadata": {},
   "outputs": [
    {
     "name": "stdout",
     "output_type": "stream",
     "text": [
      "박명수 10 부산 None\n"
     ]
    }
   ],
   "source": [
    "p4 = Person3(\"박명수\", 10, \"부산\")\n",
    "print(p4.name, p4.age, p4.address, p4.email)"
   ]
  },
  {
   "cell_type": "code",
   "execution_count": 116,
   "metadata": {},
   "outputs": [],
   "source": [
    "p4.name = \"이순신\"\n",
    "p4.age = 50\n",
    "p4.address = \"서울\"\n",
    "p4.email = \"lee@a.com\""
   ]
  },
  {
   "cell_type": "code",
   "execution_count": 117,
   "metadata": {},
   "outputs": [
    {
     "name": "stdout",
     "output_type": "stream",
     "text": [
      "이순신 50 서울 lee@a.com\n"
     ]
    }
   ],
   "source": [
    "print(p4.name, p4.age, p4.address, p4.email)"
   ]
  },
  {
   "cell_type": "markdown",
   "metadata": {
    "slideshow": {
     "slide_type": "subslide"
    }
   },
   "source": [
    "## TODO\n",
    "- 제품 클래스 구현\n",
    "- 속성 : 제품ID:str 제품이름: str, 제품가격:int, 제조사이름:str\n",
    "-       정보은닉에 맞춰서 작성. 값을 대입/조회 하는 것은 변수처리 방식을 할 수 있도록 구현.\n",
    "- 메소드: 전체 정보를 출력하는 메소드\n",
    "\n",
    "메소드 : setter-4개, getter-4개. 전체정보 출력하는 메소드-1개"
   ]
  },
  {
   "cell_type": "code",
   "execution_count": 26,
   "metadata": {},
   "outputs": [],
   "source": [
    "# property() 를 이용\n",
    "class Item:\n",
    "    \n",
    "    # attribute  초기화는  initializer에서 한다.\n",
    "    def __init__(self, item_id, item_name, price, maker):\n",
    "        # attribute 를 외부에서 접근하지 못하게 막는다. => self.__변수명\n",
    "        self.__item_id = item_id\n",
    "        self.__item_name = item_name\n",
    "        self.__price = price\n",
    "        self.__maker = maker\n",
    "        \n",
    "    # item_id의  getter/setter \n",
    "    def get_item_id(self):\n",
    "        print('get_item_id()')\n",
    "        return self.__item_id\n",
    "    \n",
    "    def set_item_id(self, new_item_id):\n",
    "        print(\"set_item_id()\")\n",
    "        if new_item_id:  # None이 아니면 변경.\n",
    "            self.__item_id = new_item_id\n",
    "            \n",
    "    # item_name의 getter/setter\n",
    "    def get_item_name(self):\n",
    "\n",
    "        return self.__item_name\n",
    "    \n",
    "    def set_item_name(self, new_item_name):\n",
    "        if new_item_name:\n",
    "            self.__item_name = new_item_name\n",
    "            \n",
    "    # price의 getter/setter\n",
    "    def get_price(self):\n",
    "        return self.__price\n",
    "    \n",
    "    def set_price(self, new_price):\n",
    "        if new_price > 0:\n",
    "            self.__price = new_price\n",
    "            \n",
    "    # maker의 getter/setter\n",
    "    def get_maker(self):\n",
    "        return self.__maker\n",
    "    \n",
    "    def set_maker(self, new_maker):\n",
    "        if new_maker and len(new_maker) > 2: # 조건->업무적 조건.\n",
    "            self.__maker = new_maker\n",
    "            \n",
    "    # 4개 attribute값을 출력하는 메소드\n",
    "    def print_item_info(self):\n",
    "        value = f\"제품ID: {self.__item_id}, 제품명: {self.__item_name}, 가격: {self.__price}, 제조사: {self.__maker}\"\n",
    "        print(value)\n",
    "        \n",
    "    ## property 함수를 이용해서 getter/setter들을 변수처럼 호출 할 수 있도록 처리.\n",
    "    ##### 호출할때사용할변수명 = property(getter명, setter명)\n",
    "    item_id = property(get_item_id, set_item_id)\n",
    "    item_name = property(get_item_name, set_item_name)\n",
    "    price = property(get_price, set_price)\n",
    "    maker = property(get_maker, set_maker)"
   ]
  },
  {
   "cell_type": "code",
   "execution_count": 28,
   "metadata": {},
   "outputs": [
    {
     "name": "stdout",
     "output_type": "stream",
     "text": [
      "제품ID: a10000, 제품명: LG 모니터, 가격: 200000, 제조사: LG\n"
     ]
    }
   ],
   "source": [
    "i = Item(\"a10000\", \"LG 모니터\", 200_000, \"LG\")\n",
    "i.print_item_info()"
   ]
  },
  {
   "cell_type": "code",
   "execution_count": 29,
   "metadata": {},
   "outputs": [
    {
     "name": "stdout",
     "output_type": "stream",
     "text": [
      "set_item_id()\n",
      "get_item_id()\n",
      "a10000\n"
     ]
    }
   ],
   "source": [
    "i.item_id = None  #  대입(할당) => property()의 두번째 할당한 메소드를 호출\n",
    "print(i.item_id)  # 조회 -> property()의 첫번째 할당한 메소드를 호출해서 그 반환값을 반환."
   ]
  },
  {
   "cell_type": "code",
   "execution_count": 34,
   "metadata": {},
   "outputs": [
    {
     "name": "stdout",
     "output_type": "stream",
     "text": [
      "LG 모니터\n",
      "삼성 모니터\n"
     ]
    }
   ],
   "source": [
    "i.item_name = None\n",
    "print(i.item_name)\n",
    "i.item_name = \"삼성 모니터\"\n",
    "print(i.item_name)"
   ]
  },
  {
   "cell_type": "code",
   "execution_count": 33,
   "metadata": {},
   "outputs": [
    {
     "name": "stdout",
     "output_type": "stream",
     "text": [
      "200000\n",
      "1500\n"
     ]
    }
   ],
   "source": [
    "i.price = -3000\n",
    "print(i.price)\n",
    "i.price = 1500\n",
    "print(i.price)"
   ]
  },
  {
   "cell_type": "code",
   "execution_count": 37,
   "metadata": {
    "slideshow": {
     "slide_type": "fragment"
    }
   },
   "outputs": [
    {
     "name": "stdout",
     "output_type": "stream",
     "text": [
      "LG\n",
      "삼성 전자\n"
     ]
    }
   ],
   "source": [
    "i.maker = \"A\"\n",
    "print(i.maker)\n",
    "i.maker = \"삼성 전자\"\n",
    "print(i.maker)"
   ]
  },
  {
   "cell_type": "code",
   "execution_count": 38,
   "metadata": {},
   "outputs": [
    {
     "name": "stdout",
     "output_type": "stream",
     "text": [
      "제품ID: a10000, 제품명: 삼성 모니터, 가격: 1500, 제조사: 삼성 전자\n"
     ]
    }
   ],
   "source": [
    "i.print_item_info()"
   ]
  },
  {
   "cell_type": "code",
   "execution_count": 39,
   "metadata": {},
   "outputs": [],
   "source": [
    "# decorator를 이용\n",
    "class Item2:\n",
    "    \n",
    "    # attribute  초기화는  initializer에서 한다.\n",
    "    def __init__(self, item_id, item_name, price, maker):\n",
    "        # attribute 를 외부에서 접근하지 못하게 막는다. => self.__변수명\n",
    "        self.__item_id = item_id\n",
    "        self.__item_name = item_name\n",
    "        self.__price = price\n",
    "        self.__maker = maker\n",
    "        \n",
    "    # item_id의  getter/setter \n",
    "    ## 메소드의 이름을 호출 할 때 사용할 변수형태로 지정.\n",
    "    ### 순서: getter 를 정의하고 그 다음에 setter 정의\n",
    "    ## getter: @property 데코레이터를 선언.\n",
    "    @property\n",
    "    def item_id(self):\n",
    "        print('Item2.get_item_id()')\n",
    "        return self.__item_id\n",
    "    \n",
    "    ## setter: @getter메소드이름.setter\n",
    "    @item_id.setter\n",
    "    def item_id(self, new_item_id):\n",
    "        print(\"Item2.set_item_id()\")\n",
    "        if new_item_id:  # None이 아니면 변경.\n",
    "            self.__item_id = new_item_id\n",
    "            \n",
    "    # item_name의 getter/setter\n",
    "    @property\n",
    "    def item_name(self):\n",
    "        return self.__item_name\n",
    "    \n",
    "    @item_name.setter\n",
    "    def item_name(self, new_item_name):\n",
    "        if new_item_name:\n",
    "            self.__item_name = new_item_name\n",
    "            \n",
    "    # price의 getter/setter\n",
    "    @property\n",
    "    def price(self):\n",
    "        return self.__price\n",
    "    \n",
    "    @price.setter\n",
    "    def price(self, new_price):\n",
    "        if new_price > 0:\n",
    "            self.__price = new_price\n",
    "            \n",
    "    # maker의 getter/setter\n",
    "    @property\n",
    "    def maker(self):\n",
    "        return self.__maker\n",
    "    \n",
    "    @maker.setter\n",
    "    def maker(self, new_maker):\n",
    "        if new_maker and len(new_maker) > 2: # 조건->업무적 조건.\n",
    "            self.__maker = new_maker\n",
    "    \n",
    "#     @property\n",
    "#     def category(self):\n",
    "#         return self__category\n",
    "    \n",
    "#     @categoy.setter\n",
    "#     def category(self, new_cate):\n",
    "#         self.__category = new_cate\n",
    "    \n",
    "    # 4개 attribute값을 출력하는 메소드\n",
    "    def print_item_info(self):\n",
    "        value = f\"제품ID: {self.__item_id}, 제품명: {self.__item_name}, 가격: {self.__price}, 제조사: {self.__maker}\"\n",
    "        print(value)"
   ]
  },
  {
   "cell_type": "code",
   "execution_count": 43,
   "metadata": {},
   "outputs": [
    {
     "name": "stdout",
     "output_type": "stream",
     "text": [
      "제품ID: c203030, 제품명: 삼성 노트북, 가격: 120000, 제조사: 삼성\n"
     ]
    }
   ],
   "source": [
    "i2 = Item2(\"c203030\", \"삼성 노트북\", 120_000, \"삼성\")\n",
    "i2.print_item_info()"
   ]
  },
  {
   "cell_type": "code",
   "execution_count": 44,
   "metadata": {},
   "outputs": [
    {
     "data": {
      "text/plain": [
       "{'_Item2__item_id': 'c203030',\n",
       " '_Item2__item_name': '삼성 노트북',\n",
       " '_Item2__price': 120000,\n",
       " '_Item2__maker': '삼성'}"
      ]
     },
     "execution_count": 44,
     "metadata": {},
     "output_type": "execute_result"
    }
   ],
   "source": [
    "i2.__dict__"
   ]
  },
  {
   "cell_type": "code",
   "execution_count": 41,
   "metadata": {},
   "outputs": [
    {
     "name": "stdout",
     "output_type": "stream",
     "text": [
      "Item2.set_item_id()\n",
      "제품ID: c203030, 제품명: 삼성 노트북, 가격: 120000, 제조사: 삼성\n"
     ]
    }
   ],
   "source": [
    "i2.item_id = None\n",
    "i2.item_name = None\n",
    "i2.price = -2000\n",
    "i2.maker = \"삼\"\n",
    "i2.print_item_info()"
   ]
  },
  {
   "cell_type": "code",
   "execution_count": 42,
   "metadata": {},
   "outputs": [
    {
     "name": "stdout",
     "output_type": "stream",
     "text": [
      "Item2.set_item_id()\n",
      "제품ID: k239048, 제품명: LG 노트북, 가격: 2000, 제조사: LG 전자\n"
     ]
    }
   ],
   "source": [
    "i2.item_id = \"k239048\"\n",
    "i2.item_name = \"LG 노트북\"\n",
    "i2.price = 2000\n",
    "i2.maker = \"LG 전자\"\n",
    "i2.print_item_info()"
   ]
  },
  {
   "cell_type": "markdown",
   "metadata": {
    "slideshow": {
     "slide_type": "slide"
    }
   },
   "source": [
    "## 상속 (Inheritance)\n",
    "\n",
    "- 기존 클래스를 확장하여 새로운 클래스를 구현한다.\n",
    "    - 생성된 객체(instance)가 기존 클래스에 정의된 Attribute나 method를 사용할 수있고 그 외의 추가적인 member들을 가질 수 있는 클래스를 구현하는 방법.\n",
    "- **기반(Base) 클래스, 상위(Super) 클래스, 부모(Parent) 클래스**\n",
    "    - 물려 주는 클래스.\n",
    "    - 상속하는 클래스에 비해 더 추상적인 클래스가 된다. \n",
    "    - 상속하는 클래스의 데이터 타입이 된다.\n",
    "- **파생(Derived) 클래스, 하위(Sub) 클래스, 자식(Child) 클래스**\n",
    "    - 상속하는 클래스.\n",
    "    - 상속을 해준 클래스 보다 좀더 구체적인 클래스가 된다.\n",
    "- 상위 클래스와 하위 클래스는 계층관계를 이룬다.\n",
    "    - 상위 클래스는 하위 클래스 객체의 타입이 된다."
   ]
  },
  {
   "cell_type": "code",
   "execution_count": null,
   "metadata": {},
   "outputs": [],
   "source": [
    "t.eat()"
   ]
  },
  {
   "cell_type": "code",
   "execution_count": 46,
   "metadata": {},
   "outputs": [],
   "source": [
    "class Person:\n",
    "    \n",
    "    def go(self):\n",
    "        print(\"간다.\")\n",
    "        \n",
    "    def eat(self):\n",
    "        print(\"먹는다.\")"
   ]
  },
  {
   "cell_type": "code",
   "execution_count": 49,
   "metadata": {},
   "outputs": [],
   "source": [
    "# Person을 상속해서 Student를 정의\n",
    "## class 클래스이름(상속할 클래스이름 [, 상속할클래스이름2, ...])\n",
    "class Student(Person):\n",
    "    def study(self):\n",
    "        print(\"학생은 공부한다.\")"
   ]
  },
  {
   "cell_type": "code",
   "execution_count": 50,
   "metadata": {},
   "outputs": [],
   "source": [
    "class Teacher(Person):\n",
    "    def teach(self):\n",
    "        print(\"수업을 가르친다.\")"
   ]
  },
  {
   "cell_type": "code",
   "execution_count": null,
   "metadata": {},
   "outputs": [],
   "source": [
    "t.study()"
   ]
  },
  {
   "cell_type": "code",
   "execution_count": 52,
   "metadata": {},
   "outputs": [
    {
     "name": "stdout",
     "output_type": "stream",
     "text": [
      "학생은 공부한다.\n",
      "먹는다.\n",
      "간다.\n"
     ]
    }
   ],
   "source": [
    "# 객체 생성\n",
    "s = Student()\n",
    "s.study()\n",
    "s.eat()\n",
    "s.go()"
   ]
  },
  {
   "cell_type": "code",
   "execution_count": 56,
   "metadata": {},
   "outputs": [
    {
     "ename": "AttributeError",
     "evalue": "'Student' object has no attribute 'teach'",
     "output_type": "error",
     "traceback": [
      "\u001b[1;31m---------------------------------------------------------------------------\u001b[0m",
      "\u001b[1;31mAttributeError\u001b[0m                            Traceback (most recent call last)",
      "Cell \u001b[1;32mIn[56], line 1\u001b[0m\n\u001b[1;32m----> 1\u001b[0m s\u001b[38;5;241m.\u001b[39mteach()\n",
      "\u001b[1;31mAttributeError\u001b[0m: 'Student' object has no attribute 'teach'"
     ]
    }
   ],
   "source": [
    "# s.teach()"
   ]
  },
  {
   "cell_type": "code",
   "execution_count": 54,
   "metadata": {},
   "outputs": [
    {
     "name": "stdout",
     "output_type": "stream",
     "text": [
      "수업을 가르친다.\n",
      "먹는다.\n",
      "간다.\n"
     ]
    }
   ],
   "source": [
    "t = Teacher()\n",
    "t.teach()\n",
    "t.eat()\n",
    "t.go()"
   ]
  },
  {
   "cell_type": "code",
   "execution_count": 55,
   "metadata": {},
   "outputs": [
    {
     "ename": "AttributeError",
     "evalue": "'Teacher' object has no attribute 'study'",
     "output_type": "error",
     "traceback": [
      "\u001b[1;31m---------------------------------------------------------------------------\u001b[0m",
      "\u001b[1;31mAttributeError\u001b[0m                            Traceback (most recent call last)",
      "Cell \u001b[1;32mIn[55], line 1\u001b[0m\n\u001b[1;32m----> 1\u001b[0m t\u001b[38;5;241m.\u001b[39mstudy()\n",
      "\u001b[1;31mAttributeError\u001b[0m: 'Teacher' object has no attribute 'study'"
     ]
    }
   ],
   "source": [
    "# t.study()"
   ]
  },
  {
   "cell_type": "code",
   "execution_count": null,
   "metadata": {},
   "outputs": [],
   "source": [
    "class A(B, C)"
   ]
  },
  {
   "cell_type": "markdown",
   "metadata": {
    "slideshow": {
     "slide_type": "subslide"
    }
   },
   "source": [
    "### 다중상속과 단일 상속\n",
    "- 다중상속\n",
    "    - 여러 클래스로부터 상속할 수 있다\n",
    "- 단일상속\n",
    "    - 하나의 클래스로 부터만 상속할 수 있다.\n",
    "- 파이썬은 다중상속을 지원한다.\n",
    "- MRO (Method Resolution Order)\n",
    "    - 다중상속시 메소드 호출할 때 그 메소드를 찾는 순서. \n",
    "    1. 자기자신\n",
    "    2. 상위클래스(하위에서 상위로 올라간다)\n",
    "        - 다중상속의 경우 먼저 선언한 클래스 부터 찾는다. (왼쪽->오른쪽)\n",
    "- MRO 순서 조회 \n",
    "    - Class이름.mro()"
   ]
  },
  {
   "cell_type": "code",
   "execution_count": 58,
   "metadata": {
    "slideshow": {
     "slide_type": "fragment"
    }
   },
   "outputs": [
    {
     "data": {
      "text/plain": [
       "[__main__.Student, __main__.Person, object]"
      ]
     },
     "execution_count": 58,
     "metadata": {},
     "output_type": "execute_result"
    }
   ],
   "source": [
    "Student.mro()"
   ]
  },
  {
   "cell_type": "code",
   "execution_count": 65,
   "metadata": {},
   "outputs": [],
   "source": [
    "class E(object):\n",
    "    pass\n",
    "\n",
    "class F:\n",
    "    pass\n",
    "\n",
    "class G:\n",
    "    pass"
   ]
  },
  {
   "cell_type": "code",
   "execution_count": 60,
   "metadata": {},
   "outputs": [],
   "source": [
    "class C(E, F):\n",
    "    pass\n",
    "\n",
    "class D(G):\n",
    "    pass"
   ]
  },
  {
   "cell_type": "code",
   "execution_count": 63,
   "metadata": {},
   "outputs": [],
   "source": [
    "class A(C, D):\n",
    "    pass"
   ]
  },
  {
   "cell_type": "code",
   "execution_count": 64,
   "metadata": {},
   "outputs": [
    {
     "data": {
      "text/plain": [
       "[__main__.A,\n",
       " __main__.D,\n",
       " __main__.G,\n",
       " __main__.C,\n",
       " __main__.E,\n",
       " __main__.F,\n",
       " object]"
      ]
     },
     "execution_count": 64,
     "metadata": {},
     "output_type": "execute_result"
    }
   ],
   "source": [
    "A.mro()"
   ]
  },
  {
   "cell_type": "markdown",
   "metadata": {
    "slideshow": {
     "slide_type": "subslide"
    }
   },
   "source": [
    "### Method Overriding (메소드 재정의)\n",
    "상위 클래스의 메소드의 구현부를 하위 클래스에서 다시 구현하는 것을 말한다.  \n",
    "상위 클래스는 모든 하위 클래스들에 적용할 수 있는 추상적인 구현밖에는 못한다.  \n",
    "이 경우 하위 클래스에서 그 내용을 자신에 맞게 좀더 구체적으로 재구현할 수 있게 해주는 것을 Method Overriding이라고 한다.  \n",
    "방법은 하위 클래스에서 overriding할 메소드의 선언문은 그래로 사용하고 그 구현부는 재구현하면 된다.  \n",
    "\n",
    "### super() 내장함수\n",
    "- 하위 클래스에서 상위 클래스의 instance를 반환(return) 해주는 함수\n",
    "- 구문\n",
    "```python\n",
    "super().메소드명() \n",
    "```\n",
    "- 상위 클래스의 Instance 메소드를 호출할 때 – super().메소드()\n",
    "    - 특히 method overriding을 한 클래스에서 상위 클래스의 overriding한 메소드를 호출 할 경우 반드시 `super().메소드() `형식으로 호출해야 한다.\n",
    "- 같은 클래스의 Instance 메소드를 호출할 때 – self.메소드()"
   ]
  },
  {
   "cell_type": "markdown",
   "metadata": {},
   "source": [
    "메소드에서\n",
    "- self.xxxx : 같은 클래스에 정의된 메소드나 attribute(instance 변수) 호출\n",
    "- super().xxxx : 부모클래스에 정의된 메소드나 attribute(부모객체의 attribute) 호출"
   ]
  },
  {
   "cell_type": "code",
   "execution_count": 108,
   "metadata": {},
   "outputs": [],
   "source": [
    "class Person2:\n",
    "    \n",
    "    def go(self):\n",
    "        self.eat()\n",
    "        print(\"간다.\")\n",
    "#         print(\"스쿨버스를 타고 간다.\") #=> Student방식\n",
    "        \n",
    "    def eat(self):\n",
    "        print(\"먹는다. - Person2\")\n",
    "#         print(\"급식을 먹는다.\") #=> Student 방식"
   ]
  },
  {
   "cell_type": "code",
   "execution_count": 109,
   "metadata": {},
   "outputs": [],
   "source": [
    "class Student2(Person2):\n",
    "    # go() 메소드를 Student 클래스에 맞게 좀더 구체화된 내용으로 재정의(overriding) 한다.\n",
    "    # 상위클래스에 정의된 메소드와 동일한 선언(이름)으로 메소드를 구현.\n",
    "    def go(self):\n",
    "        print(\"스쿨버스를 타고 등교한다.\")    \n",
    "    \n",
    "    def eat(self):\n",
    "        print(\"학교식당에 간다.\")\n",
    "        print(\"급식을 받는다.\")\n",
    "#         print(\"먹는다.\")  #  부모클래스에 정의한 eat()을 실행시킨다.\n",
    "        super().eat()  #super(): 부모클래스를 가리킨다.\n",
    "    \n",
    "    def study(self):\n",
    "        print(\"학생이 공부한다. 2\")"
   ]
  },
  {
   "cell_type": "code",
   "execution_count": 110,
   "metadata": {},
   "outputs": [],
   "source": [
    "class Teacher2(Person2):\n",
    "    def teach(self):\n",
    "        print(\"교사가 가르친다. 2\")"
   ]
  },
  {
   "cell_type": "code",
   "execution_count": 111,
   "metadata": {},
   "outputs": [
    {
     "name": "stdout",
     "output_type": "stream",
     "text": [
      "스쿨버스를 타고 등교한다.\n",
      "==================\n",
      "학교식당에 간다.\n",
      "급식을 받는다.\n",
      "먹는다. - Person2\n"
     ]
    }
   ],
   "source": [
    "s = Student2()\n",
    "s.go()\n",
    "# s.student_go()\n",
    "print(\"==================\")\n",
    "s.eat()\n",
    "# s.student_eat()"
   ]
  },
  {
   "cell_type": "code",
   "execution_count": 99,
   "metadata": {},
   "outputs": [
    {
     "data": {
      "text/plain": [
       "[__main__.Student2, __main__.Person2, object]"
      ]
     },
     "execution_count": 99,
     "metadata": {},
     "output_type": "execute_result"
    }
   ],
   "source": [
    "Student2.mro()"
   ]
  },
  {
   "cell_type": "code",
   "execution_count": 112,
   "metadata": {},
   "outputs": [
    {
     "name": "stdout",
     "output_type": "stream",
     "text": [
      "먹는다. - Person2\n",
      "간다.\n",
      "먹는다. - Person2\n"
     ]
    }
   ],
   "source": [
    "t = Teacher2()\n",
    "t.go()\n",
    "t.eat()"
   ]
  },
  {
   "cell_type": "code",
   "execution_count": 100,
   "metadata": {},
   "outputs": [
    {
     "data": {
      "text/plain": [
       "[__main__.Teacher2, __main__.Person2, object]"
      ]
     },
     "execution_count": 100,
     "metadata": {},
     "output_type": "execute_result"
    }
   ],
   "source": [
    "Teacher2.mro()"
   ]
  },
  {
   "cell_type": "code",
   "execution_count": 143,
   "metadata": {},
   "outputs": [],
   "source": [
    "# 상속과 Attribute\n",
    "class Person3:\n",
    "    \n",
    "    def __init__(self, name, age ,address=None):\n",
    "        self.__name = name\n",
    "        self.__age = age\n",
    "        self.__address = address\n",
    "        \n",
    "    @property\n",
    "    def name(self):\n",
    "        return self.__name\n",
    "\n",
    "    @name.setter\n",
    "    def name(self, name):\n",
    "        if name:\n",
    "            self.__name = name\n",
    "        else:\n",
    "            print(\"이름을 변경 못함\")\n",
    "    \n",
    "    @property\n",
    "    def age(self):\n",
    "        return self.__age\n",
    "    \n",
    "    @age.setter\n",
    "    def age(self, age):\n",
    "        if 8 <= age <=19:\n",
    "            self.__age = age\n",
    "        else:\n",
    "            print(\"나이를 변경못함\")\n",
    "            \n",
    "    @property\n",
    "    def address(self):\n",
    "        return self.__address\n",
    "    \n",
    "    @address.setter\n",
    "    def address(self, address):\n",
    "        if address:\n",
    "            self.__address = address\n",
    "        else:\n",
    "            print(\"주소 변경 못함.\")\n",
    "    \n",
    "    # 나이를 더하는 메소드\n",
    "    def add_age(self, age):\n",
    "        self.age = self.age + age\n",
    "#         @age.setter: age = @property: age + 파라미터 age\n",
    "    \n",
    "    # Person객체의 속성값들을 하나의 문자열로 묶어서 반환.\n",
    "    def get_info(self): # getter 메소드 호출.\n",
    "        return f\"이름: {self.name}, 나이: {self.age}, 주소: {self.address}\"    "
   ]
  },
  {
   "cell_type": "code",
   "execution_count": 152,
   "metadata": {},
   "outputs": [],
   "source": [
    "# Student의 속성: name, age, address => 공통속성, grade(성적-학생의 속성.)\n",
    "class Student3(Person3):\n",
    "    \n",
    "    def __init__(self, name, age, address, grade):\n",
    "        # name, age, address => 부모클래스인 Person의 속성\n",
    "        super().__init__(name, age, address)\n",
    "        self.__grade = grade\n",
    "    \n",
    "    @property\n",
    "    def grade(self):\n",
    "        return self.__grade\n",
    "    \n",
    "    @grade.setter\n",
    "    def grade(self, grade):\n",
    "        if grade > 0:\n",
    "            self.__grade = grade\n",
    "        else:\n",
    "            print(\"grade 변경못함.\")\n",
    "    \n",
    "    # method overriding => Person3에 정의된 get_info()에 grade까지 return 하도록 재정의\n",
    "    def get_info(self):\n",
    "        i = super().get_info() # 이름, 나이, 주소는 Person3(부모클래스)에 정의된 메소드 호출.\n",
    "        return f\"{i}, 성적: {self.grade}\"  # getter: grade 호출"
   ]
  },
  {
   "cell_type": "code",
   "execution_count": 154,
   "metadata": {},
   "outputs": [
    {
     "data": {
      "text/plain": [
       "('김학생', 17, '서울', 3)"
      ]
     },
     "execution_count": 154,
     "metadata": {},
     "output_type": "execute_result"
    }
   ],
   "source": [
    "s = Student3(\"김학생\", 17, \"서울\", 3)\n",
    "s.name, s.age, s.address, s.grade #  getter"
   ]
  },
  {
   "cell_type": "code",
   "execution_count": 155,
   "metadata": {},
   "outputs": [
    {
     "name": "stdout",
     "output_type": "stream",
     "text": [
      "14\n"
     ]
    }
   ],
   "source": [
    "s.add_age(-3)\n",
    "print(s.age)"
   ]
  },
  {
   "cell_type": "code",
   "execution_count": 156,
   "metadata": {},
   "outputs": [
    {
     "name": "stdout",
     "output_type": "stream",
     "text": [
      "이름: 김학생, 나이: 14, 주소: 서울, 성적: 3\n"
     ]
    }
   ],
   "source": [
    "info = s.get_info()  # s: Student\n",
    "print(info)"
   ]
  },
  {
   "cell_type": "code",
   "execution_count": 158,
   "metadata": {},
   "outputs": [
    {
     "name": "stdout",
     "output_type": "stream",
     "text": [
      "나이를 변경못함\n",
      "이름: 김학생, 나이: 14, 주소: 서울, 성적: 3\n"
     ]
    }
   ],
   "source": [
    "s.age = 120\n",
    "print(s.get_info())"
   ]
  },
  {
   "cell_type": "code",
   "execution_count": 159,
   "metadata": {},
   "outputs": [
    {
     "name": "stdout",
     "output_type": "stream",
     "text": [
      "이름을 변경 못함\n",
      "grade 변경못함.\n"
     ]
    }
   ],
   "source": [
    "s.name = None\n",
    "s.grade = -34"
   ]
  },
  {
   "cell_type": "code",
   "execution_count": 166,
   "metadata": {},
   "outputs": [],
   "source": [
    "# Teacher의 속성: name, age, address => 공통속성, subject(과목- Teacher의 속성), job: 직책=>특별한 대입조건이 없음\n",
    "# 상속: 속성 - name, age, address \n",
    "#     메소드 - add_age(), get_info() 메소드\n",
    "class Teacher3(Person3):\n",
    "    \n",
    "    def __init__(self, name, age, address, subject, job=None): # job: 직책\n",
    "        # name, age, address => 부모클래스의 __init__을 이용해서 초기화.\n",
    "        super().__init__(name, age, address)\n",
    "        self.__subject = subject\n",
    "        self.job = job  # setter가 필요 없는 변수\n",
    "        \n",
    "    # subject의 getter/setter 구현\n",
    "    @property\n",
    "    def subject(self):\n",
    "        return self.__subject\n",
    "    \n",
    "    @subject.setter\n",
    "    def subject(self, subject):\n",
    "        if subject:\n",
    "            self.__subject = subject\n",
    "        else:\n",
    "            print(\"과목을 수정못함\")\n",
    "            \n",
    "    # Teacher객체의 attribute들을 반환 => get_info()를 method overriding\n",
    "    def get_info(self):\n",
    "        # 이름, 나이, 주소 -> Person3의 get_info()를 사용.\n",
    "        i = super().get_info()\n",
    "        return f\"{i}, 담당과목: {self.subject}, 담당직책: {self.job if self.job else '없음'} \"\n",
    "        "
   ]
  },
  {
   "cell_type": "code",
   "execution_count": 167,
   "metadata": {},
   "outputs": [
    {
     "name": "stdout",
     "output_type": "stream",
     "text": [
      "이름: 박선생, 나이: 30, 주소: 부산\n"
     ]
    }
   ],
   "source": [
    "t = Teacher3(\"박선생\", 30, \"부산\", \"수학\", \"학생주임\")\n",
    "info = t.get_info()\n",
    "print(info)"
   ]
  },
  {
   "cell_type": "code",
   "execution_count": 165,
   "metadata": {},
   "outputs": [
    {
     "name": "stdout",
     "output_type": "stream",
     "text": [
      "과목을 수정못함\n",
      "이름: 박선생, 나이: 30, 주소: 부산, 담당과목: 수학, 담당직책: 없음 \n"
     ]
    }
   ],
   "source": [
    "t.subject = None\n",
    "t.job = None\n",
    "info = t.get_info()\n",
    "print(info)"
   ]
  },
  {
   "cell_type": "code",
   "execution_count": null,
   "metadata": {},
   "outputs": [],
   "source": []
  },
  {
   "cell_type": "code",
   "execution_count": null,
   "metadata": {},
   "outputs": [],
   "source": []
  },
  {
   "cell_type": "code",
   "execution_count": null,
   "metadata": {
    "slideshow": {
     "slide_type": "fragment"
    }
   },
   "outputs": [],
   "source": []
  },
  {
   "cell_type": "markdown",
   "metadata": {
    "slideshow": {
     "slide_type": "slide"
    }
   },
   "source": [
    "## 객체 관련 유용한 내장 함수, 특수 변수\n",
    "-  **`isinstance(객체, 클래스이름-datatype)`** : bool\n",
    "    - 객체가 두번째 매개변수로 지정한 클래스의 타입이면 True, 아니면 False 반환\n",
    "    - 여러개의 타입여부를 확인할 경우 class이름(type)들을 **튜플(tuple)로** 묶어 준다.\n",
    "    - 상위 클래스는 하위 클래스객체의 타입이 되므로 객체와 그 객체의 상위 클래스 비교시 True가 나온다.\n",
    "- **`객체.__dict__`**\n",
    "     - 객체가 가지고 있는 Attribute 변수들과 대입된 값을 dictionary에 넣어 반환\n",
    "- **`객체.__class__`**\n",
    "    - 객체의 타입을 반환"
   ]
  },
  {
   "cell_type": "code",
   "execution_count": 189,
   "metadata": {},
   "outputs": [],
   "source": [
    "p = Person3(\"이름\", 30, \"주소\")\n",
    "t = Teacher3(\"이선생\", 40, \"부산\", \"영어\", \"교감\")\n",
    "s = Student3(\"장학생\", 14, \"서울\", 1)"
   ]
  },
  {
   "cell_type": "code",
   "execution_count": 190,
   "metadata": {},
   "outputs": [],
   "source": [
    "def test(person: Person3): #person의 하위 클래스 모두 가져오기\n",
    "    person.add_age(3)\n",
    "    print(person.get_info())"
   ]
  },
  {
   "cell_type": "code",
   "execution_count": 176,
   "metadata": {},
   "outputs": [
    {
     "data": {
      "text/plain": [
       "(False, False)"
      ]
     },
     "execution_count": 176,
     "metadata": {},
     "output_type": "execute_result"
    }
   ],
   "source": [
    "# 변수 p의 타입이 XXXX 인지?\n",
    "# type(p) == Person3\n",
    "isinstance(p, Person3)\n",
    "isinstance(p, Person), isinstance(p, str)"
   ]
  },
  {
   "cell_type": "code",
   "execution_count": 181,
   "metadata": {},
   "outputs": [
    {
     "data": {
      "text/plain": [
       "True"
      ]
     },
     "execution_count": 181,
     "metadata": {},
     "output_type": "execute_result"
    }
   ],
   "source": [
    "s = 30\n",
    "# type(s) == int\n",
    "isinstance(s, int)\n",
    "isinstance(s, float)\n",
    "isinstance(s, (int, float))  #s가 int 또는 float 타입인가?"
   ]
  },
  {
   "cell_type": "code",
   "execution_count": 186,
   "metadata": {},
   "outputs": [],
   "source": [
    "def function(value):\n",
    "    if isinstance(value, (int, float)):\n",
    "        print(value ** 2)\n",
    "    else:\n",
    "        print(\"계산 못하는 타입\", type(value))"
   ]
  },
  {
   "cell_type": "code",
   "execution_count": 187,
   "metadata": {},
   "outputs": [
    {
     "name": "stdout",
     "output_type": "stream",
     "text": [
      "100\n",
      "5.76\n",
      "계산 못하는 타입 <class 'str'>\n"
     ]
    }
   ],
   "source": [
    "function(10)\n",
    "function(2.4)\n",
    "function(\"20\")"
   ]
  },
  {
   "cell_type": "code",
   "execution_count": 190,
   "metadata": {},
   "outputs": [
    {
     "data": {
      "text/plain": [
       "(True, True)"
      ]
     },
     "execution_count": 190,
     "metadata": {},
     "output_type": "execute_result"
    }
   ],
   "source": [
    "isinstance(t, Teacher3), isinstance(s, Student3)"
   ]
  },
  {
   "cell_type": "code",
   "execution_count": 193,
   "metadata": {},
   "outputs": [
    {
     "data": {
      "text/plain": [
       "(True, True)"
      ]
     },
     "execution_count": 193,
     "metadata": {},
     "output_type": "execute_result"
    }
   ],
   "source": [
    "# 상위클래스가 자식클래스 객체의 타입이 된다.\n",
    "isinstance(t, Person3), isinstance(s, Person3)"
   ]
  },
  {
   "cell_type": "code",
   "execution_count": 199,
   "metadata": {},
   "outputs": [],
   "source": [
    "def func(value):\n",
    "    # Student, Teacher객체를 받아서 add_age() 이용해서 나이를 변경 하고 attribute들을 출력\n",
    "    if isinstance(value, Person3): # Person3, Person3의 모든 하위 객체 ==> True\n",
    "        value.add_age(1)\n",
    "        i = value.get_info()\n",
    "        print(i)"
   ]
  },
  {
   "cell_type": "code",
   "execution_count": 200,
   "metadata": {},
   "outputs": [
    {
     "name": "stdout",
     "output_type": "stream",
     "text": [
      "이름: 장학생, 나이: 16, 주소: 서울, 성적: 1\n"
     ]
    }
   ],
   "source": [
    "func(s)"
   ]
  },
  {
   "cell_type": "code",
   "execution_count": 201,
   "metadata": {},
   "outputs": [],
   "source": [
    "func(\"abc\")"
   ]
  },
  {
   "cell_type": "code",
   "execution_count": 202,
   "metadata": {},
   "outputs": [
    {
     "name": "stdout",
     "output_type": "stream",
     "text": [
      "나이를 변경못함\n",
      "이름: 이선생, 나이: 40, 주소: 부산\n"
     ]
    }
   ],
   "source": [
    "func(t)"
   ]
  },
  {
   "cell_type": "code",
   "execution_count": null,
   "metadata": {},
   "outputs": [],
   "source": [
    "e = 교직원(....)\n",
    "func(e)"
   ]
  },
  {
   "cell_type": "code",
   "execution_count": 204,
   "metadata": {},
   "outputs": [
    {
     "data": {
      "text/plain": [
       "{'_Person3__name': '이름', '_Person3__age': 30, '_Person3__address': '주소'}"
      ]
     },
     "execution_count": 204,
     "metadata": {},
     "output_type": "execute_result"
    }
   ],
   "source": [
    "p.__dict__"
   ]
  },
  {
   "cell_type": "code",
   "execution_count": 205,
   "metadata": {},
   "outputs": [
    {
     "data": {
      "text/plain": [
       "{'_Person3__name': '이선생',\n",
       " '_Person3__age': 40,\n",
       " '_Person3__address': '부산',\n",
       " '_Teacher3__subject': '영어',\n",
       " 'job': '교감'}"
      ]
     },
     "execution_count": 205,
     "metadata": {},
     "output_type": "execute_result"
    }
   ],
   "source": [
    "t.__dict__"
   ]
  },
  {
   "cell_type": "code",
   "execution_count": 206,
   "metadata": {},
   "outputs": [
    {
     "data": {
      "text/plain": [
       "{'_Person3__name': '장학생',\n",
       " '_Person3__age': 16,\n",
       " '_Person3__address': '서울',\n",
       " '_Student3__grade': 1}"
      ]
     },
     "execution_count": 206,
     "metadata": {},
     "output_type": "execute_result"
    }
   ],
   "source": [
    "s.__dict__"
   ]
  },
  {
   "cell_type": "code",
   "execution_count": 208,
   "metadata": {},
   "outputs": [
    {
     "data": {
      "text/plain": [
       "type"
      ]
     },
     "execution_count": 208,
     "metadata": {},
     "output_type": "execute_result"
    }
   ],
   "source": [
    "type(t.__class__)"
   ]
  },
  {
   "cell_type": "code",
   "execution_count": 211,
   "metadata": {},
   "outputs": [
    {
     "data": {
      "text/plain": [
       "'Teacher3'"
      ]
     },
     "execution_count": 211,
     "metadata": {},
     "output_type": "execute_result"
    }
   ],
   "source": [
    "t.__class__.__name__   # class이름을 문자열로 반환."
   ]
  },
  {
   "cell_type": "code",
   "execution_count": 212,
   "metadata": {},
   "outputs": [
    {
     "data": {
      "text/plain": [
       "'Student3'"
      ]
     },
     "execution_count": 212,
     "metadata": {},
     "output_type": "execute_result"
    }
   ],
   "source": [
    "s.__class__.__name__"
   ]
  },
  {
   "cell_type": "markdown",
   "metadata": {
    "slideshow": {
     "slide_type": "slide"
    }
   },
   "source": [
    "## 특수 메소드\n",
    "\n",
    "\n",
    "### 특수 메소드란\n",
    "- 특정한 상황에서 사용될 때 자동으로 호출되도록 파이썬 실행환경에 정의된 약속된 메소드들이다. 객체에 특정 기능들을 추가할 때 사용한다.\n",
    "    - 정의한 메소드와 그것을 호출하는 함수가 다르다.\n",
    "         - ex) `__init__()` => 객체 생성할 때 호출 된다.\n",
    "- 메소드 명이 더블 언더스코어로 시작하고 끝난다. \n",
    "    - ex) `__init__(), __str__()`\n",
    "- 매직 메소드(Magic Method), 던더(DUNDER) 메소드라고도 한다.\n",
    "- 특수메소드 종류\n",
    "    - https://docs.python.org/ko/3/reference/datamodel.html#special-method-names"
   ]
  },
  {
   "cell_type": "code",
   "execution_count": 192,
   "metadata": {},
   "outputs": [],
   "source": [
    "class Person:\n",
    "    \n",
    "    def __init__(self, name, age ,address=None):\n",
    "        self.__name = name\n",
    "        self.__age = age\n",
    "        self.__address = address\n",
    "        "
   ]
  },
  {
   "cell_type": "code",
   "execution_count": 193,
   "metadata": {},
   "outputs": [],
   "source": [
    "p = Person('이름', 20, '주소')"
   ]
  },
  {
   "cell_type": "code",
   "execution_count": 195,
   "metadata": {},
   "outputs": [],
   "source": [
    "class Person:\n",
    "    def __init__(self):\n",
    "        print(\"person객체가 생성됨.\")"
   ]
  },
  {
   "cell_type": "code",
   "execution_count": 197,
   "metadata": {},
   "outputs": [
    {
     "name": "stdout",
     "output_type": "stream",
     "text": [
      "person객체가 생성됨.\n"
     ]
    }
   ],
   "source": [
    "p = Person() # init을 실행하지 않았는데 함수를 호출하는 것만으로 __init이 실행되는 거는 특수메소드라서."
   ]
  },
  {
   "cell_type": "code",
   "execution_count": null,
   "metadata": {},
   "outputs": [],
   "source": []
  },
  {
   "cell_type": "code",
   "execution_count": null,
   "metadata": {},
   "outputs": [],
   "source": []
  },
  {
   "cell_type": "markdown",
   "metadata": {
    "slideshow": {
     "slide_type": "subslide"
    }
   },
   "source": [
    "### 주요 특수메소드\n",
    "- **`__init__(self [, …])`**\n",
    "    - Initializer\n",
    "    - 객체 생성시 호출 된다.\n",
    "    - 객체 생성시 Attribute의 값들을 초기화하는 것을 구현한다.\n",
    "    - self 변수로 받은 instance에 Attribute를 설정한다.\n",
    "- **`__call__(self [, …])`**\n",
    "- 객체를 함수처럼 호출 하면 실행되는 메소드\n",
    "    - Argument를 받을 Parameter 변수는 self 변수 다음에 필요한대로 선언한다.\n",
    "    - 처리결과를 반환하도록 구현할 경우 `return value` 구문을 넣는다. (필수는 아니다.)\n",
    "\n"
   ]
  },
  {
   "cell_type": "code",
   "execution_count": 202,
   "metadata": {
    "slideshow": {
     "slide_type": "fragment"
    }
   },
   "outputs": [],
   "source": [
    "class Plus:\n",
    "    def __init__(self, num1, num2):\n",
    "        self.num1 = num1\n",
    "        self.num2 = num2\n",
    "        \n",
    "#     def calculate(self):\n",
    "#         return self.num1 + self.num2\n",
    "\n",
    "    def __call__(self):\n",
    "        return self.num1 + self.num2\n",
    "    "
   ]
  },
  {
   "cell_type": "code",
   "execution_count": 203,
   "metadata": {},
   "outputs": [
    {
     "ename": "AttributeError",
     "evalue": "'Plus' object has no attribute 'calculate'",
     "output_type": "error",
     "traceback": [
      "\u001b[1;31m---------------------------------------------------------------------------\u001b[0m",
      "\u001b[1;31mAttributeError\u001b[0m                            Traceback (most recent call last)",
      "Cell \u001b[1;32mIn[203], line 2\u001b[0m\n\u001b[0;32m      1\u001b[0m p \u001b[38;5;241m=\u001b[39m Plus(\u001b[38;5;241m10\u001b[39m, \u001b[38;5;241m20\u001b[39m)\n\u001b[1;32m----> 2\u001b[0m p\u001b[38;5;241m.\u001b[39mcalculate()\n",
      "\u001b[1;31mAttributeError\u001b[0m: 'Plus' object has no attribute 'calculate'"
     ]
    }
   ],
   "source": [
    "p = Plus(10, 20)\n",
    "p.calculate()"
   ]
  },
  {
   "cell_type": "code",
   "execution_count": 204,
   "metadata": {},
   "outputs": [
    {
     "data": {
      "text/plain": [
       "30"
      ]
     },
     "execution_count": 204,
     "metadata": {},
     "output_type": "execute_result"
    }
   ],
   "source": [
    "p()"
   ]
  },
  {
   "cell_type": "code",
   "execution_count": 206,
   "metadata": {},
   "outputs": [],
   "source": [
    "class Square:\n",
    "    def __init__(self, num):\n",
    "        self.num = num\n",
    "        \n",
    "    def __call__(self, n):\n",
    "        return self.num ** n"
   ]
  },
  {
   "cell_type": "code",
   "execution_count": 207,
   "metadata": {},
   "outputs": [],
   "source": [
    "s = Square(2)"
   ]
  },
  {
   "cell_type": "code",
   "execution_count": 208,
   "metadata": {},
   "outputs": [
    {
     "data": {
      "text/plain": [
       "4"
      ]
     },
     "execution_count": 208,
     "metadata": {},
     "output_type": "execute_result"
    }
   ],
   "source": [
    "s(2)"
   ]
  },
  {
   "cell_type": "markdown",
   "metadata": {
    "slideshow": {
     "slide_type": "subslide"
    }
   },
   "source": [
    "- **`__repr__(self)`**\n",
    "    - Instance(객체) 자체를 표현할 수 있는 문자열을 반환한다.\n",
    "        - 보통 객체 생성하는 구문을 문자열로 반환한다.\n",
    "        - 반환된 문자열을 eval() 에 넣으면 동일한 attribute값들을 가진 객체를 생성할 수 있도록 정의한다.\n",
    "    - 내장함수 **repr(객체)** 호출할 때 이 메소드가 호출 된다.\n",
    "    - 대화형 IDE(REPL) 에서 객체를 참조하는 변수 출력할 때도 호출된다.\n",
    "> - eval(문자열)\n",
    ">     - 실행 가능한 구문의 문자열을 받아서 실행한다.\n",
    "\n",
    "- **`__str__(self)`**\n",
    "    - Instance(객체)의 Attribute들을 묶어서 문자열로 반환한다.\n",
    "    - 내장 함수 **str(객체)**  호출할 때 이 메소드가 호출 된다.\n",
    "        - str() 호출할 때 객체에 `__str__()`의 정의 안되 있으면 `__repr__()` 을 호출한다. `__repr__()`도 없으면 상위클래스에 정의된 `__str__()`을 호출한다.\n",
    "        - print() 함수는 값을 문자열로 변환해서 출력한다. 이때 그 값을 str() 에 넣어 문자열로 변환한다."
   ]
  },
  {
   "cell_type": "code",
   "execution_count": null,
   "metadata": {
    "slideshow": {
     "slide_type": "fragment"
    }
   },
   "outputs": [],
   "source": [
    "# repr \n",
    "객체 - 값 => 값의 표현식을 문자열로 반환. 30 => \"30\", True => \"True\"\n",
    "Square 객체(값) - Square(30) =>  \"Square(30)\"\n",
    "Person(\"이름\", 30, \"인천\") => 'Person(\"이름\", 30, \"인천\")'"
   ]
  },
  {
   "cell_type": "code",
   "execution_count": 225,
   "metadata": {},
   "outputs": [],
   "source": [
    "class Person:\n",
    "    def __init__(self, name, age, address):\n",
    "        self.name = name\n",
    "        self.age = age\n",
    "        self.address = address\n",
    "        \n",
    "    def __repr__(self):\n",
    "        return f\"Person('{self.name}', {self.age}, '{self.address}')\"\n",
    "    \n",
    "    def __str__(self):\n",
    "        return f\"이름:{self.name}, 나이:{self.age}, 주소:{self.address}\" "
   ]
  },
  {
   "cell_type": "code",
   "execution_count": 226,
   "metadata": {},
   "outputs": [],
   "source": [
    " v2 = str(p) #str(값) => 값.__str__() 의 값을 반환해준다."
   ]
  },
  {
   "cell_type": "code",
   "execution_count": null,
   "metadata": {},
   "outputs": [],
   "source": []
  },
  {
   "cell_type": "code",
   "execution_count": 214,
   "metadata": {},
   "outputs": [
    {
     "data": {
      "text/plain": [
       "\"Person('홍길동', 20, '서울')\""
      ]
     },
     "execution_count": 214,
     "metadata": {},
     "output_type": "execute_result"
    }
   ],
   "source": [
    "p = Person(\"홍길동\", 20, \"서울\")\n",
    "repr(p) #p.__repr__() 호출한 결과(str)를 반환 => p값을 만드는(생성하는) 구문을 반환."
   ]
  },
  {
   "cell_type": "code",
   "execution_count": 218,
   "metadata": {},
   "outputs": [
    {
     "data": {
      "text/plain": [
       "\"Person('홍길동', 20, '서울')\""
      ]
     },
     "execution_count": 218,
     "metadata": {},
     "output_type": "execute_result"
    }
   ],
   "source": [
    "v = repr(p)\n",
    "v"
   ]
  },
  {
   "cell_type": "code",
   "execution_count": 221,
   "metadata": {},
   "outputs": [
    {
     "data": {
      "text/plain": [
       "('홍길동', 20, '서울')"
      ]
     },
     "execution_count": 221,
     "metadata": {},
     "output_type": "execute_result"
    }
   ],
   "source": [
    "eval(\"1+1\")\n",
    "p2 = eval(v)\n",
    "p2.name, p2.age, p2.address"
   ]
  },
  {
   "cell_type": "code",
   "execution_count": 222,
   "metadata": {},
   "outputs": [
    {
     "name": "stdout",
     "output_type": "stream",
     "text": [
      "hello\n"
     ]
    }
   ],
   "source": [
    "print(\"hello\") # 값을 문자열로 변환 출력"
   ]
  },
  {
   "cell_type": "code",
   "execution_count": 223,
   "metadata": {},
   "outputs": [
    {
     "data": {
      "text/plain": [
       "'hello'"
      ]
     },
     "execution_count": 223,
     "metadata": {},
     "output_type": "execute_result"
    }
   ],
   "source": [
    "\"hello\" #값의 표현식을 출력 => __repr__() 반환값을 출력"
   ]
  },
  {
   "cell_type": "code",
   "execution_count": 224,
   "metadata": {},
   "outputs": [
    {
     "name": "stdout",
     "output_type": "stream",
     "text": [
      "'h'\n"
     ]
    },
    {
     "data": {
      "text/plain": [
       "3"
      ]
     },
     "execution_count": 224,
     "metadata": {},
     "output_type": "execute_result"
    }
   ],
   "source": [
    "ss = repr(\"h\")\n",
    "print(ss)\n",
    "len(ss)"
   ]
  },
  {
   "cell_type": "code",
   "execution_count": null,
   "metadata": {},
   "outputs": [],
   "source": []
  },
  {
   "cell_type": "markdown",
   "metadata": {
    "slideshow": {
     "slide_type": "subslide"
    }
   },
   "source": [
    "#### 연산자 재정의(Operator overriding) 관련 특수 메소드\n",
    "- 연산자의 피연산자로 객체를 사용하면 호출되는 메소드들\n",
    "- 다항연산자일 경우 가장 왼쪽의 객체에 정의된 메소드가 호출된다.\n",
    "    - `a + b` 일경우 a의 `__add__()` 가 호출된다.\n",
    "- **비교 연산자**\n",
    "    - **`__eq__(self, other)`** : self == other\n",
    "        - == 로 객체의 내용을 비교할 때 정의 한다.\n",
    "    - **`__lt__(self, other)`** : self < other, \n",
    "    - **`__gt__(self, other)`**: self > other\n",
    "        - min()이나 max()에서 인수로 사용할 경우 정의해야 한다.\n",
    "    - **`__le__(self, other)`**: self <= other\n",
    "    - **`__ge__(self, other)`**: self >= other\n",
    "    - **`__ne__(self, other)`**: self != other"
   ]
  },
  {
   "cell_type": "markdown",
   "metadata": {
    "slideshow": {
     "slide_type": "fragment"
    }
   },
   "source": [
    "- **산술 연산자**\n",
    "    - **`__add__(self, other)`**: self + other\n",
    "    - **`__sub__(self, other)`**: self - other\n",
    "    - **`__mul__(self, other)`**: self * other\n",
    "    - **`__truediv__(self, other)`**: self / other\n",
    "    - **`__floordiv__(self, other)`**: self // other\n",
    "    - **`__mod__(self, other)`**: self % other"
   ]
  },
  {
   "cell_type": "code",
   "execution_count": 262,
   "metadata": {},
   "outputs": [],
   "source": [
    "class Person:\n",
    "    def __init__(self, name, age, address):\n",
    "        self.name = name\n",
    "        self.age = age\n",
    "        self.address = address\n",
    "        \n",
    "    def __repr__(self):\n",
    "        return f\"Person('{self.name}', {self.age}, '{self.address}')\"\n",
    "    \n",
    "    def __str__(self):\n",
    "        return f\"이름:{self.name}, 나이:{self.age}, 주소:{self.address}\"\n",
    "    \n",
    "    def __eq__(self, other):\n",
    "        #self == other 연산시 호출 - 속성값이 같으면 True가 나오도록 처리\n",
    "        if isinstance(other, Person):\n",
    "            return self.name == other.name and self.age == other.age and self.address == other.address\n",
    "        else:\n",
    "            return False\n",
    "        \n",
    "    def __gt__(self, other):\n",
    "        # self > other 연산시 호출 - 나이비교\n",
    "        if isinstance(other, Person):\n",
    "            return self.age > other.age\n",
    "        elif isinstance(other, (int, float)):\n",
    "            #self > 30, self > 25.4\n",
    "            return self.age > other\n",
    "        else :\n",
    "            # 값자체가 비교 불가이므로 - error 가 나와야함.\n",
    "#             return False\n",
    "             raise TypeError(f\"Person 타입과 {type(other)}는 '>' 연산을 할 수 없습니다.\")\n",
    "        \n",
    "        \n",
    "    "
   ]
  },
  {
   "cell_type": "code",
   "execution_count": 263,
   "metadata": {},
   "outputs": [
    {
     "data": {
      "text/plain": [
       "False"
      ]
     },
     "execution_count": 263,
     "metadata": {},
     "output_type": "execute_result"
    }
   ],
   "source": [
    "p1 = Person(\"홍길동\", 20, \"서울\")\n",
    "p2 = Person(\"홍길동2\", 10, \"서울3\")\n",
    "p3 = p1\n",
    "p4 = Person(\"홍길동\", 20, \"서울d\")\n",
    "\n",
    "p1 == p2 #p1, p2가 같은 객체인지 확인. \n",
    "p1 == p4 #False 값은 같지만 객체가 달라서 - "
   ]
  },
  {
   "cell_type": "code",
   "execution_count": 264,
   "metadata": {},
   "outputs": [
    {
     "data": {
      "text/plain": [
       "True"
      ]
     },
     "execution_count": 264,
     "metadata": {},
     "output_type": "execute_result"
    }
   ],
   "source": [
    "p1 > p2"
   ]
  },
  {
   "cell_type": "code",
   "execution_count": 265,
   "metadata": {},
   "outputs": [
    {
     "ename": "TypeError",
     "evalue": "Person 타입과 <class 'str'>는 '>' 연산을 할 수 없습니다.",
     "output_type": "error",
     "traceback": [
      "\u001b[1;31m---------------------------------------------------------------------------\u001b[0m",
      "\u001b[1;31mTypeError\u001b[0m                                 Traceback (most recent call last)",
      "Cell \u001b[1;32mIn[265], line 1\u001b[0m\n\u001b[1;32m----> 1\u001b[0m p1 \u001b[38;5;241m>\u001b[39m \u001b[38;5;124m\"\u001b[39m\u001b[38;5;124mtma\u001b[39m\u001b[38;5;124m\"\u001b[39m\n",
      "Cell \u001b[1;32mIn[262], line 30\u001b[0m, in \u001b[0;36mPerson.__gt__\u001b[1;34m(self, other)\u001b[0m\n\u001b[0;32m     26\u001b[0m             \u001b[38;5;28;01mreturn\u001b[39;00m \u001b[38;5;28mself\u001b[39m\u001b[38;5;241m.\u001b[39mage \u001b[38;5;241m>\u001b[39m other\n\u001b[0;32m     27\u001b[0m         \u001b[38;5;28;01melse\u001b[39;00m :\n\u001b[0;32m     28\u001b[0m             \u001b[38;5;66;03m# 값자체가 비교 불가이므로 - error 가 나와야함.\u001b[39;00m\n\u001b[0;32m     29\u001b[0m \u001b[38;5;66;03m#             return False\u001b[39;00m\n\u001b[1;32m---> 30\u001b[0m              \u001b[38;5;28;01mraise\u001b[39;00m \u001b[38;5;167;01mTypeError\u001b[39;00m(\u001b[38;5;124mf\u001b[39m\u001b[38;5;124m\"\u001b[39m\u001b[38;5;124mPerson 타입과 \u001b[39m\u001b[38;5;132;01m{\u001b[39;00m\u001b[38;5;28mtype\u001b[39m(other)\u001b[38;5;132;01m}\u001b[39;00m\u001b[38;5;124m는 \u001b[39m\u001b[38;5;124m'\u001b[39m\u001b[38;5;124m>\u001b[39m\u001b[38;5;124m'\u001b[39m\u001b[38;5;124m 연산을 할 수 없습니다.\u001b[39m\u001b[38;5;124m\"\u001b[39m)\n",
      "\u001b[1;31mTypeError\u001b[0m: Person 타입과 <class 'str'>는 '>' 연산을 할 수 없습니다."
     ]
    }
   ],
   "source": [
    "p1 > \"tma\""
   ]
  },
  {
   "cell_type": "markdown",
   "metadata": {
    "slideshow": {
     "slide_type": "slide"
    }
   },
   "source": [
    "# class변수, class 메소드\n",
    "- **class변수**\n",
    "    - (Intance가 아닌) 클래스 자체의 데이터\n",
    "    - Attribute가 객체별로 생성된다면, class변수는 클래스당 하나가 생성된다.\n",
    "    - 구현\n",
    "        - class 블럭에 변수 선언.\n",
    "- **class 메소드**\n",
    "    - 클래스 변수를 처리하는 메소드\n",
    "    - 구현\n",
    "        - @classmethod 데코레이터를 붙인다.\n",
    "        - 첫번째 매개변수로 클래스를 받는 변수를 선언한다. 이 변수를 이용해 클래스 변수나 다른 클래스 메소드를 호출 한다."
   ]
  },
  {
   "cell_type": "markdown",
   "metadata": {
    "slideshow": {
     "slide_type": "subslide"
    }
   },
   "source": [
    "# static 메소드\n",
    "- 클래스의 메소드로 클래스 변수와 상관없는 단순기능을 정의한다.\n",
    "    - Caller 에서 받은 argument만 가지고 일하는 메소드를 구현한다.\n",
    "- 구현\n",
    "    - @staticmethod 데코레이터를 붙인다.\n",
    "    - Parameter에 대한 규칙은 없이 필요한 변수들만 선언한다.\n",
    "    "
   ]
  },
  {
   "cell_type": "markdown",
   "metadata": {
    "slideshow": {
     "slide_type": "fragment"
    }
   },
   "source": [
    "## class 메소드/변수, static 메소드 호출\n",
    "- 클래스이름.변수\n",
    "- 클래스이름.메소드() "
   ]
  },
  {
   "cell_type": "code",
   "execution_count": 282,
   "metadata": {
    "slideshow": {
     "slide_type": "fragment"
    }
   },
   "outputs": [],
   "source": [
    "class Circle:\n",
    "    __PI = 3.14 #class 의 변수가 된다. \n",
    "    \n",
    "    #PI의 값을 변경(setter) 및 조회(getter)\n",
    "    @classmethod  #클래스 메소드임을 지정함\n",
    "    def set_PI(cls, new_PI): # cls는 class 자체 (첫번째 파라미터) \n",
    "        # Circle.set_PI(3.14) : CIrcle을 cls 또는 clazz로 표현. \n",
    "        if new_PI in [3.14, 3.14159] :\n",
    "           cls.__PI = new_PI\n",
    "        else :\n",
    "            print(\"변경못함 현재 PI값:\", cls.__PI)\n",
    "            \n",
    "    @classmethod \n",
    "    def get_PI(cls):\n",
    "        return cls.__PI\n",
    "    \n",
    "    def __init__(self, radius) :\n",
    "        # self => attribute(instance 변수), 다른 instance method 호출\n",
    "        self.radius= radius\n",
    "        \n",
    "    def calc_area(): #원의 너비를 구하기\n",
    "        return self.radius * self.radius * Circle.PI #method에서 class 변수사용\n",
    "    \n",
    "    @staticmethod\n",
    "    def class_version():\n",
    "        #class변수나 instance 변수를 사용하지 않는 메소드\n",
    "        # 함수처럼 사용하는 메소드(클래스 소속)\n",
    "        return \"1.0\""
   ]
  },
  {
   "cell_type": "code",
   "execution_count": 280,
   "metadata": {},
   "outputs": [
    {
     "ename": "AttributeError",
     "evalue": "'Circle' object has no attribute 'PI'",
     "output_type": "error",
     "traceback": [
      "\u001b[1;31m---------------------------------------------------------------------------\u001b[0m",
      "\u001b[1;31mAttributeError\u001b[0m                            Traceback (most recent call last)",
      "Cell \u001b[1;32mIn[280], line 2\u001b[0m\n\u001b[0;32m      1\u001b[0m c\u001b[38;5;241m=\u001b[39m Circle(\u001b[38;5;241m5\u001b[39m)\n\u001b[1;32m----> 2\u001b[0m \u001b[38;5;28mprint\u001b[39m(c\u001b[38;5;241m.\u001b[39mPI)\n",
      "\u001b[1;31mAttributeError\u001b[0m: 'Circle' object has no attribute 'PI'"
     ]
    }
   ],
   "source": [
    "c= Circle(5)\n",
    "print(c.PI)"
   ]
  },
  {
   "cell_type": "code",
   "execution_count": 274,
   "metadata": {},
   "outputs": [],
   "source": [
    "# class 변수 변경\n",
    "Circle.PI = 3.1415"
   ]
  },
  {
   "cell_type": "code",
   "execution_count": 283,
   "metadata": {},
   "outputs": [
    {
     "data": {
      "text/plain": [
       "'1.0'"
      ]
     },
     "execution_count": 283,
     "metadata": {},
     "output_type": "execute_result"
    }
   ],
   "source": [
    "Circle.class_version()\n"
   ]
  },
  {
   "cell_type": "code",
   "execution_count": null,
   "metadata": {},
   "outputs": [],
   "source": []
  }
 ],
 "metadata": {
  "kernelspec": {
   "display_name": "Python 3 (ipykernel)",
   "language": "python",
   "name": "python3"
  },
  "language_info": {
   "codemirror_mode": {
    "name": "ipython",
    "version": 3
   },
   "file_extension": ".py",
   "mimetype": "text/x-python",
   "name": "python",
   "nbconvert_exporter": "python",
   "pygments_lexer": "ipython3",
   "version": "3.11.4"
  },
  "toc": {
   "base_numbering": 1,
   "nav_menu": {},
   "number_sections": true,
   "sideBar": true,
   "skip_h1_title": false,
   "title_cell": "Table of Contents",
   "title_sidebar": "Contents",
   "toc_cell": false,
   "toc_position": {},
   "toc_section_display": true,
   "toc_window_display": false
  },
  "varInspector": {
   "cols": {
    "lenName": 16,
    "lenType": 16,
    "lenVar": 40
   },
   "kernels_config": {
    "python": {
     "delete_cmd_postfix": "",
     "delete_cmd_prefix": "del ",
     "library": "var_list.py",
     "varRefreshCmd": "print(var_dic_list())"
    },
    "r": {
     "delete_cmd_postfix": ") ",
     "delete_cmd_prefix": "rm(",
     "library": "var_list.r",
     "varRefreshCmd": "cat(var_dic_list()) "
    }
   },
   "types_to_exclude": [
    "module",
    "function",
    "builtin_function_or_method",
    "instance",
    "_Feature"
   ],
   "window_display": false
  }
 },
 "nbformat": 4,
 "nbformat_minor": 4
}
