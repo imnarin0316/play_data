{
 "cells": [
  {
   "cell_type": "code",
   "execution_count": 1,
   "id": "4d423af9",
   "metadata": {},
   "outputs": [],
   "source": [
    "import pandas as pd"
   ]
  },
  {
   "cell_type": "code",
   "execution_count": 40,
   "id": "76ab50ea",
   "metadata": {},
   "outputs": [],
   "source": [
    "students = []\n",
    "names = []\n",
    "ages = []\n",
    "addresses = []\n",
    "g1 = []\n",
    "g2 = []\n",
    "g3 = []\n",
    "imgs = []\n"
   ]
  },
  {
   "cell_type": "code",
   "execution_count": 51,
   "id": "3dfb8de2",
   "metadata": {},
   "outputs": [],
   "source": [
    "class StudentInfo:\n",
    "    \n",
    "    def __init__(self):\n",
    "        print(\"정보조회 시작\")\n",
    "    \n",
    "    def get_info(self, file_name):\n",
    "        global students, names, ages, addresses, g1, g2, g3, imgs\n",
    "        \n",
    "        students = pd.read_csv(file_name)\n",
    "        names = students['이름'].tolist()\n",
    "        ages = students['나이'].tolist()\n",
    "        addresses = students['주소'].tolist()\n",
    "        g1 = students['국'].tolist()\n",
    "        g2 = students['영'].tolist()\n",
    "        g3 = students['수'].tolist()\n",
    "        imgs = students['사진'].tolist()\n",
    "        \n",
    "#     def change_save(self, idx, )\n",
    "        "
   ]
  },
  {
   "cell_type": "code",
   "execution_count": 52,
   "id": "4d72539a",
   "metadata": {},
   "outputs": [
    {
     "name": "stdout",
     "output_type": "stream",
     "text": [
      "정보조회 시작\n"
     ]
    }
   ],
   "source": [
    "student_data = StudentInfo()\n",
    "student_data.get_info(\"student_info.csv\")"
   ]
  },
  {
   "cell_type": "code",
   "execution_count": 62,
   "id": "9da443ee",
   "metadata": {},
   "outputs": [],
   "source": [
    "students.loc[0, ['이름', '나이', '주소', '국', '영', '수', '사진']] = ['김블루',16,'창원',70,90,80,\"\"\"./python_basic/ClassFunc/button_image_0.png\"\"\"]"
   ]
  },
  {
   "cell_type": "code",
   "execution_count": 63,
   "id": "0fc1924c",
   "metadata": {},
   "outputs": [
    {
     "data": {
      "text/plain": [
       "이름                                            김블루\n",
       "나이                                             16\n",
       "주소                                             창원\n",
       "국                                              70\n",
       "영                                              90\n",
       "수                                              80\n",
       "사진    ./python_basic/ClassFunc/button_image_0.png\n",
       "Name: 0, dtype: object"
      ]
     },
     "execution_count": 63,
     "metadata": {},
     "output_type": "execute_result"
    }
   ],
   "source": [
    "students.loc[0]"
   ]
  },
  {
   "cell_type": "code",
   "execution_count": null,
   "id": "574469fa",
   "metadata": {},
   "outputs": [],
   "source": []
  }
 ],
 "metadata": {
  "kernelspec": {
   "display_name": "Python 3 (ipykernel)",
   "language": "python",
   "name": "python3"
  },
  "language_info": {
   "codemirror_mode": {
    "name": "ipython",
    "version": 3
   },
   "file_extension": ".py",
   "mimetype": "text/x-python",
   "name": "python",
   "nbconvert_exporter": "python",
   "pygments_lexer": "ipython3",
   "version": "3.11.4"
  }
 },
 "nbformat": 4,
 "nbformat_minor": 5
}
